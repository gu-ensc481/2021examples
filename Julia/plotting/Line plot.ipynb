{
 "cells": [
  {
   "cell_type": "code",
   "execution_count": null,
   "metadata": {},
   "outputs": [],
   "source": [
    "using Pkg\n",
    "Pkg.activate(\".\")\n",
    "using Plots # Let's use the default plotting library\n",
    "using LaTeXStrings # add's L\"strings\" so we can use LaTeX math stuff in labels"
   ]
  },
  {
   "cell_type": "code",
   "execution_count": null,
   "metadata": {},
   "outputs": [],
   "source": [
    "x = LinRange(-2,4,200) # Like Matlab's linspace"
   ]
  },
  {
   "cell_type": "markdown",
   "metadata": {},
   "source": [
    "now let's assume we want to plot a function"
   ]
  },
  {
   "cell_type": "code",
   "execution_count": null,
   "metadata": {},
   "outputs": [],
   "source": [
    "f(x,β) = cos(β*x)*sin(3*β*x + 1)"
   ]
  },
  {
   "cell_type": "markdown",
   "metadata": {},
   "source": [
    "Note, I didn't have to include the periods on each binary operator.  Instead I can use a period when I call the function `f`"
   ]
  },
  {
   "cell_type": "code",
   "execution_count": null,
   "metadata": {},
   "outputs": [],
   "source": [
    "f.([1,1.5,3], √π )"
   ]
  },
  {
   "cell_type": "code",
   "execution_count": null,
   "metadata": {},
   "outputs": [],
   "source": [
    "y = f.(x, 2);"
   ]
  },
  {
   "cell_type": "code",
   "execution_count": null,
   "metadata": {},
   "outputs": [],
   "source": [
    "plt = plot( x, y, \n",
    "    xlabel = L\"x\",\n",
    "    ylabel = L\"f(x,\\beta)\",\n",
    "    label = L\"\\beta = 2\")"
   ]
  },
  {
   "cell_type": "markdown",
   "metadata": {},
   "source": [
    "Now I'll add a second line to the graph (which I should do in the cell above, but I want to illustrate I don't have to).  Note I used the `!` version of `plot` to indicate an inplace change to the current plot.  Also, I've added the optional argument `plt` (saved from before) to explicitly modify the previous plot.  We could have multiple plots and interact with them however/whenever we need to using this type of pattern."
   ]
  },
  {
   "cell_type": "code",
   "execution_count": null,
   "metadata": {},
   "outputs": [],
   "source": [
    "plot!(plt, x, f.(x,4), label = L\"\\beta = 4\")"
   ]
  },
  {
   "cell_type": "markdown",
   "metadata": {},
   "source": [
    "Another fun part to this example is that `plot` also takes functions as input, similar to `fplot` in Matlab.  It has a relatively nice way to pick points, so it'll make a better looking plot (usually) than simply picking equally spaced points.  The arguements for `plot` are a little different this time so be careful.  I specify the function, the lower edge of the domain, and the upper edge of the domain.\n",
    "\n",
    "I'll use an annonymous function similar to the `@` functions in Matlab.  Here we use `x->f(x)` instead of `@(x) f(x)`.  This lets us hold $\\beta$ fixed and map our function `f` of two variables into a function of a single variable.  "
   ]
  },
  {
   "cell_type": "code",
   "execution_count": null,
   "metadata": {},
   "outputs": [],
   "source": [
    "plot!(plt, t->f(t,3), x[1], x[end], label = L\"\\beta = 3\")"
   ]
  },
  {
   "cell_type": "markdown",
   "metadata": {},
   "source": [
    "## Log plots\n",
    "Now let's make a log plot.  I'll use points for some, and functions for others just to mix it up.  Usually you'll just use one for a given plot."
   ]
  },
  {
   "cell_type": "code",
   "execution_count": null,
   "metadata": {},
   "outputs": [],
   "source": [
    "G(s,ζ) = 1/(s^2 + 2*ζ*s + 1)\n",
    "M(ω,ζ) = 20*log10( abs(G(1im*ω, ζ)) )\n",
    "ωr = 10 .^ LinRange(-1, 1, 200) # like logspace in Matlab\n",
    ";"
   ]
  },
  {
   "cell_type": "code",
   "execution_count": null,
   "metadata": {},
   "outputs": [],
   "source": [
    "plt2 = plot( t->M(t,0.01), ωr[1], ωr[end],\n",
    "             xscale = :log10,\n",
    "            label = L\"\\zeta = 0.01\")\n",
    "plot!( plt2, t->M(t, 0.1),ωr[1],ωr[end], label = L\"\\zeta = 0.1\")\n",
    "plot!( plt2, ωr, M.(ωr, 0.2), label = L\"\\zeta = 0.2\")\n",
    "plot!( plt2, ωr, M.(ωr, 0.5), label = L\"\\zeta = 0.5\")\n",
    "plot!( plt2, ωr, M.(ωr, 1/sqrt(2)), line=:dash, label = L\"\\zeta = 0.707\")\n",
    "plot!( plt2, ωr, M.(ωr, 1), label = L\"\\zeta = 1.0\")\n",
    "plot!( plt2, xlabel=\"Input frequency omega [rad/s]\", \n",
    "    ylabel=\"Magnitude [dB]\" )"
   ]
  },
  {
   "cell_type": "markdown",
   "metadata": {},
   "source": [
    "We know (or at least we can determine) from analysis that the peak happens when $$\\omega_p = \\sqrt{1-2\\zeta^2}$$\n",
    "So we can use composition and also include the peak curve on the magnitude plot."
   ]
  },
  {
   "cell_type": "code",
   "execution_count": null,
   "metadata": {},
   "outputs": [],
   "source": [
    "ωp(ζ) = sqrt(1-2*ζ^2)\n",
    "plot!(plt2, ωp, ζ->M.(ωp(ζ),ζ), 0.01, 0.5,\n",
    "    line=:dot,\n",
    "    label=\"Peak in Magnitude\")"
   ]
  },
  {
   "cell_type": "code",
   "execution_count": null,
   "metadata": {},
   "outputs": [],
   "source": []
  }
 ],
 "metadata": {
  "@webio": {
   "lastCommId": null,
   "lastKernelId": null
  },
  "kernelspec": {
   "display_name": "Julia 1.5.2",
   "language": "julia",
   "name": "julia-1.5"
  },
  "language_info": {
   "file_extension": ".jl",
   "mimetype": "application/julia",
   "name": "julia",
   "version": "1.5.2"
  }
 },
 "nbformat": 4,
 "nbformat_minor": 4
}
