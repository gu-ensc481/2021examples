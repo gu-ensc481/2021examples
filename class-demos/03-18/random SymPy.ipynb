{
 "cells": [
  {
   "cell_type": "code",
   "execution_count": 1,
   "id": "signal-relevance",
   "metadata": {},
   "outputs": [],
   "source": [
    "using SymPy"
   ]
  },
  {
   "cell_type": "code",
   "execution_count": 3,
   "id": "charitable-paper",
   "metadata": {},
   "outputs": [
    {
     "data": {
      "text/latex": [
       "$\\begin{equation*}x{\\left(t \\right)}\\end{equation*}$\n"
      ],
      "text/plain": [
       "x(t)"
      ]
     },
     "execution_count": 3,
     "metadata": {},
     "output_type": "execute_result"
    }
   ],
   "source": [
    "t,m = symbols(\"t,m\")\n",
    "x = SymFunction(\"x\")(t)"
   ]
  },
  {
   "cell_type": "code",
   "execution_count": 4,
   "id": "furnished-resistance",
   "metadata": {},
   "outputs": [
    {
     "data": {
      "text/latex": [
       "$\\begin{equation*}\\frac{m \\left(\\frac{d}{d t} x{\\left(t \\right)}\\right)^{2}}{2}\\end{equation*}$\n"
      ],
      "text/plain": [
       "            2\n",
       "  /d       \\ \n",
       "m*|--(x(t))| \n",
       "  \\dt      / \n",
       "-------------\n",
       "      2      "
      ]
     },
     "execution_count": 4,
     "metadata": {},
     "output_type": "execute_result"
    }
   ],
   "source": [
    "T = 1//2*m*diff(x,t)^2"
   ]
  },
  {
   "cell_type": "code",
   "execution_count": 5,
   "id": "surprising-partition",
   "metadata": {},
   "outputs": [
    {
     "data": {
      "text/latex": [
       "$\\begin{equation*}m \\frac{d}{d t} x{\\left(t \\right)}\\end{equation*}$\n"
      ],
      "text/plain": [
       "  d       \n",
       "m*--(x(t))\n",
       "  dt      "
      ]
     },
     "execution_count": 5,
     "metadata": {},
     "output_type": "execute_result"
    }
   ],
   "source": [
    "diff(T, diff(x,t))"
   ]
  },
  {
   "cell_type": "code",
   "execution_count": null,
   "id": "democratic-capacity",
   "metadata": {},
   "outputs": [],
   "source": []
  }
 ],
 "metadata": {
  "kernelspec": {
   "display_name": "Julia 1.5.3",
   "language": "julia",
   "name": "julia-1.5"
  },
  "language_info": {
   "file_extension": ".jl",
   "mimetype": "application/julia",
   "name": "julia",
   "version": "1.5.4"
  }
 },
 "nbformat": 4,
 "nbformat_minor": 5
}
