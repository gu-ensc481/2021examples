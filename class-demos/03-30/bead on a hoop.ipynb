{
 "cells": [
  {
   "cell_type": "code",
   "execution_count": 18,
   "id": "hydraulic-decline",
   "metadata": {},
   "outputs": [],
   "source": [
    "using SymPy\n",
    "using LinearAlgebra"
   ]
  },
  {
   "cell_type": "code",
   "execution_count": 32,
   "id": "passive-sleeve",
   "metadata": {},
   "outputs": [],
   "source": [
    "m, g,R,t = symbols(\"m, g,R,t\", positive=true, real=true)\n",
    "θ = SymFunction(\"theta\")(t)\n",
    "Ω = SymFunction(\"Omega\")(t)\n",
    ";"
   ]
  },
  {
   "cell_type": "code",
   "execution_count": 3,
   "id": "variable-harvest",
   "metadata": {},
   "outputs": [],
   "source": [
    "e1 = [1,0,0]\n",
    "e2 = [0,1,0]\n",
    "e3 = [0,0,1];"
   ]
  },
  {
   "cell_type": "code",
   "execution_count": 20,
   "id": "legal-thanksgiving",
   "metadata": {},
   "outputs": [
    {
     "data": {
      "text/latex": [
       "$\\left[ \\begin{array}{r}0\\\\\\Omega{\\left(t \\right)}\\\\0\\end{array} \\right]$\n"
      ],
      "text/plain": [
       "3-element Vector{Sym}:\n",
       "        0\n",
       " Omega(t)\n",
       "        0"
      ]
     },
     "execution_count": 20,
     "metadata": {},
     "output_type": "execute_result"
    }
   ],
   "source": [
    "r = R*(sin(θ)*e1 - cos(θ)*e2)\n",
    "ω = Ω*e2"
   ]
  },
  {
   "cell_type": "code",
   "execution_count": 22,
   "id": "annoying-implementation",
   "metadata": {},
   "outputs": [
    {
     "data": {
      "text/latex": [
       "$\\left[ \\begin{array}{r}R \\cos{\\left(\\theta{\\left(t \\right)} \\right)} \\frac{d}{d t} \\theta{\\left(t \\right)}\\\\R \\sin{\\left(\\theta{\\left(t \\right)} \\right)} \\frac{d}{d t} \\theta{\\left(t \\right)}\\\\- R \\Omega{\\left(t \\right)} \\sin{\\left(\\theta{\\left(t \\right)} \\right)}\\end{array} \\right]$\n"
      ],
      "text/plain": [
       "3-element Vector{Sym}:\n",
       " R*cos(theta(t))*Derivative(theta(t), t)\n",
       " R*sin(theta(t))*Derivative(theta(t), t)\n",
       "               -R*Omega(t)*sin(theta(t))"
      ]
     },
     "execution_count": 22,
     "metadata": {},
     "output_type": "execute_result"
    }
   ],
   "source": [
    "v = diff.(r,t) + cross(ω, r)"
   ]
  },
  {
   "cell_type": "code",
   "execution_count": 34,
   "id": "saved-recommendation",
   "metadata": {},
   "outputs": [
    {
     "data": {
      "text/latex": [
       "$\\begin{equation*}\\frac{R^{2} m \\left(\\Omega^{2}{\\left(t \\right)} \\sin^{2}{\\left(\\theta{\\left(t \\right)} \\right)} + \\left(\\frac{d}{d t} \\theta{\\left(t \\right)}\\right)^{2}\\right)}{2}\\end{equation*}$\n"
      ],
      "text/plain": [
       "     /                                         2\\\n",
       " 2   |     2       2             /d           \\ |\n",
       "R *m*|Omega (t)*sin (theta(t)) + |--(theta(t))| |\n",
       "     \\                           \\dt          / /\n",
       "-------------------------------------------------\n",
       "                        2                        "
      ]
     },
     "execution_count": 34,
     "metadata": {},
     "output_type": "execute_result"
    }
   ],
   "source": [
    "T = 1//2*m*sum(v.*v) |> simplify"
   ]
  },
  {
   "cell_type": "code",
   "execution_count": 36,
   "id": "correct-respondent",
   "metadata": {},
   "outputs": [
    {
     "data": {
      "text/latex": [
       "$\\begin{equation*}- R g m \\cos{\\left(\\theta{\\left(t \\right)} \\right)}\\end{equation*}$\n"
      ],
      "text/plain": [
       "-R*g*m*cos(theta(t))"
      ]
     },
     "execution_count": 36,
     "metadata": {},
     "output_type": "execute_result"
    }
   ],
   "source": [
    "V = m*g*sum(r.*e2)"
   ]
  },
  {
   "cell_type": "code",
   "execution_count": 39,
   "id": "excited-introduction",
   "metadata": {},
   "outputs": [
    {
     "data": {
      "text/latex": [
       "$\\begin{equation*}\\frac{R^{2} m \\left(\\Omega^{2}{\\left(t \\right)} \\sin^{2}{\\left(\\theta{\\left(t \\right)} \\right)} + \\left(\\frac{d}{d t} \\theta{\\left(t \\right)}\\right)^{2}\\right)}{2} + R g m \\cos{\\left(\\theta{\\left(t \\right)} \\right)}\\end{equation*}$\n"
      ],
      "text/plain": [
       "     /                                         2\\                      \n",
       " 2   |     2       2             /d           \\ |                      \n",
       "R *m*|Omega (t)*sin (theta(t)) + |--(theta(t))| |                      \n",
       "     \\                           \\dt          / /                      \n",
       "------------------------------------------------- + R*g*m*cos(theta(t))\n",
       "                        2                                              "
      ]
     },
     "execution_count": 39,
     "metadata": {},
     "output_type": "execute_result"
    }
   ],
   "source": [
    "L = T-V"
   ]
  },
  {
   "cell_type": "code",
   "execution_count": 49,
   "id": "defined-cuisine",
   "metadata": {},
   "outputs": [
    {
     "data": {
      "text/latex": [
       "$\\begin{equation*}- R^{2} m \\Omega^{2}{\\left(t \\right)} \\sin{\\left(\\theta{\\left(t \\right)} \\right)} \\cos{\\left(\\theta{\\left(t \\right)} \\right)} + R^{2} m \\frac{d^{2}}{d t^{2}} \\theta{\\left(t \\right)} + R g m \\sin{\\left(\\theta{\\left(t \\right)} \\right)}\\end{equation*}$\n"
      ],
      "text/plain": [
       "                                                      2                       \n",
       "   2        2                                   2    d                        \n",
       "- R *m*Omega (t)*sin(theta(t))*cos(theta(t)) + R *m*---(theta(t)) + R*g*m*sin(\n",
       "                                                      2                       \n",
       "                                                    dt                        \n",
       "\n",
       "         \n",
       "         \n",
       "theta(t))\n",
       "         \n",
       "         "
      ]
     },
     "execution_count": 49,
     "metadata": {},
     "output_type": "execute_result"
    }
   ],
   "source": [
    "eom = (diff(L, diff(θ,t), t ) - diff(L,θ))"
   ]
  },
  {
   "cell_type": "code",
   "execution_count": 53,
   "id": "human-malpractice",
   "metadata": {},
   "outputs": [
    {
     "data": {
      "text/latex": [
       "$\\begin{equation*}\\frac{\\left(R \\Omega^{2}{\\left(t \\right)} \\cos{\\left(\\theta{\\left(t \\right)} \\right)} - g\\right) \\sin{\\left(\\theta{\\left(t \\right)} \\right)}}{R}\\end{equation*}$\n"
      ],
      "text/plain": [
       "/       2                     \\              \n",
       "\\R*Omega (t)*cos(theta(t)) - g/*sin(theta(t))\n",
       "---------------------------------------------\n",
       "                      R                      "
      ]
     },
     "execution_count": 53,
     "metadata": {},
     "output_type": "execute_result"
    }
   ],
   "source": [
    "solve(eom, diff(θ,t,t))[1]"
   ]
  },
  {
   "cell_type": "code",
   "execution_count": null,
   "id": "gothic-cheat",
   "metadata": {},
   "outputs": [],
   "source": []
  }
 ],
 "metadata": {
  "kernelspec": {
   "display_name": "Julia 1.6.0",
   "language": "julia",
   "name": "julia-1.6"
  },
  "language_info": {
   "file_extension": ".jl",
   "mimetype": "application/julia",
   "name": "julia",
   "version": "1.6.0"
  }
 },
 "nbformat": 4,
 "nbformat_minor": 5
}
