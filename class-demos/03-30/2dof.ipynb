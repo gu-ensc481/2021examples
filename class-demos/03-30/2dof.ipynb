{
 "cells": [
  {
   "cell_type": "code",
   "execution_count": 1,
   "id": "peaceful-seventh",
   "metadata": {},
   "outputs": [],
   "source": [
    "using SymPy"
   ]
  },
  {
   "cell_type": "code",
   "execution_count": 2,
   "id": "unauthorized-television",
   "metadata": {},
   "outputs": [],
   "source": [
    "m1, m2, k1, k2, k3, c1, c2, c3, t = symbols(\"m1, m2, k1, k2, k3, c1, c2, c3, t\", real=true, positive=true)\n",
    "f1 = SymFunction(\"f_1\")(t)\n",
    "f2 = SymFunction(\"f_2\")(t)\n",
    "x1 = SymFunction(\"x_1\")(t)\n",
    "x2 = SymFunction(\"x_2\")(t)\n",
    ";"
   ]
  },
  {
   "cell_type": "code",
   "execution_count": 3,
   "id": "upset-documentation",
   "metadata": {},
   "outputs": [
    {
     "data": {
      "text/latex": [
       "$\\begin{equation*}\\frac{m_{1} \\left(\\frac{d}{d t} \\operatorname{x_{1}}{\\left(t \\right)}\\right)^{2}}{2} + \\frac{m_{2} \\left(\\frac{d}{d t} \\operatorname{x_{2}}{\\left(t \\right)}\\right)^{2}}{2}\\end{equation*}$\n"
      ],
      "text/plain": [
       "               2                  2\n",
       "   /d         \\       /d         \\ \n",
       "m1*|--(x_1(t))|    m2*|--(x_2(t))| \n",
       "   \\dt        /       \\dt        / \n",
       "---------------- + ----------------\n",
       "       2                  2        "
      ]
     },
     "execution_count": 3,
     "metadata": {},
     "output_type": "execute_result"
    }
   ],
   "source": [
    "T = 1//2*m1*diff(x1,t)^2 + 1//2*m2*diff(x2,t)^2"
   ]
  },
  {
   "cell_type": "code",
   "execution_count": 4,
   "id": "tracked-evanescence",
   "metadata": {},
   "outputs": [
    {
     "data": {
      "text/latex": [
       "$\\begin{equation*}\\frac{k_{1} \\operatorname{x_{1}}^{2}{\\left(t \\right)}}{2} + \\frac{k_{2} \\left(\\operatorname{x_{1}}{\\left(t \\right)} - \\operatorname{x_{2}}{\\left(t \\right)}\\right)^{2}}{2} + \\frac{k_{3} \\operatorname{x_{2}}^{2}{\\left(t \\right)}}{2}\\end{equation*}$\n"
      ],
      "text/plain": [
       "      2                          2         2   \n",
       "k1*x_1 (t)   k2*(x_1(t) - x_2(t))    k3*x_2 (t)\n",
       "---------- + --------------------- + ----------\n",
       "    2                  2                 2     "
      ]
     },
     "execution_count": 4,
     "metadata": {},
     "output_type": "execute_result"
    }
   ],
   "source": [
    "V = 1//2*k1*(x1-0)^2 + 1//2*k2*(x1-x2)^2 + 1//2*k3*(x2-0)^2"
   ]
  },
  {
   "cell_type": "code",
   "execution_count": 5,
   "id": "quiet-denver",
   "metadata": {},
   "outputs": [
    {
     "data": {
      "text/latex": [
       "$\\begin{equation*}\\frac{c_{1} \\left(\\frac{d}{d t} \\operatorname{x_{1}}{\\left(t \\right)}\\right)^{2}}{2} + \\frac{c_{2} \\left(\\frac{d}{d t} \\operatorname{x_{1}}{\\left(t \\right)} - \\frac{d}{d t} \\operatorname{x_{2}}{\\left(t \\right)}\\right)^{2}}{2} + \\frac{c_{3} \\left(\\frac{d}{d t} \\operatorname{x_{2}}{\\left(t \\right)}\\right)^{2}}{2}\\end{equation*}$\n"
      ],
      "text/plain": [
       "               2                               2                  2\n",
       "   /d         \\       /d            d         \\       /d         \\ \n",
       "c1*|--(x_1(t))|    c2*|--(x_1(t)) - --(x_2(t))|    c3*|--(x_2(t))| \n",
       "   \\dt        /       \\dt           dt        /       \\dt        / \n",
       "---------------- + ----------------------------- + ----------------\n",
       "       2                         2                        2        "
      ]
     },
     "execution_count": 5,
     "metadata": {},
     "output_type": "execute_result"
    }
   ],
   "source": [
    "D = 1//2*c1*diff(x1,t)^2 + 1//2*c2*( diff(x1,t) - diff(x2,t))^2 + 1//2*c3*diff(x2,t)^2"
   ]
  },
  {
   "cell_type": "code",
   "execution_count": 6,
   "id": "satellite-latino",
   "metadata": {},
   "outputs": [
    {
     "data": {
      "text/latex": [
       "$\\begin{equation*}- \\frac{k_{1} \\operatorname{x_{1}}^{2}{\\left(t \\right)}}{2} - \\frac{k_{2} \\left(\\operatorname{x_{1}}{\\left(t \\right)} - \\operatorname{x_{2}}{\\left(t \\right)}\\right)^{2}}{2} - \\frac{k_{3} \\operatorname{x_{2}}^{2}{\\left(t \\right)}}{2} + \\frac{m_{1} \\left(\\frac{d}{d t} \\operatorname{x_{1}}{\\left(t \\right)}\\right)^{2}}{2} + \\frac{m_{2} \\left(\\frac{d}{d t} \\operatorname{x_{2}}{\\left(t \\right)}\\right)^{2}}{2}\\end{equation*}$\n"
      ],
      "text/plain": [
       "                                                                   2          \n",
       "                                                       /d         \\       /d  \n",
       "        2                          2         2      m1*|--(x_1(t))|    m2*|--(\n",
       "  k1*x_1 (t)   k2*(x_1(t) - x_2(t))    k3*x_2 (t)      \\dt        /       \\dt \n",
       "- ---------- - --------------------- - ---------- + ---------------- + -------\n",
       "      2                  2                 2               2                  \n",
       "\n",
       "        2\n",
       "       \\ \n",
       "x_2(t))| \n",
       "       / \n",
       "---------\n",
       "2        "
      ]
     },
     "execution_count": 6,
     "metadata": {},
     "output_type": "execute_result"
    }
   ],
   "source": [
    "L = T - V"
   ]
  },
  {
   "cell_type": "code",
   "execution_count": 7,
   "id": "ranking-voluntary",
   "metadata": {},
   "outputs": [
    {
     "data": {
      "text/latex": [
       "$\\begin{equation*}c_{1} \\frac{d}{d t} \\operatorname{x_{1}}{\\left(t \\right)} + \\frac{c_{2} \\left(2 \\frac{d}{d t} \\operatorname{x_{1}}{\\left(t \\right)} - 2 \\frac{d}{d t} \\operatorname{x_{2}}{\\left(t \\right)}\\right)}{2} + k_{1} \\operatorname{x_{1}}{\\left(t \\right)} + \\frac{k_{2} \\left(2 \\operatorname{x_{1}}{\\left(t \\right)} - 2 \\operatorname{x_{2}}{\\left(t \\right)}\\right)}{2} + m_{1} \\frac{d^{2}}{d t^{2}} \\operatorname{x_{1}}{\\left(t \\right)} = \\operatorname{f_{1}}{\\left(t \\right)}\\end{equation*}$\n"
      ],
      "text/plain": [
       "                   /  d              d         \\                              \n",
       "                c2*|2*--(x_1(t)) - 2*--(x_2(t))|                              \n",
       "   d               \\  dt             dt        /               k2*(2*x_1(t) - \n",
       "c1*--(x_1(t)) + -------------------------------- + k1*x_1(t) + ---------------\n",
       "   dt                          2                                          2   \n",
       "                                                                              \n",
       "\n",
       "                                   \n",
       "                 2                 \n",
       "2*x_2(t))       d                  \n",
       "--------- + m1*---(x_1(t)) = f_1(t)\n",
       "                 2                 \n",
       "               dt                  "
      ]
     },
     "execution_count": 7,
     "metadata": {},
     "output_type": "execute_result"
    }
   ],
   "source": [
    "Eq(diff(L,diff(x1,t), t) - diff(L, x1) + diff(D,diff(x1,t)), f1)"
   ]
  },
  {
   "cell_type": "code",
   "execution_count": 8,
   "id": "sharing-symphony",
   "metadata": {},
   "outputs": [
    {
     "data": {
      "text/latex": [
       "$\\begin{equation*}c_{1} \\frac{d}{d t} \\operatorname{x_{1}}{\\left(t \\right)} + \\frac{c_{2} \\left(2 \\frac{d}{d t} \\operatorname{x_{1}}{\\left(t \\right)} - 2 \\frac{d}{d t} \\operatorname{x_{2}}{\\left(t \\right)}\\right)}{2} + k_{1} \\operatorname{x_{1}}{\\left(t \\right)} + \\frac{k_{2} \\left(2 \\operatorname{x_{1}}{\\left(t \\right)} - 2 \\operatorname{x_{2}}{\\left(t \\right)}\\right)}{2} + m_{1} \\frac{d^{2}}{d t^{2}} \\operatorname{x_{1}}{\\left(t \\right)} - \\operatorname{f_{1}}{\\left(t \\right)}\\end{equation*}$\n"
      ],
      "text/plain": [
       "                   /  d              d         \\                              \n",
       "                c2*|2*--(x_1(t)) - 2*--(x_2(t))|                              \n",
       "   d               \\  dt             dt        /               k2*(2*x_1(t) - \n",
       "c1*--(x_1(t)) + -------------------------------- + k1*x_1(t) + ---------------\n",
       "   dt                          2                                          2   \n",
       "                                                                              \n",
       "\n",
       "                                   \n",
       "                 2                 \n",
       "2*x_2(t))       d                  \n",
       "--------- + m1*---(x_1(t)) - f_1(t)\n",
       "                 2                 \n",
       "               dt                  "
      ]
     },
     "execution_count": 8,
     "metadata": {},
     "output_type": "execute_result"
    }
   ],
   "source": [
    "diff(L,diff(x1,t), t) - diff(L, x1) + diff(D,diff(x1,t)) - f1"
   ]
  },
  {
   "cell_type": "code",
   "execution_count": 9,
   "id": "medium-valuable",
   "metadata": {},
   "outputs": [
    {
     "data": {
      "text/latex": [
       "$\\begin{equation*}\\frac{c_{2} \\left(- 2 \\frac{d}{d t} \\operatorname{x_{1}}{\\left(t \\right)} + 2 \\frac{d}{d t} \\operatorname{x_{2}}{\\left(t \\right)}\\right)}{2} + c_{3} \\frac{d}{d t} \\operatorname{x_{2}}{\\left(t \\right)} + \\frac{k_{2} \\left(- 2 \\operatorname{x_{1}}{\\left(t \\right)} + 2 \\operatorname{x_{2}}{\\left(t \\right)}\\right)}{2} + k_{3} \\operatorname{x_{2}}{\\left(t \\right)} + m_{2} \\frac{d^{2}}{d t^{2}} \\operatorname{x_{2}}{\\left(t \\right)} - \\operatorname{f_{2}}{\\left(t \\right)}\\end{equation*}$\n"
      ],
      "text/plain": [
       "   /    d              d         \\                                            \n",
       "c2*|- 2*--(x_1(t)) + 2*--(x_2(t))|                                            \n",
       "   \\    dt             dt        /      d            k2*(-2*x_1(t) + 2*x_2(t))\n",
       "---------------------------------- + c3*--(x_2(t)) + -------------------------\n",
       "                2                       dt                       2            \n",
       "                                                                              \n",
       "\n",
       "                                      \n",
       "                    2                 \n",
       "                   d                  \n",
       " + k3*x_2(t) + m2*---(x_2(t)) - f_2(t)\n",
       "                    2                 \n",
       "                  dt                  "
      ]
     },
     "execution_count": 9,
     "metadata": {},
     "output_type": "execute_result"
    }
   ],
   "source": [
    "diff(L,diff(x2,t), t) - diff(L, x2) + diff(D,diff(x2,t)) - f2"
   ]
  },
  {
   "cell_type": "markdown",
   "id": "smooth-fireplace",
   "metadata": {},
   "source": [
    "List comprehensions"
   ]
  },
  {
   "cell_type": "code",
   "execution_count": 10,
   "id": "structural-shopping",
   "metadata": {},
   "outputs": [
    {
     "data": {
      "text/plain": [
       "3-element Vector{Int64}:\n",
       " 1\n",
       " 2\n",
       " 3"
      ]
     },
     "execution_count": 10,
     "metadata": {},
     "output_type": "execute_result"
    }
   ],
   "source": [
    "out = [ i for i in 1:3 ]"
   ]
  },
  {
   "cell_type": "code",
   "execution_count": 11,
   "id": "fuzzy-dating",
   "metadata": {},
   "outputs": [
    {
     "data": {
      "text/plain": [
       "3-element Vector{Float64}:\n",
       " 1.0\n",
       " 2.0\n",
       " 3.0"
      ]
     },
     "execution_count": 11,
     "metadata": {},
     "output_type": "execute_result"
    }
   ],
   "source": [
    "out = zeros(3)\n",
    "for i = 1:3\n",
    "    out[i] = i\n",
    "end\n",
    "out"
   ]
  },
  {
   "cell_type": "markdown",
   "id": "starting-algebra",
   "metadata": {},
   "source": [
    "Using a list comp to eval Lagrange's equation"
   ]
  },
  {
   "cell_type": "code",
   "execution_count": 12,
   "id": "victorian-profit",
   "metadata": {},
   "outputs": [
    {
     "data": {
      "text/latex": [
       "$\\left[ \\begin{array}{r}c_{1} \\frac{d}{d t} \\operatorname{x_{1}}{\\left(t \\right)} + c_{2} \\left(\\frac{d}{d t} \\operatorname{x_{1}}{\\left(t \\right)} - \\frac{d}{d t} \\operatorname{x_{2}}{\\left(t \\right)}\\right) + k_{1} \\operatorname{x_{1}}{\\left(t \\right)} + k_{2} \\left(\\operatorname{x_{1}}{\\left(t \\right)} - \\operatorname{x_{2}}{\\left(t \\right)}\\right) + m_{1} \\frac{d^{2}}{d t^{2}} \\operatorname{x_{1}}{\\left(t \\right)} - \\operatorname{f_{1}}{\\left(t \\right)}\\\\- c_{2} \\left(\\frac{d}{d t} \\operatorname{x_{1}}{\\left(t \\right)} - \\frac{d}{d t} \\operatorname{x_{2}}{\\left(t \\right)}\\right) + c_{3} \\frac{d}{d t} \\operatorname{x_{2}}{\\left(t \\right)} - k_{2} \\left(\\operatorname{x_{1}}{\\left(t \\right)} - \\operatorname{x_{2}}{\\left(t \\right)}\\right) + k_{3} \\operatorname{x_{2}}{\\left(t \\right)} + m_{2} \\frac{d^{2}}{d t^{2}} \\operatorname{x_{2}}{\\left(t \\right)} - \\operatorname{f_{2}}{\\left(t \\right)}\\end{array} \\right]$\n"
      ],
      "text/plain": [
       "2-element Vector{Sym}:\n",
       "  c1*Derivative(x_1(t), t) + c2*(Derivative(x_1(t), t) - Derivative(x_2(t), t)) + k1*x_1(t) + k2*(x_1(t) - x_2(t)) + m1*Derivative(x_1(t), (t, 2)) - f_1(t)\n",
       " -c2*(Derivative(x_1(t), t) - Derivative(x_2(t), t)) + c3*Derivative(x_2(t), t) - k2*(x_1(t) - x_2(t)) + k3*x_2(t) + m2*Derivative(x_2(t), (t, 2)) - f_2(t)"
      ]
     },
     "execution_count": 12,
     "metadata": {},
     "output_type": "execute_result"
    }
   ],
   "source": [
    "eom = [ diff(L, diff(q,t), t) - diff(L,q) + diff(D,diff(q,t)) |> simplify for q in [x1,x2] ] - [f1,f2]"
   ]
  },
  {
   "cell_type": "code",
   "execution_count": 14,
   "id": "general-curve",
   "metadata": {},
   "outputs": [
    {
     "data": {
      "text/latex": [
       "$\\left[ \\begin{array}{rr}m_{1}&0\\\\0&m_{2}\\end{array}\\right]$\n"
      ],
      "text/plain": [
       "2×2 Matrix{Sym}:\n",
       " m1   0\n",
       "  0  m2"
      ]
     },
     "execution_count": 14,
     "metadata": {},
     "output_type": "execute_result"
    }
   ],
   "source": [
    "massMatrix = [ diff(eq, diff(q,t,t)) for eq in eom, q in [x1,x2] ]"
   ]
  },
  {
   "cell_type": "code",
   "execution_count": 15,
   "id": "universal-anthony",
   "metadata": {},
   "outputs": [
    {
     "data": {
      "text/latex": [
       "$\\left[ \\begin{array}{rr}k_{1} + k_{2}&- k_{2}\\\\- k_{2}&k_{2} + k_{3}\\end{array}\\right]$\n"
      ],
      "text/plain": [
       "2×2 Matrix{Sym}:\n",
       " k1 + k2      -k2\n",
       "     -k2  k2 + k3"
      ]
     },
     "execution_count": 15,
     "metadata": {},
     "output_type": "execute_result"
    }
   ],
   "source": [
    "stiffnessMatrix = [ diff(eq, q) for eq in eom, q in [x1,x2]]"
   ]
  },
  {
   "cell_type": "code",
   "execution_count": 16,
   "id": "interstate-closure",
   "metadata": {},
   "outputs": [
    {
     "data": {
      "text/latex": [
       "$\\left[ \\begin{array}{rr}c_{1} + c_{2}&- c_{2}\\\\- c_{2}&c_{2} + c_{3}\\end{array}\\right]$\n"
      ],
      "text/plain": [
       "2×2 Matrix{Sym}:\n",
       " c1 + c2      -c2\n",
       "     -c2  c2 + c3"
      ]
     },
     "execution_count": 16,
     "metadata": {},
     "output_type": "execute_result"
    }
   ],
   "source": [
    "dampingMatrix = [ diff(eq, diff(q,t)) for eq in eom, q in [x1,x2]]"
   ]
  },
  {
   "cell_type": "markdown",
   "id": "sustainable-medicine",
   "metadata": {},
   "source": [
    "Going into State-Space\n",
    "$$ z = [x_1,x_2,\\dot{x}_1, \\dot{x}_2]^T $$"
   ]
  },
  {
   "cell_type": "code",
   "execution_count": 18,
   "id": "intense-adventure",
   "metadata": {},
   "outputs": [],
   "source": [
    "z1,z2,z3,z4 = symbols(\"z1,z2,z3,z4\", real=true);"
   ]
  },
  {
   "cell_type": "code",
   "execution_count": 32,
   "id": "conceptual-progressive",
   "metadata": {},
   "outputs": [
    {
     "data": {
      "text/plain": [
       "Dict{Any, Any} with 2 entries:\n",
       "  Derivative(x_1(t), (t, 2)) => -c1*Derivative(x_1(t), t)/m1 - c2*Derivative(x_…\n",
       "  Derivative(x_2(t), (t, 2)) => c2*Derivative(x_1(t), t)/m2 - c2*Derivative(x_2…"
      ]
     },
     "execution_count": 32,
     "metadata": {},
     "output_type": "execute_result"
    }
   ],
   "source": [
    "sol = solve( eom, [diff(x1,t,t), diff(x2,t,t)], dict=true )[1]"
   ]
  },
  {
   "cell_type": "code",
   "execution_count": 33,
   "id": "mineral-heating",
   "metadata": {},
   "outputs": [
    {
     "data": {
      "text/latex": [
       "$\\begin{equation*}- \\frac{c_{1} \\frac{d}{d t} \\operatorname{x_{1}}{\\left(t \\right)}}{m_{1}} - \\frac{c_{2} \\frac{d}{d t} \\operatorname{x_{1}}{\\left(t \\right)}}{m_{1}} + \\frac{c_{2} \\frac{d}{d t} \\operatorname{x_{2}}{\\left(t \\right)}}{m_{1}} - \\frac{k_{1} \\operatorname{x_{1}}{\\left(t \\right)}}{m_{1}} - \\frac{k_{2} \\operatorname{x_{1}}{\\left(t \\right)}}{m_{1}} + \\frac{k_{2} \\operatorname{x_{2}}{\\left(t \\right)}}{m_{1}} + \\frac{\\operatorname{f_{1}}{\\left(t \\right)}}{m_{1}}\\end{equation*}$\n"
      ],
      "text/plain": [
       "     d               d               d                                        \n",
       "  c1*--(x_1(t))   c2*--(x_1(t))   c2*--(x_2(t))                               \n",
       "     dt              dt              dt           k1*x_1(t)   k2*x_1(t)   k2*x\n",
       "- ------------- - ------------- + ------------- - --------- - --------- + ----\n",
       "        m1              m1              m1            m1          m1          \n",
       "\n",
       "              \n",
       "              \n",
       "_2(t)   f_1(t)\n",
       "----- + ------\n",
       "m1        m1  "
      ]
     },
     "execution_count": 33,
     "metadata": {},
     "output_type": "execute_result"
    }
   ],
   "source": [
    "sol[diff(x1,t,t)]"
   ]
  },
  {
   "cell_type": "code",
   "execution_count": 34,
   "id": "proprietary-representative",
   "metadata": {},
   "outputs": [
    {
     "data": {
      "text/latex": [
       "$\\begin{equation*}\\begin{cases}\\frac{d}{d t} \\operatorname{x_{2}}{\\left(t \\right)} & \\text{=>} &z_{4}\\\\\\frac{d}{d t} \\operatorname{x_{1}}{\\left(t \\right)} & \\text{=>} &z_{3}\\\\\\end{cases}\\end{equation*}$\n"
      ],
      "text/plain": [
       "Dict{Sym, Sym} with 2 entries:\n",
       "  Derivative(x_2(t), t) => z4\n",
       "  Derivative(x_1(t), t) => z3"
      ]
     },
     "execution_count": 34,
     "metadata": {},
     "output_type": "execute_result"
    }
   ],
   "source": [
    "rule1 = Dict( diff(x1,t)=>z3, diff(x2,t)=>z4  )"
   ]
  },
  {
   "cell_type": "code",
   "execution_count": 36,
   "id": "sudden-parish",
   "metadata": {},
   "outputs": [
    {
     "data": {
      "text/latex": [
       "$\\begin{equation*}\\begin{cases}\\operatorname{x_{2}}{\\left(t \\right)} & \\text{=>} &z_{2}\\\\\\operatorname{x_{1}}{\\left(t \\right)} & \\text{=>} &z_{1}\\\\\\end{cases}\\end{equation*}$\n"
      ],
      "text/plain": [
       "Dict{Sym, Sym} with 2 entries:\n",
       "  x_2(t) => z2\n",
       "  x_1(t) => z1"
      ]
     },
     "execution_count": 36,
     "metadata": {},
     "output_type": "execute_result"
    }
   ],
   "source": [
    "rule2 = Dict( x1=>z1, x2=>z2 )"
   ]
  },
  {
   "cell_type": "code",
   "execution_count": 41,
   "id": "outdoor-january",
   "metadata": {},
   "outputs": [
    {
     "data": {
      "text/latex": [
       "$\\begin{equation*}\\frac{- c_{1} z_{3} - c_{2} z_{3} + c_{2} z_{4} - k_{1} z_{1} - k_{2} z_{1} + k_{2} z_{2} + \\operatorname{f_{1}}{\\left(t \\right)}}{m_{1}}\\end{equation*}$\n"
      ],
      "text/plain": [
       "-c1*z3 - c2*z3 + c2*z4 - k1*z1 - k2*z1 + k2*z2 + f_1(t)\n",
       "-------------------------------------------------------\n",
       "                           m1                          "
      ]
     },
     "execution_count": 41,
     "metadata": {},
     "output_type": "execute_result"
    }
   ],
   "source": [
    "z3d = sol[diff(x1,t,t)] |> subs(rule1) |> subs(rule2) |> simplify"
   ]
  },
  {
   "cell_type": "code",
   "execution_count": 42,
   "id": "consistent-alexandria",
   "metadata": {},
   "outputs": [
    {
     "data": {
      "text/latex": [
       "$\\begin{equation*}\\frac{c_{2} z_{3} - c_{2} z_{4} - c_{3} z_{4} + k_{2} z_{1} - k_{2} z_{2} - k_{3} z_{2} + \\operatorname{f_{2}}{\\left(t \\right)}}{m_{2}}\\end{equation*}$\n"
      ],
      "text/plain": [
       "c2*z3 - c2*z4 - c3*z4 + k2*z1 - k2*z2 - k3*z2 + f_2(t)\n",
       "------------------------------------------------------\n",
       "                          m2                          "
      ]
     },
     "execution_count": 42,
     "metadata": {},
     "output_type": "execute_result"
    }
   ],
   "source": [
    "z4d = sol[diff(x2,t,t)] |> subs(rule1) |> subs(rule2) |> simplify"
   ]
  },
  {
   "cell_type": "code",
   "execution_count": 44,
   "id": "significant-fantasy",
   "metadata": {},
   "outputs": [
    {
     "data": {
      "text/latex": [
       "$\\left[ \\begin{array}{r}z_{3}\\\\z_{4}\\\\\\frac{- c_{1} z_{3} - c_{2} z_{3} + c_{2} z_{4} - k_{1} z_{1} - k_{2} z_{1} + k_{2} z_{2} + \\operatorname{f_{1}}{\\left(t \\right)}}{m_{1}}\\\\\\frac{c_{2} z_{3} - c_{2} z_{4} - c_{3} z_{4} + k_{2} z_{1} - k_{2} z_{2} - k_{3} z_{2} + \\operatorname{f_{2}}{\\left(t \\right)}}{m_{2}}\\end{array} \\right]$\n"
      ],
      "text/plain": [
       "4-element Vector{Sym}:\n",
       "                                                           z3\n",
       "                                                           z4\n",
       " (-c1*z3 - c2*z3 + c2*z4 - k1*z1 - k2*z1 + k2*z2 + f_1(t))/m1\n",
       "  (c2*z3 - c2*z4 - c3*z4 + k2*z1 - k2*z2 - k3*z2 + f_2(t))/m2"
      ]
     },
     "execution_count": 44,
     "metadata": {},
     "output_type": "execute_result"
    }
   ],
   "source": [
    "F = [z3,z4, z3d, z4d]"
   ]
  },
  {
   "cell_type": "code",
   "execution_count": 46,
   "id": "coordinate-medicare",
   "metadata": {},
   "outputs": [
    {
     "name": "stdout",
     "output_type": "stream",
     "text": [
      "% Not supported in Octave:\n",
      "% f_1\n",
      "% f_2\n",
      "[z3; z4; (-c1.*z3 - c2.*z3 + c2.*z4 - k1.*z1 - k2.*z1 + k2.*z2 + f_1(t))./m1; (c2.*z3 - c2.*z4 - c3.*z4 + k2.*z1 - k2.*z2 - k3.*z2 + f_2(t))./m2]\n"
     ]
    }
   ],
   "source": [
    "sympy.octave_code(F) |> println"
   ]
  },
  {
   "cell_type": "code",
   "execution_count": null,
   "id": "particular-machine",
   "metadata": {},
   "outputs": [],
   "source": []
  }
 ],
 "metadata": {
  "kernelspec": {
   "display_name": "Julia 1.6.0",
   "language": "julia",
   "name": "julia-1.6"
  },
  "language_info": {
   "file_extension": ".jl",
   "mimetype": "application/julia",
   "name": "julia",
   "version": "1.6.0"
  }
 },
 "nbformat": 4,
 "nbformat_minor": 5
}
