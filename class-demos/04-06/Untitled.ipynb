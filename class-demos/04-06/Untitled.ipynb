{
 "cells": [
  {
   "cell_type": "code",
   "execution_count": 1,
   "id": "546ed1fd",
   "metadata": {},
   "outputs": [],
   "source": [
    "using SymPy"
   ]
  },
  {
   "cell_type": "code",
   "execution_count": 41,
   "id": "9886f13d",
   "metadata": {},
   "outputs": [],
   "source": [
    "M, m, g, k, kt, c, a, lG, lT, lf ,t, θ0, x0 = symbols(\"M, m, g, k, k_t, c, a, l_G, l_T, l_f , t, theta_0, x_0\", real=true, positive=true)\n",
    "x = SymFunction(\"x\")(t)\n",
    "θ = SymFunction(\"theta\")(t)\n",
    "f = SymFunction(\"f\")(t)\n",
    ";"
   ]
  },
  {
   "cell_type": "code",
   "execution_count": 20,
   "id": "cb0a554c",
   "metadata": {},
   "outputs": [
    {
     "data": {
      "text/latex": [
       "$\\left[ \\begin{array}{r}l_{G} \\cos{\\left(\\theta{\\left(t \\right)} \\right)}\\\\l_{G} \\sin{\\left(\\theta{\\left(t \\right)} \\right)}\\\\0\\end{array} \\right]$\n"
      ],
      "text/plain": [
       "3-element Vector{Sym}:\n",
       " l_G*cos(theta(t))\n",
       " l_G*sin(theta(t))\n",
       "                 0"
      ]
     },
     "execution_count": 20,
     "metadata": {},
     "output_type": "execute_result"
    }
   ],
   "source": [
    "ihat = [1,0,0]\n",
    "jhat = [0,1,0]\n",
    "khat = [0,0,1]\n",
    "rG = lG*(cos(θ)*ihat + sin(θ)*jhat)"
   ]
  },
  {
   "cell_type": "code",
   "execution_count": 21,
   "id": "0e4c5641",
   "metadata": {},
   "outputs": [
    {
     "data": {
      "text/latex": [
       "$\\left[ \\begin{array}{r}l_{f} \\cos{\\left(\\theta{\\left(t \\right)} \\right)}\\\\l_{f} \\sin{\\left(\\theta{\\left(t \\right)} \\right)}\\\\0\\end{array} \\right]$\n"
      ],
      "text/plain": [
       "3-element Vector{Sym}:\n",
       " l_f*cos(theta(t))\n",
       " l_f*sin(theta(t))\n",
       "                 0"
      ]
     },
     "execution_count": 21,
     "metadata": {},
     "output_type": "execute_result"
    }
   ],
   "source": [
    "rf = lf*(cos(θ)*ihat + sin(θ)*jhat)"
   ]
  },
  {
   "cell_type": "code",
   "execution_count": 22,
   "id": "1880c3fa",
   "metadata": {},
   "outputs": [
    {
     "data": {
      "text/latex": [
       "$\\left[ \\begin{array}{r}a \\cos{\\left(\\theta{\\left(t \\right)} \\right)}\\\\a \\sin{\\left(\\theta{\\left(t \\right)} \\right)}\\\\0\\end{array} \\right]$\n"
      ],
      "text/plain": [
       "3-element Vector{Sym}:\n",
       " a*cos(theta(t))\n",
       " a*sin(theta(t))\n",
       "               0"
      ]
     },
     "execution_count": 22,
     "metadata": {},
     "output_type": "execute_result"
    }
   ],
   "source": [
    "ra = a*(cos(θ)*ihat + sin(θ)*jhat)"
   ]
  },
  {
   "cell_type": "code",
   "execution_count": 23,
   "id": "e91311b2",
   "metadata": {},
   "outputs": [
    {
     "data": {
      "text/latex": [
       "$\\left[ \\begin{array}{r}l_{T} \\cos{\\left(\\theta{\\left(t \\right)} \\right)}\\\\l_{T} \\sin{\\left(\\theta{\\left(t \\right)} \\right)}\\\\0\\end{array} \\right]$\n"
      ],
      "text/plain": [
       "3-element Vector{Sym}:\n",
       " l_T*cos(theta(t))\n",
       " l_T*sin(theta(t))\n",
       "                 0"
      ]
     },
     "execution_count": 23,
     "metadata": {},
     "output_type": "execute_result"
    }
   ],
   "source": [
    "rB = lT*(cos(θ)*ihat + sin(θ)*jhat)"
   ]
  },
  {
   "cell_type": "code",
   "execution_count": 10,
   "id": "a7ab6487",
   "metadata": {},
   "outputs": [
    {
     "data": {
      "text/latex": [
       "$\\left[ \\begin{array}{r}l_{T} \\cos{\\left(\\theta{\\left(t \\right)} \\right)}\\\\l_{T} \\sin{\\left(\\theta{\\left(t \\right)} \\right)} - x{\\left(t \\right)}\\\\0\\end{array} \\right]$\n"
      ],
      "text/plain": [
       "3-element Vector{Sym}:\n",
       "        l_T*cos(theta(t))\n",
       " l_T*sin(theta(t)) - x(t)\n",
       "                        0"
      ]
     },
     "execution_count": 10,
     "metadata": {},
     "output_type": "execute_result"
    }
   ],
   "source": [
    "rm = rB - x*jhat"
   ]
  },
  {
   "cell_type": "code",
   "execution_count": 17,
   "id": "b667e6e0",
   "metadata": {},
   "outputs": [
    {
     "data": {
      "text/latex": [
       "$\\begin{equation*}\\frac{M l_{G}^{2} \\left(\\frac{d}{d t} \\theta{\\left(t \\right)}\\right)^{2}}{2} + \\frac{M l_{T}^{2} \\left(\\frac{d}{d t} \\theta{\\left(t \\right)}\\right)^{2}}{24} + \\frac{m \\left(l_{T}^{2} \\left(\\frac{d}{d t} \\theta{\\left(t \\right)}\\right)^{2} - 2 l_{T} \\cos{\\left(\\theta{\\left(t \\right)} \\right)} \\frac{d}{d t} \\theta{\\left(t \\right)} \\frac{d}{d t} x{\\left(t \\right)} + \\left(\\frac{d}{d t} x{\\left(t \\right)}\\right)^{2}\\right)}{2}\\end{equation*}$\n"
      ],
      "text/plain": [
       "                     2                        2     /                   2     \n",
       "     2 /d           \\         2 /d           \\      |   2 /d           \\      \n",
       "M*l_G *|--(theta(t))|    M*l_T *|--(theta(t))|    m*|l_T *|--(theta(t))|  - 2*\n",
       "       \\dt          /           \\dt          /      \\     \\dt          /      \n",
       "---------------------- + ---------------------- + ----------------------------\n",
       "          2                        24                                         \n",
       "\n",
       "                                                    2\\\n",
       "                  d            d          /d       \\ |\n",
       "l_T*cos(theta(t))*--(theta(t))*--(x(t)) + |--(x(t))| |\n",
       "                  dt           dt         \\dt      / /\n",
       "------------------------------------------------------\n",
       "            2                                         "
      ]
     },
     "execution_count": 17,
     "metadata": {},
     "output_type": "execute_result"
    }
   ],
   "source": [
    "dot(a,b) = sum(a .* b)\n",
    "JG = 1//12*M*lT^2\n",
    "T = 1//2*M*dot( diff.(rG,t), diff.(rG,t) ) + 1//2*JG*diff(θ,t)^2 + 1//2*m*dot( diff.(rm,t), diff.(rm,t)) |> simplify"
   ]
  },
  {
   "cell_type": "code",
   "execution_count": 28,
   "id": "94446be2",
   "metadata": {},
   "outputs": [
    {
     "data": {
      "text/latex": [
       "$\\begin{equation*}M g l_{G} \\sin{\\left(\\theta{\\left(t \\right)} \\right)} + g m \\left(l_{T} \\sin{\\left(\\theta{\\left(t \\right)} \\right)} - x{\\left(t \\right)}\\right) + \\frac{k \\left(- x_{0} + x{\\left(t \\right)}\\right)^{2}}{2} + \\frac{k_{t} \\left(- \\theta_{0} + \\theta{\\left(t \\right)}\\right)^{2}}{2}\\end{equation*}$\n"
      ],
      "text/plain": [
       "                                                                        2     \n",
       "                                                         k*(-x_0 + x(t))    k_\n",
       "M*g*l_G*sin(theta(t)) + g*m*(l_T*sin(theta(t)) - x(t)) + ---------------- + --\n",
       "                                                                2             \n",
       "\n",
       "                       2\n",
       "t*(-theta_0 + theta(t)) \n",
       "------------------------\n",
       "          2             "
      ]
     },
     "execution_count": 28,
     "metadata": {},
     "output_type": "execute_result"
    }
   ],
   "source": [
    "V = 1//2*kt*(θ - θ0)^2 + 1//2*k*(x - x0)^2 + M*g*dot(rG, jhat) + m*g*dot(rm, jhat)"
   ]
  },
  {
   "cell_type": "code",
   "execution_count": 29,
   "id": "89bddb9c",
   "metadata": {},
   "outputs": [
    {
     "data": {
      "text/latex": [
       "$\\begin{equation*}- M g l_{G} \\sin{\\left(\\theta{\\left(t \\right)} \\right)} + \\frac{M l_{G}^{2} \\left(\\frac{d}{d t} \\theta{\\left(t \\right)}\\right)^{2}}{2} + \\frac{M l_{T}^{2} \\left(\\frac{d}{d t} \\theta{\\left(t \\right)}\\right)^{2}}{24} - g m \\left(l_{T} \\sin{\\left(\\theta{\\left(t \\right)} \\right)} - x{\\left(t \\right)}\\right) - \\frac{k \\left(- x_{0} + x{\\left(t \\right)}\\right)^{2}}{2} - \\frac{k_{t} \\left(- \\theta_{0} + \\theta{\\left(t \\right)}\\right)^{2}}{2} + \\frac{m \\left(l_{T}^{2} \\left(\\frac{d}{d t} \\theta{\\left(t \\right)}\\right)^{2} - 2 l_{T} \\cos{\\left(\\theta{\\left(t \\right)} \\right)} \\frac{d}{d t} \\theta{\\left(t \\right)} \\frac{d}{d t} x{\\left(t \\right)} + \\left(\\frac{d}{d t} x{\\left(t \\right)}\\right)^{2}\\right)}{2}\\end{equation*}$\n"
      ],
      "text/plain": [
       "                                              2                        2      \n",
       "                              2 /d           \\         2 /d           \\       \n",
       "                         M*l_G *|--(theta(t))|    M*l_T *|--(theta(t))|       \n",
       "                                \\dt          /           \\dt          /       \n",
       "-M*g*l_G*sin(theta(t)) + ---------------------- + ---------------------- - g*m\n",
       "                                   2                        24                \n",
       "\n",
       "                                                                              \n",
       "                                                                              \n",
       "                                             2                            2   \n",
       "                              k*(-x_0 + x(t))    k_t*(-theta_0 + theta(t))    \n",
       "*(l_T*sin(theta(t)) - x(t)) - ---------------- - -------------------------- + \n",
       "                                     2                       2                \n",
       "\n",
       "  /                   2                                                       \n",
       "  |   2 /d           \\                        d            d          /d      \n",
       "m*|l_T *|--(theta(t))|  - 2*l_T*cos(theta(t))*--(theta(t))*--(x(t)) + |--(x(t)\n",
       "  \\     \\dt          /                        dt           dt         \\dt     \n",
       "------------------------------------------------------------------------------\n",
       "                                        2                                     \n",
       "\n",
       "  2\\\n",
       " \\ |\n",
       ")| |\n",
       " / /\n",
       "----\n",
       "    "
      ]
     },
     "execution_count": 29,
     "metadata": {},
     "output_type": "execute_result"
    }
   ],
   "source": [
    "L = T - V"
   ]
  },
  {
   "cell_type": "code",
   "execution_count": 37,
   "id": "c1d37c5a",
   "metadata": {},
   "outputs": [
    {
     "data": {
      "text/latex": [
       "$\\begin{equation*}\\frac{a^{2} c \\cos^{2}{\\left(\\theta{\\left(t \\right)} \\right)} \\left(\\frac{d}{d t} \\theta{\\left(t \\right)}\\right)^{2}}{2}\\end{equation*}$\n"
      ],
      "text/plain": [
       "                                  2\n",
       " 2      2           /d           \\ \n",
       "a *c*cos (theta(t))*|--(theta(t))| \n",
       "                    \\dt          / \n",
       "-----------------------------------\n",
       "                 2                 "
      ]
     },
     "execution_count": 37,
     "metadata": {},
     "output_type": "execute_result"
    }
   ],
   "source": [
    "rc = a*(cos(θ)*ihat + sin(θ)*jhat)\n",
    "D = 1//2*c*dot(diff.(rc,t), jhat)^2"
   ]
  },
  {
   "cell_type": "code",
   "execution_count": 39,
   "id": "d9d7b2df",
   "metadata": {},
   "outputs": [
    {
     "data": {
      "text/latex": [
       "$\\left[ \\begin{array}{r}- g m - k \\left(x_{0} - x{\\left(t \\right)}\\right) + m \\left(l_{T} \\sin{\\left(\\theta{\\left(t \\right)} \\right)} \\left(\\frac{d}{d t} \\theta{\\left(t \\right)}\\right)^{2} - l_{T} \\cos{\\left(\\theta{\\left(t \\right)} \\right)} \\frac{d^{2}}{d t^{2}} \\theta{\\left(t \\right)} + \\frac{d^{2}}{d t^{2}} x{\\left(t \\right)}\\right)\\\\M g l_{G} \\cos{\\left(\\theta{\\left(t \\right)} \\right)} + M l_{G}^{2} \\frac{d^{2}}{d t^{2}} \\theta{\\left(t \\right)} + \\frac{M l_{T}^{2} \\frac{d^{2}}{d t^{2}} \\theta{\\left(t \\right)}}{12} + a^{2} c \\cos^{2}{\\left(\\theta{\\left(t \\right)} \\right)} \\frac{d}{d t} \\theta{\\left(t \\right)} + g l_{T} m \\cos{\\left(\\theta{\\left(t \\right)} \\right)} - k_{t} \\theta_{0} + k_{t} \\theta{\\left(t \\right)} + l_{T}^{2} m \\frac{d^{2}}{d t^{2}} \\theta{\\left(t \\right)} - l_{T} m \\cos{\\left(\\theta{\\left(t \\right)} \\right)} \\frac{d^{2}}{d t^{2}} x{\\left(t \\right)}\\end{array} \\right]$\n"
      ],
      "text/plain": [
       "2-element Vector{Sym}:\n",
       "                                                                                                                                               -g*m - k*(x_0 - x(t)) + m*(l_T*sin(theta(t))*Derivative(theta(t), t)^2 - l_T*cos(theta(t))*Derivative(theta(t), (t, 2)) + Derivative(x(t), (t, 2)))\n",
       " M*g*l_G*cos(theta(t)) + M*l_G^2*Derivative(theta(t), (t, 2)) + M*l_T^2*Derivative(theta(t), (t, 2))/12 + a^2*c*cos(theta(t))^2*Derivative(theta(t), t) + g*l_T*m*cos(theta(t)) - k_t*theta_0 + k_t*theta(t) + l_T^2*m*Derivative(theta(t), (t, 2)) - l_T*m*cos(theta(t))*Derivative(x(t), (t, 2))"
      ]
     },
     "execution_count": 39,
     "metadata": {},
     "output_type": "execute_result"
    }
   ],
   "source": [
    "lag = [ diff(L, diff(q,t),t) - diff(L,q) + diff(D, diff(q,t)) |> simplify for q in [x,θ] ]"
   ]
  },
  {
   "cell_type": "code",
   "execution_count": 43,
   "id": "b9ea6e49",
   "metadata": {},
   "outputs": [
    {
     "data": {
      "text/latex": [
       "$\\begin{equation*}0\\end{equation*}$\n"
      ],
      "text/plain": [
       "0"
      ]
     },
     "execution_count": 43,
     "metadata": {},
     "output_type": "execute_result"
    }
   ],
   "source": [
    "F = f*jhat\n",
    "dot(F, diff.(rf, x) )"
   ]
  },
  {
   "cell_type": "code",
   "execution_count": 44,
   "id": "6afc838d",
   "metadata": {},
   "outputs": [
    {
     "data": {
      "text/latex": [
       "$\\begin{equation*}l_{f} f{\\left(t \\right)} \\cos{\\left(\\theta{\\left(t \\right)} \\right)}\\end{equation*}$\n"
      ],
      "text/plain": [
       "l_f*f(t)*cos(theta(t))"
      ]
     },
     "execution_count": 44,
     "metadata": {},
     "output_type": "execute_result"
    }
   ],
   "source": [
    "dot(F, diff.(rf, θ) )"
   ]
  },
  {
   "cell_type": "code",
   "execution_count": 45,
   "id": "eb005501",
   "metadata": {},
   "outputs": [
    {
     "data": {
      "text/latex": [
       "$\\left[ \\begin{array}{r}0\\\\l_{f} f{\\left(t \\right)} \\cos{\\left(\\theta{\\left(t \\right)} \\right)}\\end{array} \\right]$\n"
      ],
      "text/plain": [
       "2-element Vector{Sym}:\n",
       "                      0\n",
       " l_f*f(t)*cos(theta(t))"
      ]
     },
     "execution_count": 45,
     "metadata": {},
     "output_type": "execute_result"
    }
   ],
   "source": [
    "Q = [ dot(F, diff.(rf, q) ) for q in [x,θ] ]"
   ]
  }
 ],
 "metadata": {
  "kernelspec": {
   "display_name": "Julia 1.6.0",
   "language": "julia",
   "name": "julia-1.6"
  },
  "language_info": {
   "file_extension": ".jl",
   "mimetype": "application/julia",
   "name": "julia",
   "version": "1.6.0"
  }
 },
 "nbformat": 4,
 "nbformat_minor": 5
}
