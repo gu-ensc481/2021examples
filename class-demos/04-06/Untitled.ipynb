{
 "cells": [
  {
   "cell_type": "code",
   "execution_count": 1,
   "id": "7897fc61",
   "metadata": {},
   "outputs": [],
   "source": [
    "using SymPy"
   ]
  },
  {
   "cell_type": "code",
   "execution_count": 41,
   "id": "3a0f396c",
   "metadata": {},
   "outputs": [],
   "source": [
    "M, m, g, k, kt, c, a, lG, lT, lf ,t, θ0, x0 = symbols(\"M, m, g, k, k_t, c, a, l_G, l_T, l_f , t, theta_0, x_0\", real=true, positive=true)\n",
    "x = SymFunction(\"x\")(t)\n",
    "θ = SymFunction(\"theta\")(t)\n",
    "f = SymFunction(\"f\")(t)\n",
    ";"
   ]
  },
  {
   "cell_type": "code",
   "execution_count": 20,
   "id": "355834a5",
   "metadata": {},
   "outputs": [
    {
     "data": {
      "text/latex": [
       "$\\left[ \\begin{array}{r}l_{G} \\cos{\\left(\\theta{\\left(t \\right)} \\right)}\\\\l_{G} \\sin{\\left(\\theta{\\left(t \\right)} \\right)}\\\\0\\end{array} \\right]$\n"
      ],
      "text/plain": [
       "3-element Vector{Sym}:\n",
       " l_G*cos(theta(t))\n",
       " l_G*sin(theta(t))\n",
       "                 0"
      ]
     },
     "execution_count": 20,
     "metadata": {},
     "output_type": "execute_result"
    }
   ],
   "source": [
    "ihat = [1,0,0]\n",
    "jhat = [0,1,0]\n",
    "khat = [0,0,1]\n",
    "rG = lG*(cos(θ)*ihat + sin(θ)*jhat)"
   ]
  },
  {
   "cell_type": "code",
   "execution_count": 21,
   "id": "6067378d",
   "metadata": {},
   "outputs": [
    {
     "data": {
      "text/latex": [
       "$\\left[ \\begin{array}{r}l_{f} \\cos{\\left(\\theta{\\left(t \\right)} \\right)}\\\\l_{f} \\sin{\\left(\\theta{\\left(t \\right)} \\right)}\\\\0\\end{array} \\right]$\n"
      ],
      "text/plain": [
       "3-element Vector{Sym}:\n",
       " l_f*cos(theta(t))\n",
       " l_f*sin(theta(t))\n",
       "                 0"
      ]
     },
     "execution_count": 21,
     "metadata": {},
     "output_type": "execute_result"
    }
   ],
   "source": [
    "rf = lf*(cos(θ)*ihat + sin(θ)*jhat)"
   ]
  },
  {
   "cell_type": "code",
   "execution_count": 22,
   "id": "73017221",
   "metadata": {},
   "outputs": [
    {
     "data": {
      "text/latex": [
       "$\\left[ \\begin{array}{r}a \\cos{\\left(\\theta{\\left(t \\right)} \\right)}\\\\a \\sin{\\left(\\theta{\\left(t \\right)} \\right)}\\\\0\\end{array} \\right]$\n"
      ],
      "text/plain": [
       "3-element Vector{Sym}:\n",
       " a*cos(theta(t))\n",
       " a*sin(theta(t))\n",
       "               0"
      ]
     },
     "execution_count": 22,
     "metadata": {},
     "output_type": "execute_result"
    }
   ],
   "source": [
    "ra = a*(cos(θ)*ihat + sin(θ)*jhat)"
   ]
  },
  {
   "cell_type": "code",
   "execution_count": 23,
   "id": "988e9aa7",
   "metadata": {},
   "outputs": [
    {
     "data": {
      "text/latex": [
       "$\\left[ \\begin{array}{r}l_{T} \\cos{\\left(\\theta{\\left(t \\right)} \\right)}\\\\l_{T} \\sin{\\left(\\theta{\\left(t \\right)} \\right)}\\\\0\\end{array} \\right]$\n"
      ],
      "text/plain": [
       "3-element Vector{Sym}:\n",
       " l_T*cos(theta(t))\n",
       " l_T*sin(theta(t))\n",
       "                 0"
      ]
     },
     "execution_count": 23,
     "metadata": {},
     "output_type": "execute_result"
    }
   ],
   "source": [
    "rB = lT*(cos(θ)*ihat + sin(θ)*jhat)"
   ]
  },
  {
   "cell_type": "code",
   "execution_count": 10,
   "id": "34a14069",
   "metadata": {},
   "outputs": [
    {
     "data": {
      "text/latex": [
       "$\\left[ \\begin{array}{r}l_{T} \\cos{\\left(\\theta{\\left(t \\right)} \\right)}\\\\l_{T} \\sin{\\left(\\theta{\\left(t \\right)} \\right)} - x{\\left(t \\right)}\\\\0\\end{array} \\right]$\n"
      ],
      "text/plain": [
       "3-element Vector{Sym}:\n",
       "        l_T*cos(theta(t))\n",
       " l_T*sin(theta(t)) - x(t)\n",
       "                        0"
      ]
     },
     "execution_count": 10,
     "metadata": {},
     "output_type": "execute_result"
    }
   ],
   "source": [
    "rm = rB - x*jhat"
   ]
  },
  {
   "cell_type": "code",
   "execution_count": 17,
   "id": "c5a94515",
   "metadata": {},
   "outputs": [
    {
     "data": {
      "text/latex": [
       "$\\begin{equation*}\\frac{M l_{G}^{2} \\left(\\frac{d}{d t} \\theta{\\left(t \\right)}\\right)^{2}}{2} + \\frac{M l_{T}^{2} \\left(\\frac{d}{d t} \\theta{\\left(t \\right)}\\right)^{2}}{24} + \\frac{m \\left(l_{T}^{2} \\left(\\frac{d}{d t} \\theta{\\left(t \\right)}\\right)^{2} - 2 l_{T} \\cos{\\left(\\theta{\\left(t \\right)} \\right)} \\frac{d}{d t} \\theta{\\left(t \\right)} \\frac{d}{d t} x{\\left(t \\right)} + \\left(\\frac{d}{d t} x{\\left(t \\right)}\\right)^{2}\\right)}{2}\\end{equation*}$\n"
      ],
      "text/plain": [
       "                     2                        2     /                   2     \n",
       "     2 /d           \\         2 /d           \\      |   2 /d           \\      \n",
       "M*l_G *|--(theta(t))|    M*l_T *|--(theta(t))|    m*|l_T *|--(theta(t))|  - 2*\n",
       "       \\dt          /           \\dt          /      \\     \\dt          /      \n",
       "---------------------- + ---------------------- + ----------------------------\n",
       "          2                        24                                         \n",
       "\n",
       "                                                    2\\\n",
       "                  d            d          /d       \\ |\n",
       "l_T*cos(theta(t))*--(theta(t))*--(x(t)) + |--(x(t))| |\n",
       "                  dt           dt         \\dt      / /\n",
       "------------------------------------------------------\n",
       "            2                                         "
      ]
     },
     "execution_count": 17,
     "metadata": {},
     "output_type": "execute_result"
    }
   ],
   "source": [
    "dot(a,b) = sum(a .* b)\n",
    "JG = 1//12*M*lT^2\n",
    "T = 1//2*M*dot( diff.(rG,t), diff.(rG,t) ) + 1//2*JG*diff(θ,t)^2 + 1//2*m*dot( diff.(rm,t), diff.(rm,t)) |> simplify"
   ]
  },
  {
   "cell_type": "code",
   "execution_count": 28,
   "id": "78822e4c",
   "metadata": {},
   "outputs": [
    {
     "data": {
      "text/latex": [
       "$\\begin{equation*}M g l_{G} \\sin{\\left(\\theta{\\left(t \\right)} \\right)} + g m \\left(l_{T} \\sin{\\left(\\theta{\\left(t \\right)} \\right)} - x{\\left(t \\right)}\\right) + \\frac{k \\left(- x_{0} + x{\\left(t \\right)}\\right)^{2}}{2} + \\frac{k_{t} \\left(- \\theta_{0} + \\theta{\\left(t \\right)}\\right)^{2}}{2}\\end{equation*}$\n"
      ],
      "text/plain": [
       "                                                                        2     \n",
       "                                                         k*(-x_0 + x(t))    k_\n",
       "M*g*l_G*sin(theta(t)) + g*m*(l_T*sin(theta(t)) - x(t)) + ---------------- + --\n",
       "                                                                2             \n",
       "\n",
       "                       2\n",
       "t*(-theta_0 + theta(t)) \n",
       "------------------------\n",
       "          2             "
      ]
     },
     "execution_count": 28,
     "metadata": {},
     "output_type": "execute_result"
    }
   ],
   "source": [
    "V = 1//2*kt*(θ - θ0)^2 + 1//2*k*(x - x0)^2 + M*g*dot(rG, jhat) + m*g*dot(rm, jhat)"
   ]
  },
  {
   "cell_type": "code",
   "execution_count": 29,
   "id": "dc8010d7",
   "metadata": {},
   "outputs": [
    {
     "data": {
      "text/latex": [
       "$\\begin{equation*}- M g l_{G} \\sin{\\left(\\theta{\\left(t \\right)} \\right)} + \\frac{M l_{G}^{2} \\left(\\frac{d}{d t} \\theta{\\left(t \\right)}\\right)^{2}}{2} + \\frac{M l_{T}^{2} \\left(\\frac{d}{d t} \\theta{\\left(t \\right)}\\right)^{2}}{24} - g m \\left(l_{T} \\sin{\\left(\\theta{\\left(t \\right)} \\right)} - x{\\left(t \\right)}\\right) - \\frac{k \\left(- x_{0} + x{\\left(t \\right)}\\right)^{2}}{2} - \\frac{k_{t} \\left(- \\theta_{0} + \\theta{\\left(t \\right)}\\right)^{2}}{2} + \\frac{m \\left(l_{T}^{2} \\left(\\frac{d}{d t} \\theta{\\left(t \\right)}\\right)^{2} - 2 l_{T} \\cos{\\left(\\theta{\\left(t \\right)} \\right)} \\frac{d}{d t} \\theta{\\left(t \\right)} \\frac{d}{d t} x{\\left(t \\right)} + \\left(\\frac{d}{d t} x{\\left(t \\right)}\\right)^{2}\\right)}{2}\\end{equation*}$\n"
      ],
      "text/plain": [
       "                                              2                        2      \n",
       "                              2 /d           \\         2 /d           \\       \n",
       "                         M*l_G *|--(theta(t))|    M*l_T *|--(theta(t))|       \n",
       "                                \\dt          /           \\dt          /       \n",
       "-M*g*l_G*sin(theta(t)) + ---------------------- + ---------------------- - g*m\n",
       "                                   2                        24                \n",
       "\n",
       "                                                                              \n",
       "                                                                              \n",
       "                                             2                            2   \n",
       "                              k*(-x_0 + x(t))    k_t*(-theta_0 + theta(t))    \n",
       "*(l_T*sin(theta(t)) - x(t)) - ---------------- - -------------------------- + \n",
       "                                     2                       2                \n",
       "\n",
       "  /                   2                                                       \n",
       "  |   2 /d           \\                        d            d          /d      \n",
       "m*|l_T *|--(theta(t))|  - 2*l_T*cos(theta(t))*--(theta(t))*--(x(t)) + |--(x(t)\n",
       "  \\     \\dt          /                        dt           dt         \\dt     \n",
       "------------------------------------------------------------------------------\n",
       "                                        2                                     \n",
       "\n",
       "  2\\\n",
       " \\ |\n",
       ")| |\n",
       " / /\n",
       "----\n",
       "    "
      ]
     },
     "execution_count": 29,
     "metadata": {},
     "output_type": "execute_result"
    }
   ],
   "source": [
    "L = T - V"
   ]
  },
  {
   "cell_type": "code",
   "execution_count": 37,
   "id": "8891013c",
   "metadata": {},
   "outputs": [
    {
     "data": {
      "text/latex": [
       "$\\begin{equation*}\\frac{a^{2} c \\cos^{2}{\\left(\\theta{\\left(t \\right)} \\right)} \\left(\\frac{d}{d t} \\theta{\\left(t \\right)}\\right)^{2}}{2}\\end{equation*}$\n"
      ],
      "text/plain": [
       "                                  2\n",
       " 2      2           /d           \\ \n",
       "a *c*cos (theta(t))*|--(theta(t))| \n",
       "                    \\dt          / \n",
       "-----------------------------------\n",
       "                 2                 "
      ]
     },
     "execution_count": 37,
     "metadata": {},
     "output_type": "execute_result"
    }
   ],
   "source": [
    "rc = a*(cos(θ)*ihat + sin(θ)*jhat)\n",
    "D = 1//2*c*dot(diff.(rc,t), jhat)^2"
   ]
  },
  {
   "cell_type": "code",
   "execution_count": 39,
   "id": "e5af7765",
   "metadata": {},
   "outputs": [
    {
     "data": {
      "text/latex": [
       "$\\left[ \\begin{array}{r}- g m - k \\left(x_{0} - x{\\left(t \\right)}\\right) + m \\left(l_{T} \\sin{\\left(\\theta{\\left(t \\right)} \\right)} \\left(\\frac{d}{d t} \\theta{\\left(t \\right)}\\right)^{2} - l_{T} \\cos{\\left(\\theta{\\left(t \\right)} \\right)} \\frac{d^{2}}{d t^{2}} \\theta{\\left(t \\right)} + \\frac{d^{2}}{d t^{2}} x{\\left(t \\right)}\\right)\\\\M g l_{G} \\cos{\\left(\\theta{\\left(t \\right)} \\right)} + M l_{G}^{2} \\frac{d^{2}}{d t^{2}} \\theta{\\left(t \\right)} + \\frac{M l_{T}^{2} \\frac{d^{2}}{d t^{2}} \\theta{\\left(t \\right)}}{12} + a^{2} c \\cos^{2}{\\left(\\theta{\\left(t \\right)} \\right)} \\frac{d}{d t} \\theta{\\left(t \\right)} + g l_{T} m \\cos{\\left(\\theta{\\left(t \\right)} \\right)} - k_{t} \\theta_{0} + k_{t} \\theta{\\left(t \\right)} + l_{T}^{2} m \\frac{d^{2}}{d t^{2}} \\theta{\\left(t \\right)} - l_{T} m \\cos{\\left(\\theta{\\left(t \\right)} \\right)} \\frac{d^{2}}{d t^{2}} x{\\left(t \\right)}\\end{array} \\right]$\n"
      ],
      "text/plain": [
       "2-element Vector{Sym}:\n",
       "                                                                                                                                               -g*m - k*(x_0 - x(t)) + m*(l_T*sin(theta(t))*Derivative(theta(t), t)^2 - l_T*cos(theta(t))*Derivative(theta(t), (t, 2)) + Derivative(x(t), (t, 2)))\n",
       " M*g*l_G*cos(theta(t)) + M*l_G^2*Derivative(theta(t), (t, 2)) + M*l_T^2*Derivative(theta(t), (t, 2))/12 + a^2*c*cos(theta(t))^2*Derivative(theta(t), t) + g*l_T*m*cos(theta(t)) - k_t*theta_0 + k_t*theta(t) + l_T^2*m*Derivative(theta(t), (t, 2)) - l_T*m*cos(theta(t))*Derivative(x(t), (t, 2))"
      ]
     },
     "execution_count": 39,
     "metadata": {},
     "output_type": "execute_result"
    }
   ],
   "source": [
    "lag = [ diff(L, diff(q,t),t) - diff(L,q) + diff(D, diff(q,t)) |> simplify for q in [x,θ] ]"
   ]
  },
  {
   "cell_type": "code",
   "execution_count": 43,
   "id": "9b7e12b7",
   "metadata": {},
   "outputs": [
    {
     "data": {
      "text/latex": [
       "$\\begin{equation*}0\\end{equation*}$\n"
      ],
      "text/plain": [
       "0"
      ]
     },
     "execution_count": 43,
     "metadata": {},
     "output_type": "execute_result"
    }
   ],
   "source": [
    "F = f*jhat\n",
    "dot(F, diff.(rf, x) )"
   ]
  },
  {
   "cell_type": "code",
   "execution_count": 44,
   "id": "968255c4",
   "metadata": {},
   "outputs": [
    {
     "data": {
      "text/latex": [
       "$\\begin{equation*}l_{f} f{\\left(t \\right)} \\cos{\\left(\\theta{\\left(t \\right)} \\right)}\\end{equation*}$\n"
      ],
      "text/plain": [
       "l_f*f(t)*cos(theta(t))"
      ]
     },
     "execution_count": 44,
     "metadata": {},
     "output_type": "execute_result"
    }
   ],
   "source": [
    "dot(F, diff.(rf, θ) )"
   ]
  },
  {
   "cell_type": "code",
   "execution_count": 45,
   "id": "62e95c72",
   "metadata": {},
   "outputs": [
    {
     "data": {
      "text/latex": [
       "$\\left[ \\begin{array}{r}0\\\\l_{f} f{\\left(t \\right)} \\cos{\\left(\\theta{\\left(t \\right)} \\right)}\\end{array} \\right]$\n"
      ],
      "text/plain": [
       "2-element Vector{Sym}:\n",
       "                      0\n",
       " l_f*f(t)*cos(theta(t))"
      ]
     },
     "execution_count": 45,
     "metadata": {},
     "output_type": "execute_result"
    }
   ],
   "source": [
    "Q = [ dot(F, diff.(rf, q) ) for q in [x,θ] ]"
   ]
  },
  {
   "cell_type": "code",
   "execution_count": null,
   "id": "2d43a4cb",
   "metadata": {},
   "outputs": [],
   "source": []
  },
  {
   "cell_type": "code",
   "execution_count": 46,
   "id": "4010781e",
   "metadata": {},
   "outputs": [
    {
     "data": {
      "text/plain": [
       "(p_1, p_2)"
      ]
     },
     "execution_count": 46,
     "metadata": {},
     "output_type": "execute_result"
    }
   ],
   "source": [
    "p1,p2 = symbols(\"p_1, p_2\", real=true)"
   ]
  },
  {
   "cell_type": "code",
   "execution_count": 49,
   "id": "74f9fb07",
   "metadata": {},
   "outputs": [
    {
     "data": {
      "text/latex": [
       "$\\left[ \\begin{array}{r}p_{1} = \\frac{m \\left(- 2 l_{T} \\cos{\\left(\\theta{\\left(t \\right)} \\right)} \\frac{d}{d t} \\theta{\\left(t \\right)} + 2 \\frac{d}{d t} x{\\left(t \\right)}\\right)}{2}\\\\p_{2} = M l_{G}^{2} \\frac{d}{d t} \\theta{\\left(t \\right)} + \\frac{M l_{T}^{2} \\frac{d}{d t} \\theta{\\left(t \\right)}}{12} + \\frac{m \\left(2 l_{T}^{2} \\frac{d}{d t} \\theta{\\left(t \\right)} - 2 l_{T} \\cos{\\left(\\theta{\\left(t \\right)} \\right)} \\frac{d}{d t} x{\\left(t \\right)}\\right)}{2}\\end{array} \\right]$\n"
      ],
      "text/plain": [
       "2-element Vector{Sym}:\n",
       "                                                                             Eq(p_1, m*(-2*l_T*cos(theta(t))*Derivative(theta(t), t) + 2*Derivative(x(t), t))/2)\n",
       " Eq(p_2, M*l_G^2*Derivative(theta(t), t) + M*l_T^2*Derivative(theta(t), t)/12 + m*(2*l_T^2*Derivative(theta(t), t) - 2*l_T*cos(theta(t))*Derivative(x(t), t))/2)"
      ]
     },
     "execution_count": 49,
     "metadata": {},
     "output_type": "execute_result"
    }
   ],
   "source": [
    "eqn1 = [ Eq(p1, diff(L, diff(x,t)) ),\n",
    "    Eq(p2, diff(L, diff(θ,t)))]"
   ]
  },
  {
   "cell_type": "code",
   "execution_count": 51,
   "id": "0639ed02",
   "metadata": {},
   "outputs": [
    {
     "data": {
      "text/plain": [
       "Dict{Any, Any} with 2 entries:\n",
       "  Derivative(x(t), t)     => (-12*M*l_G^2*p_1 - M*l_T^2*p_1 - 12*l_T^2*m*p_1 - …\n",
       "  Derivative(theta(t), t) => (-12*l_T*p_1*cos(theta(t)) - 12*p_2)/(-12*M*l_G^2 …"
      ]
     },
     "execution_count": 51,
     "metadata": {},
     "output_type": "execute_result"
    }
   ],
   "source": [
    "solp = solve(eqn1, [diff(x,t), diff(θ,t)])"
   ]
  },
  {
   "cell_type": "code",
   "execution_count": 54,
   "id": "56b7f0d6",
   "metadata": {},
   "outputs": [
    {
     "data": {
      "text/latex": [
       "$\\begin{equation*}\\frac{12 M m \\left(12 l_{G}^{2} + l_{T}^{2}\\right) \\left(l_{T} p_{1} \\cos{\\left(\\theta{\\left(t \\right)} \\right)} + p_{2}\\right)^{2} + 144 l_{T}^{2} m^{2} \\left(l_{T} p_{1} \\cos{\\left(\\theta{\\left(t \\right)} \\right)} + p_{2}\\right)^{2} - 24 l_{T} m \\left(l_{T} p_{1} \\cos{\\left(\\theta{\\left(t \\right)} \\right)} + p_{2}\\right) \\left(12 M l_{G}^{2} p_{1} + M l_{T}^{2} p_{1} + 12 l_{T}^{2} m p_{1} + 12 l_{T} m p_{2} \\cos{\\left(\\theta{\\left(t \\right)} \\right)}\\right) \\cos{\\left(\\theta{\\left(t \\right)} \\right)} + m \\left(12 M l_{G}^{2} + M l_{T}^{2} + 12 l_{T}^{2} m \\sin^{2}{\\left(\\theta{\\left(t \\right)} \\right)}\\right)^{2} \\left(2 M g l_{G} \\sin{\\left(\\theta{\\left(t \\right)} \\right)} + 2 g m \\left(l_{T} \\sin{\\left(\\theta{\\left(t \\right)} \\right)} - x{\\left(t \\right)}\\right) + k \\left(x_{0} - x{\\left(t \\right)}\\right)^{2} + k_{t} \\left(\\theta_{0} - \\theta{\\left(t \\right)}\\right)^{2}\\right) + \\left(12 M l_{G}^{2} p_{1} + M l_{T}^{2} p_{1} + 12 l_{T}^{2} m p_{1} + 12 l_{T} m p_{2} \\cos{\\left(\\theta{\\left(t \\right)} \\right)}\\right)^{2}}{2 m \\left(12 M l_{G}^{2} + M l_{T}^{2} + 12 l_{T}^{2} m \\sin^{2}{\\left(\\theta{\\left(t \\right)} \\right)}\\right)^{2}}\\end{equation*}$\n"
      ],
      "text/plain": [
       "                                                                              \n",
       "       /      2      2\\                              2          2  2          \n",
       "12*M*m*\\12*l_G  + l_T /*(l_T*p_1*cos(theta(t)) + p_2)  + 144*l_T *m *(l_T*p_1*\n",
       "------------------------------------------------------------------------------\n",
       "                                                                              \n",
       "                                                                              \n",
       "                                                                              \n",
       "\n",
       "                                                                              \n",
       "                    2                                          /        2     \n",
       "cos(theta(t)) + p_2)  - 24*l_T*m*(l_T*p_1*cos(theta(t)) + p_2)*\\12*M*l_G *p_1 \n",
       "------------------------------------------------------------------------------\n",
       "                                                                              \n",
       "                                                                              \n",
       "                                                                              \n",
       "\n",
       "                                                                              \n",
       "       2             2                                   \\                   /\n",
       "+ M*l_T *p_1 + 12*l_T *m*p_1 + 12*l_T*m*p_2*cos(theta(t))/*cos(theta(t)) + m*\\\n",
       "------------------------------------------------------------------------------\n",
       "                                                                              \n",
       "                                                       /        2        2    \n",
       "                                                   2*m*\\12*M*l_G  + M*l_T  + 1\n",
       "\n",
       "                                              2                               \n",
       "        2        2         2      2          \\  /                             \n",
       "12*M*l_G  + M*l_T  + 12*l_T *m*sin (theta(t))/ *\\2*M*g*l_G*sin(theta(t)) + 2*g\n",
       "------------------------------------------------------------------------------\n",
       "                        2                                                     \n",
       "     2      2          \\                                                      \n",
       "2*l_T *m*sin (theta(t))/                                                      \n",
       "\n",
       "                                                                              \n",
       "                                              2                           2\\  \n",
       "*m*(l_T*sin(theta(t)) - x(t)) + k*(x_0 - x(t))  + k_t*(theta_0 - theta(t)) / +\n",
       "------------------------------------------------------------------------------\n",
       "                                                                              \n",
       "                                                                              \n",
       "                                                                              \n",
       "\n",
       "                                                                          2\n",
       " /        2            2             2                                   \\ \n",
       " \\12*M*l_G *p_1 + M*l_T *p_1 + 12*l_T *m*p_1 + 12*l_T*m*p_2*cos(theta(t))/ \n",
       "---------------------------------------------------------------------------\n",
       "                                                                           \n",
       "                                                                           \n",
       "                                                                           "
      ]
     },
     "execution_count": 54,
     "metadata": {},
     "output_type": "execute_result"
    }
   ],
   "source": [
    "H = T + V |> subs(solp) |> simplify"
   ]
  },
  {
   "cell_type": "code",
   "execution_count": 65,
   "id": "834caf31",
   "metadata": {},
   "outputs": [
    {
     "data": {
      "text/latex": [
       "$\\left[ \\begin{array}{r}0\\\\- \\frac{a^{2} c \\left(- 12 l_{T} p_{1} \\cos{\\left(\\theta{\\left(t \\right)} \\right)} - 12 p_{2}\\right) \\cos^{2}{\\left(\\theta{\\left(t \\right)} \\right)}}{- 12 M l_{G}^{2} - M l_{T}^{2} + 12 l_{T}^{2} m \\cos^{2}{\\left(\\theta{\\left(t \\right)} \\right)} - 12 l_{T}^{2} m}\\end{array} \\right]$\n"
      ],
      "text/plain": [
       "2-element Vector{Sym}:\n",
       "                                                                                                                             0\n",
       " -a^2*c*(-12*l_T*p_1*cos(theta(t)) - 12*p_2)*cos(theta(t))^2/(-12*M*l_G^2 - M*l_T^2 + 12*l_T^2*m*cos(theta(t))^2 - 12*l_T^2*m)"
      ]
     },
     "execution_count": 65,
     "metadata": {},
     "output_type": "execute_result"
    }
   ],
   "source": [
    "Qdamping = - [ diff(D, diff(q,t)) |> subs(solp) for q in [x,θ] ]"
   ]
  },
  {
   "cell_type": "code",
   "execution_count": 69,
   "id": "8f7459d6",
   "metadata": {},
   "outputs": [
    {
     "data": {
      "text/latex": [
       "$\\left[ \\begin{array}{r}g m - \\frac{k \\left(- 2 x_{0} + 2 x{\\left(t \\right)}\\right)}{2}\\\\- \\frac{a^{2} c \\left(- 12 l_{T} p_{1} \\cos{\\left(\\theta{\\left(t \\right)} \\right)} - 12 p_{2}\\right) \\cos^{2}{\\left(\\theta{\\left(t \\right)} \\right)}}{- 12 M l_{G}^{2} - M l_{T}^{2} + 12 l_{T}^{2} m \\cos^{2}{\\left(\\theta{\\left(t \\right)} \\right)} - 12 l_{T}^{2} m} + \\frac{24 l_{T}^{2} \\left(12 M m \\left(12 l_{G}^{2} + l_{T}^{2}\\right) \\left(l_{T} p_{1} \\cos{\\left(\\theta{\\left(t \\right)} \\right)} + p_{2}\\right)^{2} + 144 l_{T}^{2} m^{2} \\left(l_{T} p_{1} \\cos{\\left(\\theta{\\left(t \\right)} \\right)} + p_{2}\\right)^{2} - 24 l_{T} m \\left(l_{T} p_{1} \\cos{\\left(\\theta{\\left(t \\right)} \\right)} + p_{2}\\right) \\left(12 M l_{G}^{2} p_{1} + M l_{T}^{2} p_{1} + 12 l_{T}^{2} m p_{1} + 12 l_{T} m p_{2} \\cos{\\left(\\theta{\\left(t \\right)} \\right)}\\right) \\cos{\\left(\\theta{\\left(t \\right)} \\right)} + m \\left(12 M l_{G}^{2} + M l_{T}^{2} + 12 l_{T}^{2} m \\sin^{2}{\\left(\\theta{\\left(t \\right)} \\right)}\\right)^{2} \\left(2 M g l_{G} \\sin{\\left(\\theta{\\left(t \\right)} \\right)} + 2 g m \\left(l_{T} \\sin{\\left(\\theta{\\left(t \\right)} \\right)} - x{\\left(t \\right)}\\right) + k \\left(x_{0} - x{\\left(t \\right)}\\right)^{2} + k_{t} \\left(\\theta_{0} - \\theta{\\left(t \\right)}\\right)^{2}\\right) + \\left(12 M l_{G}^{2} p_{1} + M l_{T}^{2} p_{1} + 12 l_{T}^{2} m p_{1} + 12 l_{T} m p_{2} \\cos{\\left(\\theta{\\left(t \\right)} \\right)}\\right)^{2}\\right) \\sin{\\left(\\theta{\\left(t \\right)} \\right)} \\cos{\\left(\\theta{\\left(t \\right)} \\right)}}{\\left(12 M l_{G}^{2} + M l_{T}^{2} + 12 l_{T}^{2} m \\sin^{2}{\\left(\\theta{\\left(t \\right)} \\right)}\\right)^{3}} + l_{f} f{\\left(t \\right)} \\cos{\\left(\\theta{\\left(t \\right)} \\right)} - \\frac{- 24 M l_{T} m p_{1} \\left(12 l_{G}^{2} + l_{T}^{2}\\right) \\left(l_{T} p_{1} \\cos{\\left(\\theta{\\left(t \\right)} \\right)} + p_{2}\\right) \\sin{\\left(\\theta{\\left(t \\right)} \\right)} - 288 l_{T}^{3} m^{2} p_{1} \\left(l_{T} p_{1} \\cos{\\left(\\theta{\\left(t \\right)} \\right)} + p_{2}\\right) \\sin{\\left(\\theta{\\left(t \\right)} \\right)} + 288 l_{T}^{2} m^{2} p_{2} \\left(l_{T} p_{1} \\cos{\\left(\\theta{\\left(t \\right)} \\right)} + p_{2}\\right) \\sin{\\left(\\theta{\\left(t \\right)} \\right)} \\cos{\\left(\\theta{\\left(t \\right)} \\right)} + 48 l_{T}^{2} m^{2} \\left(12 M l_{G}^{2} + M l_{T}^{2} + 12 l_{T}^{2} m \\sin^{2}{\\left(\\theta{\\left(t \\right)} \\right)}\\right) \\left(2 M g l_{G} \\sin{\\left(\\theta{\\left(t \\right)} \\right)} + 2 g m \\left(l_{T} \\sin{\\left(\\theta{\\left(t \\right)} \\right)} - x{\\left(t \\right)}\\right) + k \\left(x_{0} - x{\\left(t \\right)}\\right)^{2} + k_{t} \\left(\\theta_{0} - \\theta{\\left(t \\right)}\\right)^{2}\\right) \\sin{\\left(\\theta{\\left(t \\right)} \\right)} \\cos{\\left(\\theta{\\left(t \\right)} \\right)} + 24 l_{T}^{2} m p_{1} \\left(12 M l_{G}^{2} p_{1} + M l_{T}^{2} p_{1} + 12 l_{T}^{2} m p_{1} + 12 l_{T} m p_{2} \\cos{\\left(\\theta{\\left(t \\right)} \\right)}\\right) \\sin{\\left(\\theta{\\left(t \\right)} \\right)} \\cos{\\left(\\theta{\\left(t \\right)} \\right)} - 24 l_{T} m p_{2} \\left(12 M l_{G}^{2} p_{1} + M l_{T}^{2} p_{1} + 12 l_{T}^{2} m p_{1} + 12 l_{T} m p_{2} \\cos{\\left(\\theta{\\left(t \\right)} \\right)}\\right) \\sin{\\left(\\theta{\\left(t \\right)} \\right)} + 24 l_{T} m \\left(l_{T} p_{1} \\cos{\\left(\\theta{\\left(t \\right)} \\right)} + p_{2}\\right) \\left(12 M l_{G}^{2} p_{1} + M l_{T}^{2} p_{1} + 12 l_{T}^{2} m p_{1} + 12 l_{T} m p_{2} \\cos{\\left(\\theta{\\left(t \\right)} \\right)}\\right) \\sin{\\left(\\theta{\\left(t \\right)} \\right)} + m \\left(12 M l_{G}^{2} + M l_{T}^{2} + 12 l_{T}^{2} m \\sin^{2}{\\left(\\theta{\\left(t \\right)} \\right)}\\right)^{2} \\left(2 M g l_{G} \\cos{\\left(\\theta{\\left(t \\right)} \\right)} + 2 g l_{T} m \\cos{\\left(\\theta{\\left(t \\right)} \\right)} + k_{t} \\left(- 2 \\theta_{0} + 2 \\theta{\\left(t \\right)}\\right)\\right)}{2 m \\left(12 M l_{G}^{2} + M l_{T}^{2} + 12 l_{T}^{2} m \\sin^{2}{\\left(\\theta{\\left(t \\right)} \\right)}\\right)^{2}}\\end{array} \\right]$\n"
      ],
      "text/plain": [
       "2-element Vector{Sym}:\n",
       "                                                                                                                                                                                                                                                                                                                                                                                                                                                                                                                                                                                                                                                                                                                                                                                                                                                                                                                                                                                                                                                                                                                                                                                                                                                                                                                                                                                                                                                                                                                                                                                                                                                                                                                                                                g*m - k*(-2*x_0 + 2*x(t))/2\n",
       " -a^2*c*(-12*l_T*p_1*cos(theta(t)) - 12*p_2)*cos(theta(t))^2/(-12*M*l_G^2 - M*l_T^2 + 12*l_T^2*m*cos(theta(t))^2 - 12*l_T^2*m) + 24*l_T^2*(12*M*m*(12*l_G^2 + l_T^2)*(l_T*p_1*cos(theta(t)) + p_2)^2 + 144*l_T^2*m^2*(l_T*p_1*cos(theta(t)) + p_2)^2 - 24*l_T*m*(l_T*p_1*cos(theta(t)) + p_2)*(12*M*l_G^2*p_1 + M*l_T^2*p_1 + 12*l_T^2*m*p_1 + 12*l_T*m*p_2*cos(theta(t)))*cos(theta(t)) + m*(12*M*l_G^2 + M*l_T^2 + 12*l_T^2*m*sin(theta(t))^2)^2*(2*M*g*l_G*sin(theta(t)) + 2*g*m*(l_T*sin(theta(t)) - x(t)) + k*(x_0 - x(t))^2 + k_t*(theta_0 - theta(t))^2) + (12*M*l_G^2*p_1 + M*l_T^2*p_1 + 12*l_T^2*m*p_1 + 12*l_T*m*p_2*cos(theta(t)))^2)*sin(theta(t))*cos(theta(t))/(12*M*l_G^2 + M*l_T^2 + 12*l_T^2*m*sin(theta(t))^2)^3 + l_f*f(t)*cos(theta(t)) - (-24*M*l_T*m*p_1*(12*l_G^2 + l_T^2)*(l_T*p_1*cos(theta(t)) + p_2)*sin(theta(t)) - 288*l_T^3*m^2*p_1*(l_T*p_1*cos(theta(t)) + p_2)*sin(theta(t)) + 288*l_T^2*m^2*p_2*(l_T*p_1*cos(theta(t)) + p_2)*sin(theta(t))*cos(theta(t)) + 48*l_T^2*m^2*(12*M*l_G^2 + M*l_T^2 + 12*l_T^2*m*sin(theta(t))^2)*(2*M*g*l_G*sin(theta(t)) + 2*g*m*(l_T*sin(theta(t)) - x(t)) + k*(x_0 - x(t))^2 + k_t*(theta_0 - theta(t))^2)*sin(theta(t))*cos(theta(t)) + 24*l_T^2*m*p_1*(12*M*l_G^2*p_1 + M*l_T^2*p_1 + 12*l_T^2*m*p_1 + 12*l_T*m*p_2*cos(theta(t)))*sin(theta(t))*cos(theta(t)) - 24*l_T*m*p_2*(12*M*l_G^2*p_1 + M*l_T^2*p_1 + 12*l_T^2*m*p_1 + 12*l_T*m*p_2*cos(theta(t)))*sin(theta(t)) + 24*l_T*m*(l_T*p_1*cos(theta(t)) + p_2)*(12*M*l_G^2*p_1 + M*l_T^2*p_1 + 12*l_T^2*m*p_1 + 12*l_T*m*p_2*cos(theta(t)))*sin(theta(t)) + m*(12*M*l_G^2 + M*l_T^2 + 12*l_T^2*m*sin(theta(t))^2)^2*(2*M*g*l_G*cos(theta(t)) + 2*g*l_T*m*cos(theta(t)) + k_t*(-2*theta_0 + 2*theta(t))))/(2*m*(12*M*l_G^2 + M*l_T^2 + 12*l_T^2*m*sin(theta(t))^2)^2)"
      ]
     },
     "execution_count": 69,
     "metadata": {},
     "output_type": "execute_result"
    }
   ],
   "source": [
    "pdot = [ -diff(H, q) for q in [x,θ] ] + Q  + Qdamping"
   ]
  },
  {
   "cell_type": "code",
   "execution_count": 68,
   "id": "ed87c00b",
   "metadata": {},
   "outputs": [
    {
     "data": {
      "text/latex": [
       "$\\left[ \\begin{array}{r}\\frac{24 M l_{T} m \\left(12 l_{G}^{2} + l_{T}^{2}\\right) \\left(l_{T} p_{1} \\cos{\\left(\\theta{\\left(t \\right)} \\right)} + p_{2}\\right) \\cos{\\left(\\theta{\\left(t \\right)} \\right)} + 288 l_{T}^{3} m^{2} \\left(l_{T} p_{1} \\cos{\\left(\\theta{\\left(t \\right)} \\right)} + p_{2}\\right) \\cos{\\left(\\theta{\\left(t \\right)} \\right)} - 24 l_{T}^{2} m \\left(12 M l_{G}^{2} p_{1} + M l_{T}^{2} p_{1} + 12 l_{T}^{2} m p_{1} + 12 l_{T} m p_{2} \\cos{\\left(\\theta{\\left(t \\right)} \\right)}\\right) \\cos^{2}{\\left(\\theta{\\left(t \\right)} \\right)} - 24 l_{T} m \\left(l_{T} p_{1} \\cos{\\left(\\theta{\\left(t \\right)} \\right)} + p_{2}\\right) \\left(12 M l_{G}^{2} + M l_{T}^{2} + 12 l_{T}^{2} m\\right) \\cos{\\left(\\theta{\\left(t \\right)} \\right)} + \\left(24 M l_{G}^{2} + 2 M l_{T}^{2} + 24 l_{T}^{2} m\\right) \\left(12 M l_{G}^{2} p_{1} + M l_{T}^{2} p_{1} + 12 l_{T}^{2} m p_{1} + 12 l_{T} m p_{2} \\cos{\\left(\\theta{\\left(t \\right)} \\right)}\\right)}{2 m \\left(12 M l_{G}^{2} + M l_{T}^{2} + 12 l_{T}^{2} m \\sin^{2}{\\left(\\theta{\\left(t \\right)} \\right)}\\right)^{2}}\\\\\\frac{12 M m \\left(12 l_{G}^{2} + l_{T}^{2}\\right) \\left(2 l_{T} p_{1} \\cos{\\left(\\theta{\\left(t \\right)} \\right)} + 2 p_{2}\\right) - 288 l_{T}^{2} m^{2} \\left(l_{T} p_{1} \\cos{\\left(\\theta{\\left(t \\right)} \\right)} + p_{2}\\right) \\cos^{2}{\\left(\\theta{\\left(t \\right)} \\right)} + 144 l_{T}^{2} m^{2} \\left(2 l_{T} p_{1} \\cos{\\left(\\theta{\\left(t \\right)} \\right)} + 2 p_{2}\\right)}{2 m \\left(12 M l_{G}^{2} + M l_{T}^{2} + 12 l_{T}^{2} m \\sin^{2}{\\left(\\theta{\\left(t \\right)} \\right)}\\right)^{2}}\\end{array} \\right]$\n"
      ],
      "text/plain": [
       "2-element Vector{Sym}:\n",
       " (24*M*l_T*m*(12*l_G^2 + l_T^2)*(l_T*p_1*cos(theta(t)) + p_2)*cos(theta(t)) + 288*l_T^3*m^2*(l_T*p_1*cos(theta(t)) + p_2)*cos(theta(t)) - 24*l_T^2*m*(12*M*l_G^2*p_1 + M*l_T^2*p_1 + 12*l_T^2*m*p_1 + 12*l_T*m*p_2*cos(theta(t)))*cos(theta(t))^2 - 24*l_T*m*(l_T*p_1*cos(theta(t)) + p_2)*(12*M*l_G^2 + M*l_T^2 + 12*l_T^2*m)*cos(theta(t)) + (24*M*l_G^2 + 2*M*l_T^2 + 24*l_T^2*m)*(12*M*l_G^2*p_1 + M*l_T^2*p_1 + 12*l_T^2*m*p_1 + 12*l_T*m*p_2*cos(theta(t))))/(2*m*(12*M*l_G^2 + M*l_T^2 + 12*l_T^2*m*sin(theta(t))^2)^2)\n",
       "                                                                                                                                                                                                                                                                                     (12*M*m*(12*l_G^2 + l_T^2)*(2*l_T*p_1*cos(theta(t)) + 2*p_2) - 288*l_T^2*m^2*(l_T*p_1*cos(theta(t)) + p_2)*cos(theta(t))^2 + 144*l_T^2*m^2*(2*l_T*p_1*cos(theta(t)) + 2*p_2))/(2*m*(12*M*l_G^2 + M*l_T^2 + 12*l_T^2*m*sin(theta(t))^2)^2)"
      ]
     },
     "execution_count": 68,
     "metadata": {},
     "output_type": "execute_result"
    }
   ],
   "source": [
    "qdot = [ diff(H, p) for p in [p1,p2]]"
   ]
  },
  {
   "cell_type": "code",
   "execution_count": 72,
   "id": "ed4bf796",
   "metadata": {},
   "outputs": [
    {
     "name": "stdout",
     "output_type": "stream",
     "text": [
      "% Not supported in Octave:\n",
      "% f\n",
      "% theta\n",
      "% x\n",
      "[g.*m - k.*(-2*x_0 + 2*x(t))/2; -a.^2.*c.*(-12*l_T.*p_1.*cos(theta(t)) - 12*p_2).*cos(theta(t)).^2./(-12*M.*l_G.^2 - M.*l_T.^2 + 12*l_T.^2.*m.*cos(theta(t)).^2 - 12*l_T.^2.*m) + 24*l_T.^2.*(12*M.*m.*(12*l_G.^2 + l_T.^2).*(l_T.*p_1.*cos(theta(t)) + p_2).^2 + 144*l_T.^2.*m.^2.*(l_T.*p_1.*cos(theta(t)) + p_2).^2 - 24*l_T.*m.*(l_T.*p_1.*cos(theta(t)) + p_2).*(12*M.*l_G.^2.*p_1 + M.*l_T.^2.*p_1 + 12*l_T.^2.*m.*p_1 + 12*l_T.*m.*p_2.*cos(theta(t))).*cos(theta(t)) + m.*(12*M.*l_G.^2 + M.*l_T.^2 + 12*l_T.^2.*m.*sin(theta(t)).^2).^2.*(2*M.*g.*l_G.*sin(theta(t)) + 2*g.*m.*(l_T.*sin(theta(t)) - x(t)) + k.*(x_0 - x(t)).^2 + k_t.*(theta_0 - theta(t)).^2) + (12*M.*l_G.^2.*p_1 + M.*l_T.^2.*p_1 + 12*l_T.^2.*m.*p_1 + 12*l_T.*m.*p_2.*cos(theta(t))).^2).*sin(theta(t)).*cos(theta(t))./(12*M.*l_G.^2 + M.*l_T.^2 + 12*l_T.^2.*m.*sin(theta(t)).^2).^3 + l_f.*f(t).*cos(theta(t)) - (-24*M.*l_T.*m.*p_1.*(12*l_G.^2 + l_T.^2).*(l_T.*p_1.*cos(theta(t)) + p_2).*sin(theta(t)) - 288*l_T.^3.*m.^2.*p_1.*(l_T.*p_1.*cos(theta(t)) + p_2).*sin(theta(t)) + 288*l_T.^2.*m.^2.*p_2.*(l_T.*p_1.*cos(theta(t)) + p_2).*sin(theta(t)).*cos(theta(t)) + 48*l_T.^2.*m.^2.*(12*M.*l_G.^2 + M.*l_T.^2 + 12*l_T.^2.*m.*sin(theta(t)).^2).*(2*M.*g.*l_G.*sin(theta(t)) + 2*g.*m.*(l_T.*sin(theta(t)) - x(t)) + k.*(x_0 - x(t)).^2 + k_t.*(theta_0 - theta(t)).^2).*sin(theta(t)).*cos(theta(t)) + 24*l_T.^2.*m.*p_1.*(12*M.*l_G.^2.*p_1 + M.*l_T.^2.*p_1 + 12*l_T.^2.*m.*p_1 + 12*l_T.*m.*p_2.*cos(theta(t))).*sin(theta(t)).*cos(theta(t)) - 24*l_T.*m.*p_2.*(12*M.*l_G.^2.*p_1 + M.*l_T.^2.*p_1 + 12*l_T.^2.*m.*p_1 + 12*l_T.*m.*p_2.*cos(theta(t))).*sin(theta(t)) + 24*l_T.*m.*(l_T.*p_1.*cos(theta(t)) + p_2).*(12*M.*l_G.^2.*p_1 + M.*l_T.^2.*p_1 + 12*l_T.^2.*m.*p_1 + 12*l_T.*m.*p_2.*cos(theta(t))).*sin(theta(t)) + m.*(12*M.*l_G.^2 + M.*l_T.^2 + 12*l_T.^2.*m.*sin(theta(t)).^2).^2.*(2*M.*g.*l_G.*cos(theta(t)) + 2*g.*l_T.*m.*cos(theta(t)) + k_t.*(-2*theta_0 + 2*theta(t))))./(2*m.*(12*M.*l_G.^2 + M.*l_T.^2 + 12*l_T.^2.*m.*sin(theta(t)).^2).^2)]\n"
     ]
    }
   ],
   "source": [
    "sympy.octave_code(pdot) |> println"
   ]
  }
 ],
 "metadata": {
  "kernelspec": {
   "display_name": "Julia 1.6.0",
   "language": "julia",
   "name": "julia-1.6"
  },
  "language_info": {
   "file_extension": ".jl",
   "mimetype": "application/julia",
   "name": "julia",
   "version": "1.6.0"
  }
 },
 "nbformat": 4,
 "nbformat_minor": 5
}
