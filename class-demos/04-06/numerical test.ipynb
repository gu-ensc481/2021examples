{
 "cells": [
  {
   "cell_type": "markdown",
   "id": "78a45ac2",
   "metadata": {},
   "source": [
    "# Numerical tests"
   ]
  },
  {
   "cell_type": "code",
   "execution_count": 4,
   "id": "fb3fe89d",
   "metadata": {},
   "outputs": [
    {
     "name": "stderr",
     "output_type": "stream",
     "text": [
      "\u001b[32m\u001b[1m  Activating\u001b[22m\u001b[39m environment at `C:\\Users\\fitzgeraldt\\Documents\\ensc481-2021-examples\\class-demos\\04-06\\Project.toml`\n",
      "┌ Info: Precompiling DifferentialEquations [0c46a032-eb83-5123-abaf-570d42b7fbaa]\n",
      "└ @ Base loading.jl:1317\n"
     ]
    }
   ],
   "source": [
    "using Pkg\n",
    "Pkg.activate(\".\")\n",
    "# First time only:\n",
    "# Pkg.instantiate()\n",
    "using DifferentialEquations, Plots"
   ]
  },
  {
   "cell_type": "code",
   "execution_count": 24,
   "id": "de5af8ff",
   "metadata": {},
   "outputs": [
    {
     "data": {
      "text/plain": [
       "sysode! (generic function with 1 method)"
      ]
     },
     "execution_count": 24,
     "metadata": {},
     "output_type": "execute_result"
    }
   ],
   "source": [
    "function sysode!(dz,z,params,t) \n",
    "    M, m, g, k, k_t, c, a, l_G, l_T, l_f, θ_0, x_0, f = params\n",
    "    \n",
    "    p_1,p_2 = z[1:2]\n",
    "    x,θ = z[3:4]\n",
    "    \n",
    "    # copied from the derivation sheet\n",
    "    pdot = [g*m + k*(x_0 - x), -a^2*c*(-12*l_T*p_1*cos(θ) - 12*p_2)*cos(θ)^2/(-12*M*l_G^2 - M*l_T^2 + 12*l_T^2*m*cos(θ)^2 - 12*l_T^2*m) + l_f*f(t)*cos(θ) + (24*l_T^2*(12*M*m*(12*l_G^2 + l_T^2)*(l_T*p_1*cos(θ) + p_2)^2 + 144*l_T^2*m^2*(l_T*p_1*cos(θ) + p_2)^2 - 24*l_T*m*(l_T*p_1*cos(θ) + p_2)*(12*M*l_G^2*p_1 + M*l_T^2*p_1 + 12*l_T^2*m*p_1 + 12*l_T*m*p_2*cos(θ))*cos(θ) + m*(12*M*l_G^2 + M*l_T^2 + 12*l_T^2*m*sin(θ)^2)^2*(2*M*g*l_G*sin(θ) + 2*g*m*(l_T*sin(θ) - x) + k*(x_0 - x)^2 + k_t*(θ_0 - θ)^2) + (12*M*l_G^2*p_1 + M*l_T^2*p_1 + 12*l_T^2*m*p_1 + 12*l_T*m*p_2*cos(θ))^2)*sin(θ)*cos(θ) + (12*M*l_G^2 + M*l_T^2 + 12*l_T^2*m*sin(θ)^2)*(12*M*l_T*p_1*(12*l_G^2 + l_T^2)*(l_T*p_1*cos(θ) + p_2)*sin(θ) + 144*l_T^3*m*p_1*(l_T*p_1*cos(θ) + p_2)*sin(θ) - 144*l_T^2*m*p_2*(l_T*p_1*cos(θ) + p_2)*sin(θ)*cos(θ) - 24*l_T^2*m*(12*M*l_G^2 + M*l_T^2 + 12*l_T^2*m*sin(θ)^2)*(2*M*g*l_G*sin(θ) + 2*g*m*(l_T*sin(θ) - x) + k*(x_0 - x)^2 + k_t*(θ_0 - θ)^2)*sin(θ)*cos(θ) - 12*l_T^2*p_1*(12*M*l_G^2*p_1 + M*l_T^2*p_1 + 12*l_T^2*m*p_1 + 12*l_T*m*p_2*cos(θ))*sin(θ)*cos(θ) + 12*l_T*p_2*(12*M*l_G^2*p_1 + M*l_T^2*p_1 + 12*l_T^2*m*p_1 + 12*l_T*m*p_2*cos(θ))*sin(θ) - 12*l_T*(l_T*p_1*cos(θ) + p_2)*(12*M*l_G^2*p_1 + M*l_T^2*p_1 + 12*l_T^2*m*p_1 + 12*l_T*m*p_2*cos(θ))*sin(θ) - (12*M*l_G^2 + M*l_T^2 + 12*l_T^2*m*sin(θ)^2)^2*(M*g*l_G*cos(θ) + g*l_T*m*cos(θ) - k_t*(θ_0 - θ))))/(12*M*l_G^2 + M*l_T^2 + 12*l_T^2*m*sin(θ)^2)^3]\n",
    "    qdot = [(24*M*l_T*m*(12*l_G^2 + l_T^2)*(l_T*p_1*cos(θ) + p_2)*cos(θ) + 288*l_T^3*m^2*(l_T*p_1*cos(θ) + p_2)*cos(θ) - 24*l_T^2*m*(12*M*l_G^2*p_1 + M*l_T^2*p_1 + 12*l_T^2*m*p_1 + 12*l_T*m*p_2*cos(θ))*cos(θ)^2 - 24*l_T*m*(l_T*p_1*cos(θ) + p_2)*(12*M*l_G^2 + M*l_T^2 + 12*l_T^2*m)*cos(θ) + (24*M*l_G^2 + 2*M*l_T^2 + 24*l_T^2*m)*(12*M*l_G^2*p_1 + M*l_T^2*p_1 + 12*l_T^2*m*p_1 + 12*l_T*m*p_2*cos(θ)))/(2*m*(12*M*l_G^2 + M*l_T^2 + 12*l_T^2*m*sin(θ)^2)^2), (12*M*m*(12*l_G^2 + l_T^2)*(2*l_T*p_1*cos(θ) + 2*p_2) - 288*l_T^2*m^2*(l_T*p_1*cos(θ) + p_2)*cos(θ)^2 + 144*l_T^2*m^2*(2*l_T*p_1*cos(θ) + 2*p_2))/(2*m*(12*M*l_G^2 + M*l_T^2 + 12*l_T^2*m*sin(θ)^2)^2)]\n",
    "    dz[1:4] .= vcat(pdot, qdot)\n",
    "end"
   ]
  },
  {
   "cell_type": "code",
   "execution_count": 32,
   "id": "ae16b804",
   "metadata": {},
   "outputs": [
    {
     "data": {
      "text/plain": [
       "\u001b[36mODEProblem\u001b[0m with uType \u001b[36mVector{Float64}\u001b[0m and tType \u001b[36mFloat64\u001b[0m. In-place: \u001b[36mtrue\u001b[0m\n",
       "timespan: (0.0, 10.0)\n",
       "u0: 4-element Vector{Float64}:\n",
       " 0.0\n",
       " 0.0\n",
       " 0.2\n",
       " 0.1"
      ]
     },
     "execution_count": 32,
     "metadata": {},
     "output_type": "execute_result"
    }
   ],
   "source": [
    "M = 2.\n",
    "m = 0.5\n",
    "g = 9.81\n",
    "k = 30\n",
    "k_t= 50\n",
    "c = 0.2\n",
    "l_T = 1.0\n",
    "a = 0.2*l_T\n",
    "l_G = l_T/2\n",
    "l_f = 0.8*l_T\n",
    "x_eq = 0.3\n",
    "θ_0 = (M*g*l_G + g*l_T*m)/k_t\n",
    "x_0 = (-g*m + k*x_eq)/k\n",
    "f(t) = 0.\n",
    "params = (M, m, g, k, k_t, c, a, l_G, l_T, l_f, θ_0, x_0, f)\n",
    "tspan = (0,10.)\n",
    "z0 = [ 0., 0., 0.2, 0.1]\n",
    "prob = ODEProblem(sysode!, z0, tspan, params)"
   ]
  },
  {
   "cell_type": "code",
   "execution_count": 34,
   "id": "109a8990",
   "metadata": {},
   "outputs": [],
   "source": [
    "sol = solve(prob);"
   ]
  },
  {
   "cell_type": "markdown",
   "id": "2ca0e1ca",
   "metadata": {},
   "source": [
    "## Animation"
   ]
  },
  {
   "cell_type": "code",
   "execution_count": null,
   "id": "8da450c4",
   "metadata": {},
   "outputs": [],
   "source": []
  }
 ],
 "metadata": {
  "kernelspec": {
   "display_name": "Julia 1.6.0",
   "language": "julia",
   "name": "julia-1.6"
  },
  "language_info": {
   "file_extension": ".jl",
   "mimetype": "application/julia",
   "name": "julia",
   "version": "1.6.0"
  }
 },
 "nbformat": 4,
 "nbformat_minor": 5
}
