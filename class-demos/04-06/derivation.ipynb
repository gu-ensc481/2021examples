{
 "cells": [
  {
   "cell_type": "markdown",
   "id": "8cf9d83a",
   "metadata": {},
   "source": [
    "# Example: Bar with elastic mass\n",
    "Started in class, 6-Apr-2021.  \n",
    "\n",
    "The uniform bar in the vertical plane has a point-mass attached via a spring at the tip.  The two coordinates of the problem are $q = (x,\\theta)$.  There is an external force $f$ that acts vertically.  The torsion spring has an unstretched angle $\\theta_0$, and the linear spring has an unstretched length of $x_0$.\n",
    "\n",
    "![Bad sketch of the system](system_sketch.svg)\n",
    "\n",
    "\n",
    "## Problem setup and constants"
   ]
  },
  {
   "cell_type": "code",
   "execution_count": 1,
   "id": "8205435c",
   "metadata": {},
   "outputs": [],
   "source": [
    "using SymPy"
   ]
  },
  {
   "cell_type": "code",
   "execution_count": 2,
   "id": "25c6c465",
   "metadata": {},
   "outputs": [],
   "source": [
    "M, m, g, k, kt, c, a, lG, lT, lf ,t, θ0, x0 = symbols(\"M, m, g, k, k_t, c, a, l_G, l_T, l_f , t, theta_0, x_0\", real=true, positive=true)\n",
    "x = SymFunction(\"x\")(t)\n",
    "θ = SymFunction(\"theta\")(t)\n",
    "f = SymFunction(\"f\")(t)\n",
    "ihat = [1,0,0]\n",
    "jhat = [0,1,0]\n",
    "khat = [0,0,1]\n",
    ";"
   ]
  },
  {
   "cell_type": "markdown",
   "id": "87d768d8",
   "metadata": {},
   "source": [
    "Now let's build position vectors to each important point in the system.  Each position is with respect to the fixed-point at $O$."
   ]
  },
  {
   "cell_type": "code",
   "execution_count": 3,
   "id": "86be36a9",
   "metadata": {},
   "outputs": [
    {
     "data": {
      "text/latex": [
       "$\\left[ \\begin{array}{r}l_{G} \\cos{\\left(\\theta{\\left(t \\right)} \\right)}\\\\l_{G} \\sin{\\left(\\theta{\\left(t \\right)} \\right)}\\\\0\\end{array} \\right]$\n"
      ],
      "text/plain": [
       "3-element Vector{Sym}:\n",
       " l_G*cos(theta(t))\n",
       " l_G*sin(theta(t))\n",
       "                 0"
      ]
     },
     "execution_count": 3,
     "metadata": {},
     "output_type": "execute_result"
    }
   ],
   "source": [
    "rG = lG*(cos(θ)*ihat + sin(θ)*jhat)"
   ]
  },
  {
   "cell_type": "code",
   "execution_count": 4,
   "id": "44f89c88",
   "metadata": {},
   "outputs": [
    {
     "data": {
      "text/latex": [
       "$\\left[ \\begin{array}{r}l_{f} \\cos{\\left(\\theta{\\left(t \\right)} \\right)}\\\\l_{f} \\sin{\\left(\\theta{\\left(t \\right)} \\right)}\\\\0\\end{array} \\right]$\n"
      ],
      "text/plain": [
       "3-element Vector{Sym}:\n",
       " l_f*cos(theta(t))\n",
       " l_f*sin(theta(t))\n",
       "                 0"
      ]
     },
     "execution_count": 4,
     "metadata": {},
     "output_type": "execute_result"
    }
   ],
   "source": [
    "rf = lf*(cos(θ)*ihat + sin(θ)*jhat)"
   ]
  },
  {
   "cell_type": "code",
   "execution_count": 5,
   "id": "ec91a756",
   "metadata": {},
   "outputs": [
    {
     "data": {
      "text/latex": [
       "$\\left[ \\begin{array}{r}a \\cos{\\left(\\theta{\\left(t \\right)} \\right)}\\\\a \\sin{\\left(\\theta{\\left(t \\right)} \\right)}\\\\0\\end{array} \\right]$\n"
      ],
      "text/plain": [
       "3-element Vector{Sym}:\n",
       " a*cos(theta(t))\n",
       " a*sin(theta(t))\n",
       "               0"
      ]
     },
     "execution_count": 5,
     "metadata": {},
     "output_type": "execute_result"
    }
   ],
   "source": [
    "ra = a*(cos(θ)*ihat + sin(θ)*jhat)"
   ]
  },
  {
   "cell_type": "code",
   "execution_count": 6,
   "id": "284cae92",
   "metadata": {},
   "outputs": [
    {
     "data": {
      "text/latex": [
       "$\\left[ \\begin{array}{r}l_{T} \\cos{\\left(\\theta{\\left(t \\right)} \\right)}\\\\l_{T} \\sin{\\left(\\theta{\\left(t \\right)} \\right)}\\\\0\\end{array} \\right]$\n"
      ],
      "text/plain": [
       "3-element Vector{Sym}:\n",
       " l_T*cos(theta(t))\n",
       " l_T*sin(theta(t))\n",
       "                 0"
      ]
     },
     "execution_count": 6,
     "metadata": {},
     "output_type": "execute_result"
    }
   ],
   "source": [
    "rB = lT*(cos(θ)*ihat + sin(θ)*jhat)"
   ]
  },
  {
   "cell_type": "code",
   "execution_count": 7,
   "id": "54acfc34",
   "metadata": {},
   "outputs": [
    {
     "data": {
      "text/latex": [
       "$\\left[ \\begin{array}{r}l_{T} \\cos{\\left(\\theta{\\left(t \\right)} \\right)}\\\\l_{T} \\sin{\\left(\\theta{\\left(t \\right)} \\right)} - x{\\left(t \\right)}\\\\0\\end{array} \\right]$\n"
      ],
      "text/plain": [
       "3-element Vector{Sym}:\n",
       "        l_T*cos(theta(t))\n",
       " l_T*sin(theta(t)) - x(t)\n",
       "                        0"
      ]
     },
     "execution_count": 7,
     "metadata": {},
     "output_type": "execute_result"
    }
   ],
   "source": [
    "rm = rB - x*jhat"
   ]
  },
  {
   "cell_type": "markdown",
   "id": "70ca3c70",
   "metadata": {},
   "source": [
    "## Let's build the Lagrangian\n",
    "\n",
    "$$ T = \\frac{1}{2} M \\dot{\\vec{r}}_G \\cdot \\dot{\\vec{r}}_G + \\frac{1}{2} J_G \\dot{\\theta}^2 + \\frac{1}{2} m \\dot{\\vec{r}}_m\\cdot \\dot{\\vec{r}}_m$$\n",
    "\n",
    "$$ V = \\frac{1}{2} k_t \\left( \\theta - \\theta_0 \\right)^2 + \\frac{1}{2} k \\left( x - x_0 \\right)^2  + M g \\vec{r}_G \\cdot \\hat{j} + m g \\vec{r}_m \\cdot \\hat{j}$$"
   ]
  },
  {
   "cell_type": "code",
   "execution_count": 8,
   "id": "af6f1a76",
   "metadata": {},
   "outputs": [
    {
     "data": {
      "text/latex": [
       "$\\begin{equation*}\\frac{M l_{G}^{2} \\left(\\frac{d}{d t} \\theta{\\left(t \\right)}\\right)^{2}}{2} + \\frac{M l_{T}^{2} \\left(\\frac{d}{d t} \\theta{\\left(t \\right)}\\right)^{2}}{24} + \\frac{m \\left(l_{T}^{2} \\left(\\frac{d}{d t} \\theta{\\left(t \\right)}\\right)^{2} - 2 l_{T} \\cos{\\left(\\theta{\\left(t \\right)} \\right)} \\frac{d}{d t} \\theta{\\left(t \\right)} \\frac{d}{d t} x{\\left(t \\right)} + \\left(\\frac{d}{d t} x{\\left(t \\right)}\\right)^{2}\\right)}{2}\\end{equation*}$\n"
      ],
      "text/plain": [
       "                     2                        2     /                   2     \n",
       "     2 /d           \\         2 /d           \\      |   2 /d           \\      \n",
       "M*l_G *|--(theta(t))|    M*l_T *|--(theta(t))|    m*|l_T *|--(theta(t))|  - 2*\n",
       "       \\dt          /           \\dt          /      \\     \\dt          /      \n",
       "---------------------- + ---------------------- + ----------------------------\n",
       "          2                        24                                         \n",
       "\n",
       "                                                    2\\\n",
       "                  d            d          /d       \\ |\n",
       "l_T*cos(theta(t))*--(theta(t))*--(x(t)) + |--(x(t))| |\n",
       "                  dt           dt         \\dt      / /\n",
       "------------------------------------------------------\n",
       "            2                                         "
      ]
     },
     "execution_count": 8,
     "metadata": {},
     "output_type": "execute_result"
    }
   ],
   "source": [
    "dot(a,b) = sum(a .* b)\n",
    "JG = 1//12*M*lT^2\n",
    "T = 1//2*M*dot( diff.(rG,t), diff.(rG,t) ) + 1//2*JG*diff(θ,t)^2 + 1//2*m*dot( diff.(rm,t), diff.(rm,t)) |> simplify"
   ]
  },
  {
   "cell_type": "code",
   "execution_count": 9,
   "id": "7fb8e1d8",
   "metadata": {},
   "outputs": [
    {
     "data": {
      "text/latex": [
       "$\\begin{equation*}M g l_{G} \\sin{\\left(\\theta{\\left(t \\right)} \\right)} + g m \\left(l_{T} \\sin{\\left(\\theta{\\left(t \\right)} \\right)} - x{\\left(t \\right)}\\right) + \\frac{k \\left(- x_{0} + x{\\left(t \\right)}\\right)^{2}}{2} + \\frac{k_{t} \\left(- \\theta_{0} + \\theta{\\left(t \\right)}\\right)^{2}}{2}\\end{equation*}$\n"
      ],
      "text/plain": [
       "                                                                        2     \n",
       "                                                         k*(-x_0 + x(t))    k_\n",
       "M*g*l_G*sin(theta(t)) + g*m*(l_T*sin(theta(t)) - x(t)) + ---------------- + --\n",
       "                                                                2             \n",
       "\n",
       "                       2\n",
       "t*(-theta_0 + theta(t)) \n",
       "------------------------\n",
       "          2             "
      ]
     },
     "execution_count": 9,
     "metadata": {},
     "output_type": "execute_result"
    }
   ],
   "source": [
    "V = 1//2*kt*(θ - θ0)^2 + 1//2*k*(x - x0)^2 + M*g*dot(rG, jhat) + m*g*dot(rm, jhat)"
   ]
  },
  {
   "cell_type": "code",
   "execution_count": 10,
   "id": "42a2d49a",
   "metadata": {},
   "outputs": [
    {
     "data": {
      "text/latex": [
       "$\\begin{equation*}- M g l_{G} \\sin{\\left(\\theta{\\left(t \\right)} \\right)} + \\frac{M l_{G}^{2} \\left(\\frac{d}{d t} \\theta{\\left(t \\right)}\\right)^{2}}{2} + \\frac{M l_{T}^{2} \\left(\\frac{d}{d t} \\theta{\\left(t \\right)}\\right)^{2}}{24} - g m \\left(l_{T} \\sin{\\left(\\theta{\\left(t \\right)} \\right)} - x{\\left(t \\right)}\\right) - \\frac{k \\left(- x_{0} + x{\\left(t \\right)}\\right)^{2}}{2} - \\frac{k_{t} \\left(- \\theta_{0} + \\theta{\\left(t \\right)}\\right)^{2}}{2} + \\frac{m \\left(l_{T}^{2} \\left(\\frac{d}{d t} \\theta{\\left(t \\right)}\\right)^{2} - 2 l_{T} \\cos{\\left(\\theta{\\left(t \\right)} \\right)} \\frac{d}{d t} \\theta{\\left(t \\right)} \\frac{d}{d t} x{\\left(t \\right)} + \\left(\\frac{d}{d t} x{\\left(t \\right)}\\right)^{2}\\right)}{2}\\end{equation*}$\n"
      ],
      "text/plain": [
       "                                              2                        2      \n",
       "                              2 /d           \\         2 /d           \\       \n",
       "                         M*l_G *|--(theta(t))|    M*l_T *|--(theta(t))|       \n",
       "                                \\dt          /           \\dt          /       \n",
       "-M*g*l_G*sin(theta(t)) + ---------------------- + ---------------------- - g*m\n",
       "                                   2                        24                \n",
       "\n",
       "                                                                              \n",
       "                                                                              \n",
       "                                             2                            2   \n",
       "                              k*(-x_0 + x(t))    k_t*(-theta_0 + theta(t))    \n",
       "*(l_T*sin(theta(t)) - x(t)) - ---------------- - -------------------------- + \n",
       "                                     2                       2                \n",
       "\n",
       "  /                   2                                                       \n",
       "  |   2 /d           \\                        d            d          /d      \n",
       "m*|l_T *|--(theta(t))|  - 2*l_T*cos(theta(t))*--(theta(t))*--(x(t)) + |--(x(t)\n",
       "  \\     \\dt          /                        dt           dt         \\dt     \n",
       "------------------------------------------------------------------------------\n",
       "                                        2                                     \n",
       "\n",
       "  2\\\n",
       " \\ |\n",
       ")| |\n",
       " / /\n",
       "----\n",
       "    "
      ]
     },
     "execution_count": 10,
     "metadata": {},
     "output_type": "execute_result"
    }
   ],
   "source": [
    "L = T - V"
   ]
  },
  {
   "cell_type": "markdown",
   "id": "2de4be0c",
   "metadata": {},
   "source": [
    "## "
   ]
  },
  {
   "cell_type": "code",
   "execution_count": 11,
   "id": "c85473ab",
   "metadata": {},
   "outputs": [
    {
     "data": {
      "text/latex": [
       "$\\begin{equation*}\\frac{a^{2} c \\cos^{2}{\\left(\\theta{\\left(t \\right)} \\right)} \\left(\\frac{d}{d t} \\theta{\\left(t \\right)}\\right)^{2}}{2}\\end{equation*}$\n"
      ],
      "text/plain": [
       "                                  2\n",
       " 2      2           /d           \\ \n",
       "a *c*cos (theta(t))*|--(theta(t))| \n",
       "                    \\dt          / \n",
       "-----------------------------------\n",
       "                 2                 "
      ]
     },
     "execution_count": 11,
     "metadata": {},
     "output_type": "execute_result"
    }
   ],
   "source": [
    "rc = a*(cos(θ)*ihat + sin(θ)*jhat)\n",
    "D = 1//2*c*dot(diff.(rc,t), jhat)^2"
   ]
  },
  {
   "cell_type": "markdown",
   "id": "80035b53",
   "metadata": {},
   "source": [
    "## Lagrange's Equation"
   ]
  },
  {
   "cell_type": "code",
   "execution_count": 12,
   "id": "cba787db",
   "metadata": {},
   "outputs": [
    {
     "data": {
      "text/latex": [
       "$\\left[ \\begin{array}{r}- g m - k \\left(x_{0} - x{\\left(t \\right)}\\right) + m \\left(l_{T} \\sin{\\left(\\theta{\\left(t \\right)} \\right)} \\left(\\frac{d}{d t} \\theta{\\left(t \\right)}\\right)^{2} - l_{T} \\cos{\\left(\\theta{\\left(t \\right)} \\right)} \\frac{d^{2}}{d t^{2}} \\theta{\\left(t \\right)} + \\frac{d^{2}}{d t^{2}} x{\\left(t \\right)}\\right)\\\\M g l_{G} \\cos{\\left(\\theta{\\left(t \\right)} \\right)} + M l_{G}^{2} \\frac{d^{2}}{d t^{2}} \\theta{\\left(t \\right)} + \\frac{M l_{T}^{2} \\frac{d^{2}}{d t^{2}} \\theta{\\left(t \\right)}}{12} + a^{2} c \\cos^{2}{\\left(\\theta{\\left(t \\right)} \\right)} \\frac{d}{d t} \\theta{\\left(t \\right)} + g l_{T} m \\cos{\\left(\\theta{\\left(t \\right)} \\right)} - k_{t} \\theta_{0} + k_{t} \\theta{\\left(t \\right)} + l_{T}^{2} m \\frac{d^{2}}{d t^{2}} \\theta{\\left(t \\right)} - l_{T} m \\cos{\\left(\\theta{\\left(t \\right)} \\right)} \\frac{d^{2}}{d t^{2}} x{\\left(t \\right)}\\end{array} \\right]$\n"
      ],
      "text/plain": [
       "2-element Vector{Sym}:\n",
       "                                                                                                                                               -g*m - k*(x_0 - x(t)) + m*(l_T*sin(theta(t))*Derivative(theta(t), t)^2 - l_T*cos(theta(t))*Derivative(theta(t), (t, 2)) + Derivative(x(t), (t, 2)))\n",
       " M*g*l_G*cos(theta(t)) + M*l_G^2*Derivative(theta(t), (t, 2)) + M*l_T^2*Derivative(theta(t), (t, 2))/12 + a^2*c*cos(theta(t))^2*Derivative(theta(t), t) + g*l_T*m*cos(theta(t)) - k_t*theta_0 + k_t*theta(t) + l_T^2*m*Derivative(theta(t), (t, 2)) - l_T*m*cos(theta(t))*Derivative(x(t), (t, 2))"
      ]
     },
     "execution_count": 12,
     "metadata": {},
     "output_type": "execute_result"
    }
   ],
   "source": [
    "lag = [ diff(L, diff(q,t),t) - diff(L,q) + diff(D, diff(q,t)) |> simplify for q in [x,θ] ]"
   ]
  },
  {
   "cell_type": "markdown",
   "id": "0ddbe3b0",
   "metadata": {},
   "source": [
    "Now let's work on the generalized forces $Q_k = \\vec{F} \\cdot \\frac{\\partial \\vec{r}_f}{\\partial q_k}$"
   ]
  },
  {
   "cell_type": "code",
   "execution_count": 13,
   "id": "1c4ad489",
   "metadata": {},
   "outputs": [
    {
     "data": {
      "text/latex": [
       "$\\begin{equation*}0\\end{equation*}$\n"
      ],
      "text/plain": [
       "0"
      ]
     },
     "execution_count": 13,
     "metadata": {},
     "output_type": "execute_result"
    }
   ],
   "source": [
    "F = f*jhat\n",
    "dot(F, diff.(rf, x) )"
   ]
  },
  {
   "cell_type": "code",
   "execution_count": 14,
   "id": "e56ac9bf",
   "metadata": {},
   "outputs": [
    {
     "data": {
      "text/latex": [
       "$\\begin{equation*}l_{f} f{\\left(t \\right)} \\cos{\\left(\\theta{\\left(t \\right)} \\right)}\\end{equation*}$\n"
      ],
      "text/plain": [
       "l_f*f(t)*cos(theta(t))"
      ]
     },
     "execution_count": 14,
     "metadata": {},
     "output_type": "execute_result"
    }
   ],
   "source": [
    "dot(F, diff.(rf, θ) )"
   ]
  },
  {
   "cell_type": "code",
   "execution_count": 15,
   "id": "fa50bdf3",
   "metadata": {},
   "outputs": [
    {
     "data": {
      "text/latex": [
       "$\\left[ \\begin{array}{r}0\\\\l_{f} f{\\left(t \\right)} \\cos{\\left(\\theta{\\left(t \\right)} \\right)}\\end{array} \\right]$\n"
      ],
      "text/plain": [
       "2-element Vector{Sym}:\n",
       "                      0\n",
       " l_f*f(t)*cos(theta(t))"
      ]
     },
     "execution_count": 15,
     "metadata": {},
     "output_type": "execute_result"
    }
   ],
   "source": [
    "Q = [ dot(F, diff.(rf, q) ) for q in [x,θ] ]"
   ]
  },
  {
   "cell_type": "markdown",
   "id": "68ab3abe",
   "metadata": {},
   "source": [
    "## Hamilton's Equation\n",
    "\n",
    "First, let's compute the transforms between $\\dot q$ and $p$"
   ]
  },
  {
   "cell_type": "code",
   "execution_count": 16,
   "id": "58097154",
   "metadata": {},
   "outputs": [
    {
     "data": {
      "text/plain": [
       "(p_1, p_2)"
      ]
     },
     "execution_count": 16,
     "metadata": {},
     "output_type": "execute_result"
    }
   ],
   "source": [
    "p1,p2 = symbols(\"p_1, p_2\", real=true)"
   ]
  },
  {
   "cell_type": "code",
   "execution_count": 28,
   "id": "28506474",
   "metadata": {},
   "outputs": [
    {
     "data": {
      "text/latex": [
       "$\\left[ \\begin{array}{r}p_{1} = \\frac{m \\left(- 2 l_{T} \\cos{\\left(\\theta{\\left(t \\right)} \\right)} \\frac{d}{d t} \\theta{\\left(t \\right)} + 2 \\frac{d}{d t} x{\\left(t \\right)}\\right)}{2}\\\\p_{2} = M l_{G}^{2} \\frac{d}{d t} \\theta{\\left(t \\right)} + \\frac{M l_{T}^{2} \\frac{d}{d t} \\theta{\\left(t \\right)}}{12} + \\frac{m \\left(2 l_{T}^{2} \\frac{d}{d t} \\theta{\\left(t \\right)} - 2 l_{T} \\cos{\\left(\\theta{\\left(t \\right)} \\right)} \\frac{d}{d t} x{\\left(t \\right)}\\right)}{2}\\end{array} \\right]$\n"
      ],
      "text/plain": [
       "2-element Vector{Sym}:\n",
       "                                                                             Eq(p_1, m*(-2*l_T*cos(theta(t))*Derivative(theta(t), t) + 2*Derivative(x(t), t))/2)\n",
       " Eq(p_2, M*l_G^2*Derivative(theta(t), t) + M*l_T^2*Derivative(theta(t), t)/12 + m*(2*l_T^2*Derivative(theta(t), t) - 2*l_T*cos(theta(t))*Derivative(x(t), t))/2)"
      ]
     },
     "execution_count": 28,
     "metadata": {},
     "output_type": "execute_result"
    }
   ],
   "source": [
    "eqn1 = [ Eq(p1, diff(L, diff(x,t)) ),\n",
    "    Eq(p2, diff(L, diff(θ,t)) ) ]"
   ]
  },
  {
   "cell_type": "code",
   "execution_count": 18,
   "id": "d576de76",
   "metadata": {},
   "outputs": [
    {
     "data": {
      "text/plain": [
       "Dict{Any, Any} with 2 entries:\n",
       "  Derivative(x(t), t)     => (-12*M*l_G^2*p_1 - M*l_T^2*p_1 - 12*l_T^2*m*p_1 - …\n",
       "  Derivative(theta(t), t) => (-12*l_T*p_1*cos(theta(t)) - 12*p_2)/(-12*M*l_G^2 …"
      ]
     },
     "execution_count": 18,
     "metadata": {},
     "output_type": "execute_result"
    }
   ],
   "source": [
    "solp = solve(eqn1, [diff(x,t), diff(θ,t)])"
   ]
  },
  {
   "cell_type": "markdown",
   "id": "c76e5d7a",
   "metadata": {},
   "source": [
    "Now, let's build the Hamiltonian"
   ]
  },
  {
   "cell_type": "code",
   "execution_count": 19,
   "id": "56f97d98",
   "metadata": {},
   "outputs": [
    {
     "data": {
      "text/latex": [
       "$\\begin{equation*}\\frac{12 M m \\left(12 l_{G}^{2} + l_{T}^{2}\\right) \\left(l_{T} p_{1} \\cos{\\left(\\theta{\\left(t \\right)} \\right)} + p_{2}\\right)^{2} + 144 l_{T}^{2} m^{2} \\left(l_{T} p_{1} \\cos{\\left(\\theta{\\left(t \\right)} \\right)} + p_{2}\\right)^{2} - 24 l_{T} m \\left(l_{T} p_{1} \\cos{\\left(\\theta{\\left(t \\right)} \\right)} + p_{2}\\right) \\left(12 M l_{G}^{2} p_{1} + M l_{T}^{2} p_{1} + 12 l_{T}^{2} m p_{1} + 12 l_{T} m p_{2} \\cos{\\left(\\theta{\\left(t \\right)} \\right)}\\right) \\cos{\\left(\\theta{\\left(t \\right)} \\right)} + m \\left(12 M l_{G}^{2} + M l_{T}^{2} + 12 l_{T}^{2} m \\sin^{2}{\\left(\\theta{\\left(t \\right)} \\right)}\\right)^{2} \\left(2 M g l_{G} \\sin{\\left(\\theta{\\left(t \\right)} \\right)} + 2 g m \\left(l_{T} \\sin{\\left(\\theta{\\left(t \\right)} \\right)} - x{\\left(t \\right)}\\right) + k \\left(x_{0} - x{\\left(t \\right)}\\right)^{2} + k_{t} \\left(\\theta_{0} - \\theta{\\left(t \\right)}\\right)^{2}\\right) + \\left(12 M l_{G}^{2} p_{1} + M l_{T}^{2} p_{1} + 12 l_{T}^{2} m p_{1} + 12 l_{T} m p_{2} \\cos{\\left(\\theta{\\left(t \\right)} \\right)}\\right)^{2}}{2 m \\left(12 M l_{G}^{2} + M l_{T}^{2} + 12 l_{T}^{2} m \\sin^{2}{\\left(\\theta{\\left(t \\right)} \\right)}\\right)^{2}}\\end{equation*}$\n"
      ],
      "text/plain": [
       "                                                                              \n",
       "       /      2      2\\                              2          2  2          \n",
       "12*M*m*\\12*l_G  + l_T /*(l_T*p_1*cos(theta(t)) + p_2)  + 144*l_T *m *(l_T*p_1*\n",
       "------------------------------------------------------------------------------\n",
       "                                                                              \n",
       "                                                                              \n",
       "                                                                              \n",
       "\n",
       "                                                                              \n",
       "                    2                                          /        2     \n",
       "cos(theta(t)) + p_2)  - 24*l_T*m*(l_T*p_1*cos(theta(t)) + p_2)*\\12*M*l_G *p_1 \n",
       "------------------------------------------------------------------------------\n",
       "                                                                              \n",
       "                                                                              \n",
       "                                                                              \n",
       "\n",
       "                                                                              \n",
       "       2             2                                   \\                   /\n",
       "+ M*l_T *p_1 + 12*l_T *m*p_1 + 12*l_T*m*p_2*cos(theta(t))/*cos(theta(t)) + m*\\\n",
       "------------------------------------------------------------------------------\n",
       "                                                                              \n",
       "                                                       /        2        2    \n",
       "                                                   2*m*\\12*M*l_G  + M*l_T  + 1\n",
       "\n",
       "                                              2                               \n",
       "        2        2         2      2          \\  /                             \n",
       "12*M*l_G  + M*l_T  + 12*l_T *m*sin (theta(t))/ *\\2*M*g*l_G*sin(theta(t)) + 2*g\n",
       "------------------------------------------------------------------------------\n",
       "                        2                                                     \n",
       "     2      2          \\                                                      \n",
       "2*l_T *m*sin (theta(t))/                                                      \n",
       "\n",
       "                                                                              \n",
       "                                              2                           2\\  \n",
       "*m*(l_T*sin(theta(t)) - x(t)) + k*(x_0 - x(t))  + k_t*(theta_0 - theta(t)) / +\n",
       "------------------------------------------------------------------------------\n",
       "                                                                              \n",
       "                                                                              \n",
       "                                                                              \n",
       "\n",
       "                                                                          2\n",
       " /        2            2             2                                   \\ \n",
       " \\12*M*l_G *p_1 + M*l_T *p_1 + 12*l_T *m*p_1 + 12*l_T*m*p_2*cos(theta(t))/ \n",
       "---------------------------------------------------------------------------\n",
       "                                                                           \n",
       "                                                                           \n",
       "                                                                           "
      ]
     },
     "execution_count": 19,
     "metadata": {},
     "output_type": "execute_result"
    }
   ],
   "source": [
    "H = T + V |> subs(solp) |> simplify"
   ]
  },
  {
   "cell_type": "markdown",
   "id": "23fd1105",
   "metadata": {},
   "source": [
    "Let's convert the damping in terms of $p$"
   ]
  },
  {
   "cell_type": "code",
   "execution_count": 20,
   "id": "550c005f",
   "metadata": {},
   "outputs": [
    {
     "data": {
      "text/latex": [
       "$\\left[ \\begin{array}{r}0\\\\- \\frac{a^{2} c \\left(- 12 l_{T} p_{1} \\cos{\\left(\\theta{\\left(t \\right)} \\right)} - 12 p_{2}\\right) \\cos^{2}{\\left(\\theta{\\left(t \\right)} \\right)}}{- 12 M l_{G}^{2} - M l_{T}^{2} + 12 l_{T}^{2} m \\cos^{2}{\\left(\\theta{\\left(t \\right)} \\right)} - 12 l_{T}^{2} m}\\end{array} \\right]$\n"
      ],
      "text/plain": [
       "2-element Vector{Sym}:\n",
       "                                                                                                                             0\n",
       " -a^2*c*(-12*l_T*p_1*cos(theta(t)) - 12*p_2)*cos(theta(t))^2/(-12*M*l_G^2 - M*l_T^2 + 12*l_T^2*m*cos(theta(t))^2 - 12*l_T^2*m)"
      ]
     },
     "execution_count": 20,
     "metadata": {},
     "output_type": "execute_result"
    }
   ],
   "source": [
    "Qdamping = - [ diff(D, diff(q,t)) |> subs(solp) for q in [x,θ] ]"
   ]
  },
  {
   "cell_type": "markdown",
   "id": "c3b413fa",
   "metadata": {},
   "source": [
    "Now let's build Hamilton's equation\n",
    "$$ \\dot{p}_k = -\\frac{\\partial H}{\\partial q_k} + Q_k + Q_{k,\\text{damping}}$$\n",
    "$$ \\dot{q}_k = \\frac{\\partial H}{\\partial p_k} $$\n"
   ]
  },
  {
   "cell_type": "code",
   "execution_count": 21,
   "id": "e273360e",
   "metadata": {},
   "outputs": [
    {
     "data": {
      "text/latex": [
       "$\\left[ \\begin{array}{r}g m + k \\left(x_{0} - x{\\left(t \\right)}\\right)\\\\- \\frac{a^{2} c \\left(- 12 l_{T} p_{1} \\cos{\\left(\\theta{\\left(t \\right)} \\right)} - 12 p_{2}\\right) \\cos^{2}{\\left(\\theta{\\left(t \\right)} \\right)}}{- 12 M l_{G}^{2} - M l_{T}^{2} + 12 l_{T}^{2} m \\cos^{2}{\\left(\\theta{\\left(t \\right)} \\right)} - 12 l_{T}^{2} m} + l_{f} f{\\left(t \\right)} \\cos{\\left(\\theta{\\left(t \\right)} \\right)} + \\frac{24 l_{T}^{2} \\left(12 M m \\left(12 l_{G}^{2} + l_{T}^{2}\\right) \\left(l_{T} p_{1} \\cos{\\left(\\theta{\\left(t \\right)} \\right)} + p_{2}\\right)^{2} + 144 l_{T}^{2} m^{2} \\left(l_{T} p_{1} \\cos{\\left(\\theta{\\left(t \\right)} \\right)} + p_{2}\\right)^{2} - 24 l_{T} m \\left(l_{T} p_{1} \\cos{\\left(\\theta{\\left(t \\right)} \\right)} + p_{2}\\right) \\left(12 M l_{G}^{2} p_{1} + M l_{T}^{2} p_{1} + 12 l_{T}^{2} m p_{1} + 12 l_{T} m p_{2} \\cos{\\left(\\theta{\\left(t \\right)} \\right)}\\right) \\cos{\\left(\\theta{\\left(t \\right)} \\right)} + m \\left(12 M l_{G}^{2} + M l_{T}^{2} + 12 l_{T}^{2} m \\sin^{2}{\\left(\\theta{\\left(t \\right)} \\right)}\\right)^{2} \\left(2 M g l_{G} \\sin{\\left(\\theta{\\left(t \\right)} \\right)} + 2 g m \\left(l_{T} \\sin{\\left(\\theta{\\left(t \\right)} \\right)} - x{\\left(t \\right)}\\right) + k \\left(x_{0} - x{\\left(t \\right)}\\right)^{2} + k_{t} \\left(\\theta_{0} - \\theta{\\left(t \\right)}\\right)^{2}\\right) + \\left(12 M l_{G}^{2} p_{1} + M l_{T}^{2} p_{1} + 12 l_{T}^{2} m p_{1} + 12 l_{T} m p_{2} \\cos{\\left(\\theta{\\left(t \\right)} \\right)}\\right)^{2}\\right) \\sin{\\left(\\theta{\\left(t \\right)} \\right)} \\cos{\\left(\\theta{\\left(t \\right)} \\right)} + \\left(12 M l_{G}^{2} + M l_{T}^{2} + 12 l_{T}^{2} m \\sin^{2}{\\left(\\theta{\\left(t \\right)} \\right)}\\right) \\left(12 M l_{T} p_{1} \\left(12 l_{G}^{2} + l_{T}^{2}\\right) \\left(l_{T} p_{1} \\cos{\\left(\\theta{\\left(t \\right)} \\right)} + p_{2}\\right) \\sin{\\left(\\theta{\\left(t \\right)} \\right)} + 144 l_{T}^{3} m p_{1} \\left(l_{T} p_{1} \\cos{\\left(\\theta{\\left(t \\right)} \\right)} + p_{2}\\right) \\sin{\\left(\\theta{\\left(t \\right)} \\right)} - 144 l_{T}^{2} m p_{2} \\left(l_{T} p_{1} \\cos{\\left(\\theta{\\left(t \\right)} \\right)} + p_{2}\\right) \\sin{\\left(\\theta{\\left(t \\right)} \\right)} \\cos{\\left(\\theta{\\left(t \\right)} \\right)} - 24 l_{T}^{2} m \\left(12 M l_{G}^{2} + M l_{T}^{2} + 12 l_{T}^{2} m \\sin^{2}{\\left(\\theta{\\left(t \\right)} \\right)}\\right) \\left(2 M g l_{G} \\sin{\\left(\\theta{\\left(t \\right)} \\right)} + 2 g m \\left(l_{T} \\sin{\\left(\\theta{\\left(t \\right)} \\right)} - x{\\left(t \\right)}\\right) + k \\left(x_{0} - x{\\left(t \\right)}\\right)^{2} + k_{t} \\left(\\theta_{0} - \\theta{\\left(t \\right)}\\right)^{2}\\right) \\sin{\\left(\\theta{\\left(t \\right)} \\right)} \\cos{\\left(\\theta{\\left(t \\right)} \\right)} - 12 l_{T}^{2} p_{1} \\left(12 M l_{G}^{2} p_{1} + M l_{T}^{2} p_{1} + 12 l_{T}^{2} m p_{1} + 12 l_{T} m p_{2} \\cos{\\left(\\theta{\\left(t \\right)} \\right)}\\right) \\sin{\\left(\\theta{\\left(t \\right)} \\right)} \\cos{\\left(\\theta{\\left(t \\right)} \\right)} + 12 l_{T} p_{2} \\left(12 M l_{G}^{2} p_{1} + M l_{T}^{2} p_{1} + 12 l_{T}^{2} m p_{1} + 12 l_{T} m p_{2} \\cos{\\left(\\theta{\\left(t \\right)} \\right)}\\right) \\sin{\\left(\\theta{\\left(t \\right)} \\right)} - 12 l_{T} \\left(l_{T} p_{1} \\cos{\\left(\\theta{\\left(t \\right)} \\right)} + p_{2}\\right) \\left(12 M l_{G}^{2} p_{1} + M l_{T}^{2} p_{1} + 12 l_{T}^{2} m p_{1} + 12 l_{T} m p_{2} \\cos{\\left(\\theta{\\left(t \\right)} \\right)}\\right) \\sin{\\left(\\theta{\\left(t \\right)} \\right)} - \\left(12 M l_{G}^{2} + M l_{T}^{2} + 12 l_{T}^{2} m \\sin^{2}{\\left(\\theta{\\left(t \\right)} \\right)}\\right)^{2} \\left(M g l_{G} \\cos{\\left(\\theta{\\left(t \\right)} \\right)} + g l_{T} m \\cos{\\left(\\theta{\\left(t \\right)} \\right)} - k_{t} \\left(\\theta_{0} - \\theta{\\left(t \\right)}\\right)\\right)\\right)}{\\left(12 M l_{G}^{2} + M l_{T}^{2} + 12 l_{T}^{2} m \\sin^{2}{\\left(\\theta{\\left(t \\right)} \\right)}\\right)^{3}}\\end{array} \\right]$\n"
      ],
      "text/plain": [
       "2-element Vector{Sym}:\n",
       "                                                                                                                                                                                                                                                                                                                                                                                                                                                                                                                                                                                                                                                                                                                                                                                                                                                                                                                                                                                                                                                                                                                                                                                                                                                                                                                                                                                                                                                                                                                                                                                                                                                                                                                                       g*m + k*(x_0 - x(t))\n",
       " -a^2*c*(-12*l_T*p_1*cos(theta(t)) - 12*p_2)*cos(theta(t))^2/(-12*M*l_G^2 - M*l_T^2 + 12*l_T^2*m*cos(theta(t))^2 - 12*l_T^2*m) + l_f*f(t)*cos(theta(t)) + (24*l_T^2*(12*M*m*(12*l_G^2 + l_T^2)*(l_T*p_1*cos(theta(t)) + p_2)^2 + 144*l_T^2*m^2*(l_T*p_1*cos(theta(t)) + p_2)^2 - 24*l_T*m*(l_T*p_1*cos(theta(t)) + p_2)*(12*M*l_G^2*p_1 + M*l_T^2*p_1 + 12*l_T^2*m*p_1 + 12*l_T*m*p_2*cos(theta(t)))*cos(theta(t)) + m*(12*M*l_G^2 + M*l_T^2 + 12*l_T^2*m*sin(theta(t))^2)^2*(2*M*g*l_G*sin(theta(t)) + 2*g*m*(l_T*sin(theta(t)) - x(t)) + k*(x_0 - x(t))^2 + k_t*(theta_0 - theta(t))^2) + (12*M*l_G^2*p_1 + M*l_T^2*p_1 + 12*l_T^2*m*p_1 + 12*l_T*m*p_2*cos(theta(t)))^2)*sin(theta(t))*cos(theta(t)) + (12*M*l_G^2 + M*l_T^2 + 12*l_T^2*m*sin(theta(t))^2)*(12*M*l_T*p_1*(12*l_G^2 + l_T^2)*(l_T*p_1*cos(theta(t)) + p_2)*sin(theta(t)) + 144*l_T^3*m*p_1*(l_T*p_1*cos(theta(t)) + p_2)*sin(theta(t)) - 144*l_T^2*m*p_2*(l_T*p_1*cos(theta(t)) + p_2)*sin(theta(t))*cos(theta(t)) - 24*l_T^2*m*(12*M*l_G^2 + M*l_T^2 + 12*l_T^2*m*sin(theta(t))^2)*(2*M*g*l_G*sin(theta(t)) + 2*g*m*(l_T*sin(theta(t)) - x(t)) + k*(x_0 - x(t))^2 + k_t*(theta_0 - theta(t))^2)*sin(theta(t))*cos(theta(t)) - 12*l_T^2*p_1*(12*M*l_G^2*p_1 + M*l_T^2*p_1 + 12*l_T^2*m*p_1 + 12*l_T*m*p_2*cos(theta(t)))*sin(theta(t))*cos(theta(t)) + 12*l_T*p_2*(12*M*l_G^2*p_1 + M*l_T^2*p_1 + 12*l_T^2*m*p_1 + 12*l_T*m*p_2*cos(theta(t)))*sin(theta(t)) - 12*l_T*(l_T*p_1*cos(theta(t)) + p_2)*(12*M*l_G^2*p_1 + M*l_T^2*p_1 + 12*l_T^2*m*p_1 + 12*l_T*m*p_2*cos(theta(t)))*sin(theta(t)) - (12*M*l_G^2 + M*l_T^2 + 12*l_T^2*m*sin(theta(t))^2)^2*(M*g*l_G*cos(theta(t)) + g*l_T*m*cos(theta(t)) - k_t*(theta_0 - theta(t)))))/(12*M*l_G^2 + M*l_T^2 + 12*l_T^2*m*sin(theta(t))^2)^3"
      ]
     },
     "execution_count": 21,
     "metadata": {},
     "output_type": "execute_result"
    }
   ],
   "source": [
    "pdot = [ -diff(H, q) |> simplify for q in [x,θ] ] + Q  + Qdamping"
   ]
  },
  {
   "cell_type": "code",
   "execution_count": 22,
   "id": "476a8bbc",
   "metadata": {},
   "outputs": [
    {
     "data": {
      "text/latex": [
       "$\\left[ \\begin{array}{r}\\frac{24 M l_{T} m \\left(12 l_{G}^{2} + l_{T}^{2}\\right) \\left(l_{T} p_{1} \\cos{\\left(\\theta{\\left(t \\right)} \\right)} + p_{2}\\right) \\cos{\\left(\\theta{\\left(t \\right)} \\right)} + 288 l_{T}^{3} m^{2} \\left(l_{T} p_{1} \\cos{\\left(\\theta{\\left(t \\right)} \\right)} + p_{2}\\right) \\cos{\\left(\\theta{\\left(t \\right)} \\right)} - 24 l_{T}^{2} m \\left(12 M l_{G}^{2} p_{1} + M l_{T}^{2} p_{1} + 12 l_{T}^{2} m p_{1} + 12 l_{T} m p_{2} \\cos{\\left(\\theta{\\left(t \\right)} \\right)}\\right) \\cos^{2}{\\left(\\theta{\\left(t \\right)} \\right)} - 24 l_{T} m \\left(l_{T} p_{1} \\cos{\\left(\\theta{\\left(t \\right)} \\right)} + p_{2}\\right) \\left(12 M l_{G}^{2} + M l_{T}^{2} + 12 l_{T}^{2} m\\right) \\cos{\\left(\\theta{\\left(t \\right)} \\right)} + \\left(24 M l_{G}^{2} + 2 M l_{T}^{2} + 24 l_{T}^{2} m\\right) \\left(12 M l_{G}^{2} p_{1} + M l_{T}^{2} p_{1} + 12 l_{T}^{2} m p_{1} + 12 l_{T} m p_{2} \\cos{\\left(\\theta{\\left(t \\right)} \\right)}\\right)}{2 m \\left(12 M l_{G}^{2} + M l_{T}^{2} + 12 l_{T}^{2} m \\sin^{2}{\\left(\\theta{\\left(t \\right)} \\right)}\\right)^{2}}\\\\\\frac{12 M m \\left(12 l_{G}^{2} + l_{T}^{2}\\right) \\left(2 l_{T} p_{1} \\cos{\\left(\\theta{\\left(t \\right)} \\right)} + 2 p_{2}\\right) - 288 l_{T}^{2} m^{2} \\left(l_{T} p_{1} \\cos{\\left(\\theta{\\left(t \\right)} \\right)} + p_{2}\\right) \\cos^{2}{\\left(\\theta{\\left(t \\right)} \\right)} + 144 l_{T}^{2} m^{2} \\left(2 l_{T} p_{1} \\cos{\\left(\\theta{\\left(t \\right)} \\right)} + 2 p_{2}\\right)}{2 m \\left(12 M l_{G}^{2} + M l_{T}^{2} + 12 l_{T}^{2} m \\sin^{2}{\\left(\\theta{\\left(t \\right)} \\right)}\\right)^{2}}\\end{array} \\right]$\n"
      ],
      "text/plain": [
       "2-element Vector{Sym}:\n",
       " (24*M*l_T*m*(12*l_G^2 + l_T^2)*(l_T*p_1*cos(theta(t)) + p_2)*cos(theta(t)) + 288*l_T^3*m^2*(l_T*p_1*cos(theta(t)) + p_2)*cos(theta(t)) - 24*l_T^2*m*(12*M*l_G^2*p_1 + M*l_T^2*p_1 + 12*l_T^2*m*p_1 + 12*l_T*m*p_2*cos(theta(t)))*cos(theta(t))^2 - 24*l_T*m*(l_T*p_1*cos(theta(t)) + p_2)*(12*M*l_G^2 + M*l_T^2 + 12*l_T^2*m)*cos(theta(t)) + (24*M*l_G^2 + 2*M*l_T^2 + 24*l_T^2*m)*(12*M*l_G^2*p_1 + M*l_T^2*p_1 + 12*l_T^2*m*p_1 + 12*l_T*m*p_2*cos(theta(t))))/(2*m*(12*M*l_G^2 + M*l_T^2 + 12*l_T^2*m*sin(theta(t))^2)^2)\n",
       "                                                                                                                                                                                                                                                                                     (12*M*m*(12*l_G^2 + l_T^2)*(2*l_T*p_1*cos(theta(t)) + 2*p_2) - 288*l_T^2*m^2*(l_T*p_1*cos(theta(t)) + p_2)*cos(theta(t))^2 + 144*l_T^2*m^2*(2*l_T*p_1*cos(theta(t)) + 2*p_2))/(2*m*(12*M*l_G^2 + M*l_T^2 + 12*l_T^2*m*sin(theta(t))^2)^2)"
      ]
     },
     "execution_count": 22,
     "metadata": {},
     "output_type": "execute_result"
    }
   ],
   "source": [
    "qdot = [ diff(H, p) for p in [p1,p2]]"
   ]
  },
  {
   "cell_type": "markdown",
   "id": "82445c5e",
   "metadata": {},
   "source": [
    "Exporting can be done systematically using the `sympy.octave_code` to get to Matlab, or `sympy.julia_code` to export Julia code."
   ]
  },
  {
   "cell_type": "code",
   "execution_count": 23,
   "id": "da60d9cc",
   "metadata": {},
   "outputs": [
    {
     "name": "stdout",
     "output_type": "stream",
     "text": [
      "% Not supported in Octave:\n",
      "% f\n",
      "% theta\n",
      "% x\n",
      "[g.*m + k.*(x_0 - x(t)); -a.^2.*c.*(-12*l_T.*p_1.*cos(theta(t)) - 12*p_2).*cos(theta(t)).^2./(-12*M.*l_G.^2 - M.*l_T.^2 + 12*l_T.^2.*m.*cos(theta(t)).^2 - 12*l_T.^2.*m) + l_f.*f(t).*cos(theta(t)) + (24*l_T.^2.*(12*M.*m.*(12*l_G.^2 + l_T.^2).*(l_T.*p_1.*cos(theta(t)) + p_2).^2 + 144*l_T.^2.*m.^2.*(l_T.*p_1.*cos(theta(t)) + p_2).^2 - 24*l_T.*m.*(l_T.*p_1.*cos(theta(t)) + p_2).*(12*M.*l_G.^2.*p_1 + M.*l_T.^2.*p_1 + 12*l_T.^2.*m.*p_1 + 12*l_T.*m.*p_2.*cos(theta(t))).*cos(theta(t)) + m.*(12*M.*l_G.^2 + M.*l_T.^2 + 12*l_T.^2.*m.*sin(theta(t)).^2).^2.*(2*M.*g.*l_G.*sin(theta(t)) + 2*g.*m.*(l_T.*sin(theta(t)) - x(t)) + k.*(x_0 - x(t)).^2 + k_t.*(theta_0 - theta(t)).^2) + (12*M.*l_G.^2.*p_1 + M.*l_T.^2.*p_1 + 12*l_T.^2.*m.*p_1 + 12*l_T.*m.*p_2.*cos(theta(t))).^2).*sin(theta(t)).*cos(theta(t)) + (12*M.*l_G.^2 + M.*l_T.^2 + 12*l_T.^2.*m.*sin(theta(t)).^2).*(12*M.*l_T.*p_1.*(12*l_G.^2 + l_T.^2).*(l_T.*p_1.*cos(theta(t)) + p_2).*sin(theta(t)) + 144*l_T.^3.*m.*p_1.*(l_T.*p_1.*cos(theta(t)) + p_2).*sin(theta(t)) - 144*l_T.^2.*m.*p_2.*(l_T.*p_1.*cos(theta(t)) + p_2).*sin(theta(t)).*cos(theta(t)) - 24*l_T.^2.*m.*(12*M.*l_G.^2 + M.*l_T.^2 + 12*l_T.^2.*m.*sin(theta(t)).^2).*(2*M.*g.*l_G.*sin(theta(t)) + 2*g.*m.*(l_T.*sin(theta(t)) - x(t)) + k.*(x_0 - x(t)).^2 + k_t.*(theta_0 - theta(t)).^2).*sin(theta(t)).*cos(theta(t)) - 12*l_T.^2.*p_1.*(12*M.*l_G.^2.*p_1 + M.*l_T.^2.*p_1 + 12*l_T.^2.*m.*p_1 + 12*l_T.*m.*p_2.*cos(theta(t))).*sin(theta(t)).*cos(theta(t)) + 12*l_T.*p_2.*(12*M.*l_G.^2.*p_1 + M.*l_T.^2.*p_1 + 12*l_T.^2.*m.*p_1 + 12*l_T.*m.*p_2.*cos(theta(t))).*sin(theta(t)) - 12*l_T.*(l_T.*p_1.*cos(theta(t)) + p_2).*(12*M.*l_G.^2.*p_1 + M.*l_T.^2.*p_1 + 12*l_T.^2.*m.*p_1 + 12*l_T.*m.*p_2.*cos(theta(t))).*sin(theta(t)) - (12*M.*l_G.^2 + M.*l_T.^2 + 12*l_T.^2.*m.*sin(theta(t)).^2).^2.*(M.*g.*l_G.*cos(theta(t)) + g.*l_T.*m.*cos(theta(t)) - k_t.*(theta_0 - theta(t)))))./(12*M.*l_G.^2 + M.*l_T.^2 + 12*l_T.^2.*m.*sin(theta(t)).^2).^3]\n"
     ]
    }
   ],
   "source": [
    "sympy.octave_code(pdot) |> println"
   ]
  },
  {
   "cell_type": "markdown",
   "id": "cf9b4e25",
   "metadata": {},
   "source": [
    "## Linearizing the system of equations\n",
    "\n",
    "This is a *just because we can* type of exercise.  I'm going to prescribe the equilibrium to $\\theta_{eq} = 0$, and determine the other relationships.  The state-space form of \n",
    "$$ \\dot{z} = A z + B u $$\n",
    "where the states are the linearized parts of $(p_1, p_2, x, \\theta)$"
   ]
  },
  {
   "cell_type": "code",
   "execution_count": 43,
   "id": "f40fd69c",
   "metadata": {},
   "outputs": [
    {
     "data": {
      "text/latex": [
       "$\\left[ \\begin{array}{r}g m + k \\left(x_{0} - x_{eq}\\right)\\\\- M g l_{G} - g l_{T} m + k_{t} \\theta_{0}\\end{array} \\right]$\n"
      ],
      "text/plain": [
       "2-element Vector{Sym}:\n",
       "             g*m + k*(x_0 - x_eq)\n",
       " -M*g*l_G - g*l_T*m + k_t*theta_0"
      ]
     },
     "execution_count": 43,
     "metadata": {},
     "output_type": "execute_result"
    }
   ],
   "source": [
    "xeq = symbols(\"x_eq\", real=true)\n",
    "eqn_eq = [pd |> subs(p1=>0, p2=>0, f=>0, θ=>0, x=>xeq) for pd in pdot]"
   ]
  },
  {
   "cell_type": "markdown",
   "id": "fb2551ff",
   "metadata": {},
   "source": [
    "The $\\dot{q}_k$ equations do not give any info"
   ]
  },
  {
   "cell_type": "code",
   "execution_count": 39,
   "id": "d04077f6",
   "metadata": {},
   "outputs": [
    {
     "data": {
      "text/latex": [
       "$\\left[ \\begin{array}{r}0\\\\0\\end{array} \\right]$\n"
      ],
      "text/plain": [
       "2-element Vector{Sym}:\n",
       " 0\n",
       " 0"
      ]
     },
     "execution_count": 39,
     "metadata": {},
     "output_type": "execute_result"
    }
   ],
   "source": [
    "[ qd |> subs(p1=>0, p2=>0, f=>0, θ=>0) for qd in qdot ]"
   ]
  },
  {
   "cell_type": "markdown",
   "id": "fc52db3b",
   "metadata": {},
   "source": [
    "If we want to know the unstretched length of the springs to ensure the equilbrium point is where we want it to be, then we can solve the above equations for $(x_0, \\theta_0)$"
   ]
  },
  {
   "cell_type": "code",
   "execution_count": 45,
   "id": "6e25a1bc",
   "metadata": {},
   "outputs": [
    {
     "data": {
      "text/plain": [
       "Dict{Any, Any} with 2 entries:\n",
       "  theta_0 => (M*g*l_G + g*l_T*m)/k_t\n",
       "  x_0     => (-g*m + k*x_eq)/k"
      ]
     },
     "execution_count": 45,
     "metadata": {},
     "output_type": "execute_result"
    }
   ],
   "source": [
    "solve( eqn_eq, [x0, θ0] )"
   ]
  },
  {
   "cell_type": "markdown",
   "id": "5301b0ee",
   "metadata": {},
   "source": [
    "Now let's compute the Jabocian (standard Taylor series)"
   ]
  },
  {
   "cell_type": "code",
   "execution_count": 49,
   "id": "b0d379bb",
   "metadata": {},
   "outputs": [
    {
     "data": {
      "text/latex": [
       "$\\left[ \\begin{array}{rrrr}0&0&- k&0\\\\- \\frac{12 a^{2} c l_{T}}{M \\left(12 l_{G}^{2} + l_{T}^{2}\\right)}&- \\frac{12 a^{2} c}{M \\left(12 l_{G}^{2} + l_{T}^{2}\\right)}&0&- k_{t}\\\\\\frac{12 M l_{G}^{2} + M l_{T}^{2} + 12 l_{T}^{2} m}{M m \\left(12 l_{G}^{2} + l_{T}^{2}\\right)}&\\frac{12 l_{T}}{M \\left(12 l_{G}^{2} + l_{T}^{2}\\right)}&0&0\\\\\\frac{12 l_{T}}{M \\left(12 l_{G}^{2} + l_{T}^{2}\\right)}&\\frac{12}{M \\left(12 l_{G}^{2} + l_{T}^{2}\\right)}&0&0\\end{array}\\right]$\n"
      ],
      "text/plain": [
       "4×4 Matrix{Sym}:\n",
       "                                                            0  …  -k     0\n",
       "                         -12*a^2*c*l_T/(M*(12*l_G^2 + l_T^2))      0  -k_t\n",
       " (12*M*l_G^2 + M*l_T^2 + 12*l_T^2*m)/(M*m*(12*l_G^2 + l_T^2))      0     0\n",
       "                                12*l_T/(M*(12*l_G^2 + l_T^2))      0     0"
      ]
     },
     "execution_count": 49,
     "metadata": {},
     "output_type": "execute_result"
    }
   ],
   "source": [
    "A = [ diff(ff,z) |> subs(p1=>0, p2=>0, f=>0, θ=>0, x=>xeq) |> simplify for ff in vcat(pdot, qdot), z in [p1,p2,x,θ] ]"
   ]
  },
  {
   "cell_type": "code",
   "execution_count": 52,
   "id": "a2f6a586",
   "metadata": {},
   "outputs": [
    {
     "data": {
      "text/latex": [
       "$\\left[ \\begin{array}{r}0\\\\l_{f}\\\\0\\\\0\\end{array} \\right]$\n"
      ],
      "text/plain": [
       "4-element Vector{Sym}:\n",
       "   0\n",
       " l_f\n",
       "   0\n",
       "   0"
      ]
     },
     "execution_count": 52,
     "metadata": {},
     "output_type": "execute_result"
    }
   ],
   "source": [
    "B = [ diff(ff, f) |> subs(p1=>0, p2=>0, f=>0, θ=>0, x=>xeq) for ff in vcat(pdot, qdot) ]"
   ]
  },
  {
   "cell_type": "code",
   "execution_count": null,
   "id": "4055c1c1",
   "metadata": {},
   "outputs": [],
   "source": []
  }
 ],
 "metadata": {
  "kernelspec": {
   "display_name": "Julia 1.6.0",
   "language": "julia",
   "name": "julia-1.6"
  },
  "language_info": {
   "file_extension": ".jl",
   "mimetype": "application/julia",
   "name": "julia",
   "version": "1.6.0"
  }
 },
 "nbformat": 4,
 "nbformat_minor": 5
}
