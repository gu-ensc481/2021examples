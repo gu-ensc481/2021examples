{
 "cells": [
  {
   "cell_type": "markdown",
   "id": "activated-colleague",
   "metadata": {},
   "source": [
    "# Example Rolling Cylinder\n",
    "\n",
    "![System sketch](./sketch.svg)"
   ]
  },
  {
   "cell_type": "code",
   "execution_count": 1,
   "id": "continuing-clearing",
   "metadata": {},
   "outputs": [],
   "source": [
    "using SymPy"
   ]
  },
  {
   "cell_type": "code",
   "execution_count": 2,
   "id": "north-murray",
   "metadata": {},
   "outputs": [],
   "source": [
    "c, k, m, JG, γ, r, t = symbols(\"c, k, m, J_G, gamma, r, t\", real=true, positive=true)\n",
    "x = SymFunction(\"x\")(t)\n",
    "M = SymFunction(\"M\")(t)\n",
    "f = SymFunction(\"f\")(t)\n",
    ";"
   ]
  },
  {
   "cell_type": "code",
   "execution_count": 3,
   "id": "optimum-separation",
   "metadata": {},
   "outputs": [
    {
     "data": {
      "text/latex": [
       "$\\left[ \\begin{array}{r}x{\\left(t \\right)}\\\\0\\\\0\\end{array} \\right]$\n"
      ],
      "text/plain": [
       "3-element Vector{Sym}:\n",
       " x(t)\n",
       "    0\n",
       "    0"
      ]
     },
     "execution_count": 3,
     "metadata": {},
     "output_type": "execute_result"
    }
   ],
   "source": [
    "ihat = [1,0,0]\n",
    "jhat = [0,1,0]\n",
    "khat = [0,0,1]\n",
    "rG = x*ihat"
   ]
  },
  {
   "cell_type": "code",
   "execution_count": 4,
   "id": "sharing-certificate",
   "metadata": {},
   "outputs": [
    {
     "data": {
      "text/latex": [
       "$\\begin{equation*}- \\frac{x{\\left(t \\right)}}{r}\\end{equation*}$\n"
      ],
      "text/plain": [
       "-x(t) \n",
       "------\n",
       "  r   "
      ]
     },
     "execution_count": 4,
     "metadata": {},
     "output_type": "execute_result"
    }
   ],
   "source": [
    "θ = -x/r"
   ]
  },
  {
   "cell_type": "code",
   "execution_count": 5,
   "id": "quantitative-chicken",
   "metadata": {},
   "outputs": [
    {
     "data": {
      "text/plain": [
       "dot (generic function with 1 method)"
      ]
     },
     "execution_count": 5,
     "metadata": {},
     "output_type": "execute_result"
    }
   ],
   "source": [
    "dot(a,b) = sum( a.*b )"
   ]
  },
  {
   "cell_type": "code",
   "execution_count": 6,
   "id": "political-birthday",
   "metadata": {},
   "outputs": [
    {
     "data": {
      "text/latex": [
       "$\\begin{equation*}\\frac{J_{G} \\left(\\frac{d}{d t} x{\\left(t \\right)}\\right)^{2}}{2 r^{2}} + \\frac{m \\left(\\frac{d}{d t} x{\\left(t \\right)}\\right)^{2}}{2}\\end{equation*}$\n"
      ],
      "text/plain": [
       "              2               2\n",
       "    /d       \\      /d       \\ \n",
       "J_G*|--(x(t))|    m*|--(x(t))| \n",
       "    \\dt      /      \\dt      / \n",
       "--------------- + -------------\n",
       "         2              2      \n",
       "      2*r                      "
      ]
     },
     "execution_count": 6,
     "metadata": {},
     "output_type": "execute_result"
    }
   ],
   "source": [
    "V = 1//2*k*x^2\n",
    "D = 1//2*c*diff(x,t)^2\n",
    "T = 1//2*m*dot( diff.(rG,t), diff.(rG,t) ) + 1//2*JG*diff(θ,t)^2"
   ]
  },
  {
   "cell_type": "code",
   "execution_count": 7,
   "id": "brilliant-george",
   "metadata": {},
   "outputs": [
    {
     "data": {
      "text/latex": [
       "$\\left[ \\begin{array}{r}r \\cos{\\left(\\gamma + \\frac{x{\\left(t \\right)}}{r} \\right)} + x{\\left(t \\right)}\\\\r \\sin{\\left(\\gamma + \\frac{x{\\left(t \\right)}}{r} \\right)}\\\\0\\end{array} \\right]$\n"
      ],
      "text/plain": [
       "3-element Vector{Sym}:\n",
       " r*cos(gamma + x(t)/r) + x(t)\n",
       "        r*sin(gamma + x(t)/r)\n",
       "                            0"
      ]
     },
     "execution_count": 7,
     "metadata": {},
     "output_type": "execute_result"
    }
   ],
   "source": [
    "β = γ - θ\n",
    "rf = x*ihat + r*(cos(β)*ihat + sin(β)*jhat)"
   ]
  },
  {
   "cell_type": "code",
   "execution_count": 8,
   "id": "floating-syntax",
   "metadata": {},
   "outputs": [
    {
     "data": {
      "text/latex": [
       "$\\begin{equation*}\\left(1 - \\sin{\\left(\\gamma + \\frac{x{\\left(t \\right)}}{r} \\right)}\\right) f{\\left(t \\right)} - \\frac{M{\\left(t \\right)}}{r}\\end{equation*}$\n"
      ],
      "text/plain": [
       "/       /        x(t)\\\\        M(t)\n",
       "|1 - sin|gamma + ----||*f(t) - ----\n",
       "\\       \\         r  //         r  "
      ]
     },
     "execution_count": 8,
     "metadata": {},
     "output_type": "execute_result"
    }
   ],
   "source": [
    "Q = dot( f*ihat, diff.(rf,x) ) + dot( M*khat, diff.( diff(θ,t)*khat, diff(x,t)) )"
   ]
  },
  {
   "cell_type": "code",
   "execution_count": 9,
   "id": "practical-expense",
   "metadata": {},
   "outputs": [
    {
     "data": {
      "text/latex": [
       "$\\begin{equation*}\\frac{J_{G} \\left(\\frac{d}{d t} x{\\left(t \\right)}\\right)^{2}}{2 r^{2}} - \\frac{k x^{2}{\\left(t \\right)}}{2} + \\frac{m \\left(\\frac{d}{d t} x{\\left(t \\right)}\\right)^{2}}{2}\\end{equation*}$\n"
      ],
      "text/plain": [
       "              2                         2\n",
       "    /d       \\                /d       \\ \n",
       "J_G*|--(x(t))|       2      m*|--(x(t))| \n",
       "    \\dt      /    k*x (t)     \\dt      / \n",
       "--------------- - ------- + -------------\n",
       "         2           2            2      \n",
       "      2*r                                "
      ]
     },
     "execution_count": 9,
     "metadata": {},
     "output_type": "execute_result"
    }
   ],
   "source": [
    "L = T-V"
   ]
  },
  {
   "cell_type": "code",
   "execution_count": 10,
   "id": "impossible-yesterday",
   "metadata": {},
   "outputs": [
    {
     "data": {
      "text/latex": [
       "$\\begin{equation*}c \\frac{d}{d t} x{\\left(t \\right)} + k x{\\left(t \\right)} + \\left(\\frac{J_{G}}{r^{2}} + m\\right) \\frac{d^{2}}{d t^{2}} x{\\left(t \\right)} = \\left(1 - \\sin{\\left(\\gamma + \\frac{x{\\left(t \\right)}}{r} \\right)}\\right) f{\\left(t \\right)} - \\frac{M{\\left(t \\right)}}{r}\\end{equation*}$\n"
      ],
      "text/plain": [
       "                                  2                                           \n",
       "  d                   /J_G    \\  d          /       /        x(t)\\\\        M(t\n",
       "c*--(x(t)) + k*x(t) + |--- + m|*---(x(t)) = |1 - sin|gamma + ----||*f(t) - ---\n",
       "  dt                  |  2    |   2         \\       \\         r  //         r \n",
       "                      \\ r     / dt                                            \n",
       "\n",
       " \n",
       ")\n",
       "-\n",
       " \n",
       " "
      ]
     },
     "execution_count": 10,
     "metadata": {},
     "output_type": "execute_result"
    }
   ],
   "source": [
    "Eq( diff(L, diff(x,t), t) - diff(L,x) + diff(D,diff(x,t)), Q )"
   ]
  },
  {
   "cell_type": "code",
   "execution_count": null,
   "id": "breeding-moscow",
   "metadata": {},
   "outputs": [],
   "source": []
  },
  {
   "cell_type": "code",
   "execution_count": null,
   "id": "deluxe-highlight",
   "metadata": {},
   "outputs": [],
   "source": []
  },
  {
   "cell_type": "code",
   "execution_count": null,
   "id": "after-harvey",
   "metadata": {},
   "outputs": [],
   "source": []
  }
 ],
 "metadata": {
  "kernelspec": {
   "display_name": "Julia 1.6.0",
   "language": "julia",
   "name": "julia-1.6"
  },
  "language_info": {
   "file_extension": ".jl",
   "mimetype": "application/julia",
   "name": "julia",
   "version": "1.6.0"
  }
 },
 "nbformat": 4,
 "nbformat_minor": 5
}
