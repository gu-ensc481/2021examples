{
 "cells": [
  {
   "cell_type": "markdown",
   "id": "86c48927",
   "metadata": {},
   "source": [
    "# Udwadia-Kalaba of the simple pendulum"
   ]
  },
  {
   "cell_type": "code",
   "execution_count": 1,
   "id": "9c685db2",
   "metadata": {},
   "outputs": [],
   "source": [
    "using SymPy, LinearAlgebra"
   ]
  },
  {
   "cell_type": "code",
   "execution_count": 2,
   "id": "f01d4ba5",
   "metadata": {},
   "outputs": [],
   "source": [
    "m, g, l, t = symbols(\"m,g,l,t\", real=true, positive=true)\n",
    "x = SymFunction(\"x\", real=true)(t)\n",
    "y = SymFunction(\"y\", real=true)(t);"
   ]
  },
  {
   "cell_type": "code",
   "execution_count": 3,
   "id": "ab7fb771",
   "metadata": {},
   "outputs": [
    {
     "data": {
      "text/latex": [
       "$\\left[ \\begin{array}{rr}m&0\\\\0&m\\end{array}\\right]$\n"
      ],
      "text/plain": [
       "2×2 Matrix{Sym}:\n",
       " m  0\n",
       " 0  m"
      ]
     },
     "execution_count": 3,
     "metadata": {},
     "output_type": "execute_result"
    }
   ],
   "source": [
    "M = diagm( 0=>[m,m] )"
   ]
  },
  {
   "cell_type": "code",
   "execution_count": 4,
   "id": "0f5886e4",
   "metadata": {},
   "outputs": [
    {
     "data": {
      "text/latex": [
       "$\\left[ \\begin{array}{r}0\\\\- g m\\end{array} \\right]$\n"
      ],
      "text/plain": [
       "2-element Vector{Sym}:\n",
       "    0\n",
       " -g*m"
      ]
     },
     "execution_count": 4,
     "metadata": {},
     "output_type": "execute_result"
    }
   ],
   "source": [
    "Qex = [ 0, -m*g]"
   ]
  },
  {
   "cell_type": "code",
   "execution_count": 5,
   "id": "34c478c8",
   "metadata": {},
   "outputs": [
    {
     "data": {
      "text/latex": [
       "$\\begin{equation*}- l^{2} + x^{2}{\\left(t \\right)} + y^{2}{\\left(t \\right)}\\end{equation*}$\n"
      ],
      "text/plain": [
       "   2    2       2   \n",
       "- l  + x (t) + y (t)"
      ]
     },
     "execution_count": 5,
     "metadata": {},
     "output_type": "execute_result"
    }
   ],
   "source": [
    "ϕ = -l^2 + x^2 + y^2"
   ]
  },
  {
   "cell_type": "code",
   "execution_count": 6,
   "id": "4eaf6d3b",
   "metadata": {},
   "outputs": [
    {
     "data": {
      "text/latex": [
       "$\\left[ \\begin{array}{rr}\\sqrt{m}&0\\\\0&\\sqrt{m}\\end{array}\\right]$\n"
      ],
      "text/plain": [
       "2×2 Matrix{Sym}:\n",
       " sqrt(m)        0\n",
       "       0  sqrt(m)"
      ]
     },
     "execution_count": 6,
     "metadata": {},
     "output_type": "execute_result"
    }
   ],
   "source": [
    "# since sqrt(M) does not work for symbolic matrices\n",
    "Ms = diagm(0 =>[sqrt(m), sqrt(m)] )"
   ]
  },
  {
   "cell_type": "code",
   "execution_count": 39,
   "id": "4f08ba96",
   "metadata": {},
   "outputs": [
    {
     "data": {
      "text/latex": [
       "$\\left[ \\begin{array}{rr}2 x{\\left(t \\right)}&2 y{\\left(t \\right)}\\end{array}\\right]$\n"
      ],
      "text/plain": [
       "1×2 adjoint(::Vector{Sym}) with eltype Sym:\n",
       " 2*x(t)  2*y(t)"
      ]
     },
     "execution_count": 39,
     "metadata": {},
     "output_type": "execute_result"
    }
   ],
   "source": [
    "dot(a,b) = sum(a .* b)\n",
    "A = [ diff(ϕ,q) for q in [x,y] ]'"
   ]
  },
  {
   "cell_type": "code",
   "execution_count": 40,
   "id": "b0424662",
   "metadata": {},
   "outputs": [
    {
     "data": {
      "text/latex": [
       "$\\left[ \\begin{array}{r}\\frac{d}{d t} x{\\left(t \\right)}\\\\\\frac{d}{d t} y{\\left(t \\right)}\\end{array} \\right]$\n"
      ],
      "text/plain": [
       "2-element Vector{Sym}:\n",
       " Derivative(x(t), t)\n",
       " Derivative(y(t), t)"
      ]
     },
     "execution_count": 40,
     "metadata": {},
     "output_type": "execute_result"
    }
   ],
   "source": [
    "qd = [diff(x,t), diff(y,t)]"
   ]
  },
  {
   "cell_type": "code",
   "execution_count": 41,
   "id": "3ce4d675",
   "metadata": {},
   "outputs": [
    {
     "data": {
      "text/latex": [
       "$\\left[ \\begin{array}{rr}2&0\\\\0&2\\end{array}\\right]$\n"
      ],
      "text/plain": [
       "2×2 Matrix{Sym}:\n",
       " 2  0\n",
       " 0  2"
      ]
     },
     "execution_count": 41,
     "metadata": {},
     "output_type": "execute_result"
    }
   ],
   "source": [
    "# The Hessian matrix\n",
    "H = [ diff(ϕ,q1,q2) for q1 in [x,y], q2 in [x,y] ]"
   ]
  },
  {
   "cell_type": "code",
   "execution_count": 42,
   "id": "64582b39",
   "metadata": {},
   "outputs": [
    {
     "data": {
      "text/latex": [
       "$\\begin{equation*}- 2 \\left(\\frac{d}{d t} x{\\left(t \\right)}\\right)^{2} - 2 \\left(\\frac{d}{d t} y{\\left(t \\right)}\\right)^{2}\\end{equation*}$\n"
      ],
      "text/plain": [
       "              2               2\n",
       "    /d       \\      /d       \\ \n",
       "- 2*|--(x(t))|  - 2*|--(y(t))| \n",
       "    \\dt      /      \\dt      / "
      ]
     },
     "execution_count": 42,
     "metadata": {},
     "output_type": "execute_result"
    }
   ],
   "source": [
    "b = -dot(qd,H*qd) |> simplify"
   ]
  },
  {
   "cell_type": "code",
   "execution_count": 43,
   "id": "0d46bd4a",
   "metadata": {},
   "outputs": [
    {
     "data": {
      "text/latex": [
       "$\\left[ \\begin{array}{r}\\frac{2 \\left(2 g y{\\left(t \\right)} - 2 \\left(\\frac{d}{d t} x{\\left(t \\right)}\\right)^{2} - 2 \\left(\\frac{d}{d t} y{\\left(t \\right)}\\right)^{2}\\right) x{\\left(t \\right)}}{m \\left(\\frac{4 x^{2}{\\left(t \\right)}}{m} + \\frac{4 y^{2}{\\left(t \\right)}}{m}\\right)}\\\\\\frac{- g m + \\frac{2 \\left(2 g y{\\left(t \\right)} - 2 \\left(\\frac{d}{d t} x{\\left(t \\right)}\\right)^{2} - 2 \\left(\\frac{d}{d t} y{\\left(t \\right)}\\right)^{2}\\right) y{\\left(t \\right)}}{\\frac{4 x^{2}{\\left(t \\right)}}{m} + \\frac{4 y^{2}{\\left(t \\right)}}{m}}}{m}\\end{array} \\right]$\n"
      ],
      "text/plain": [
       "2-element Vector{Sym}:\n",
       "        2*(2*g*y(t) - 2*Derivative(x(t), t)^2 - 2*Derivative(y(t), t)^2)*x(t)/(m*(4*x(t)^2/m + 4*y(t)^2/m))\n",
       " (-g*m + 2*(2*g*y(t) - 2*Derivative(x(t), t)^2 - 2*Derivative(y(t), t)^2)*y(t)/(4*x(t)^2/m + 4*y(t)^2/m))/m"
      ]
     },
     "execution_count": 43,
     "metadata": {},
     "output_type": "execute_result"
    }
   ],
   "source": [
    "P = A*inv(Ms)\n",
    "Ppinv = P'*inv(P*P')\n",
    "eq1 =  inv(M)*( Qex + Ms*Ppinv*(b - A*inv(M)*Qex) )"
   ]
  },
  {
   "cell_type": "code",
   "execution_count": 44,
   "id": "e93289f7",
   "metadata": {},
   "outputs": [
    {
     "data": {
      "text/latex": [
       "$\\left[ \\begin{array}{r}\\frac{\\left(g y{\\left(t \\right)} - \\left(\\frac{d}{d t} x{\\left(t \\right)}\\right)^{2} - \\left(\\frac{d}{d t} y{\\left(t \\right)}\\right)^{2}\\right) x{\\left(t \\right)}}{x^{2}{\\left(t \\right)} + y^{2}{\\left(t \\right)}}\\\\- \\frac{g x^{2}{\\left(t \\right)} + y{\\left(t \\right)} \\left(\\frac{d}{d t} x{\\left(t \\right)}\\right)^{2} + y{\\left(t \\right)} \\left(\\frac{d}{d t} y{\\left(t \\right)}\\right)^{2}}{x^{2}{\\left(t \\right)} + y^{2}{\\left(t \\right)}}\\end{array} \\right]$\n"
      ],
      "text/plain": [
       "2-element Vector{Sym}:\n",
       "         (g*y(t) - Derivative(x(t), t)^2 - Derivative(y(t), t)^2)*x(t)/(x(t)^2 + y(t)^2)\n",
       " -(g*x(t)^2 + y(t)*Derivative(x(t), t)^2 + y(t)*Derivative(y(t), t)^2)/(x(t)^2 + y(t)^2)"
      ]
     },
     "execution_count": 44,
     "metadata": {},
     "output_type": "execute_result"
    }
   ],
   "source": [
    "eq1 = simplify.(eq1)"
   ]
  },
  {
   "cell_type": "code",
   "execution_count": null,
   "id": "5ee3acc7",
   "metadata": {},
   "outputs": [],
   "source": []
  }
 ],
 "metadata": {
  "kernelspec": {
   "display_name": "Julia 1.6.0",
   "language": "julia",
   "name": "julia-1.6"
  },
  "language_info": {
   "file_extension": ".jl",
   "mimetype": "application/julia",
   "name": "julia",
   "version": "1.6.0"
  }
 },
 "nbformat": 4,
 "nbformat_minor": 5
}
