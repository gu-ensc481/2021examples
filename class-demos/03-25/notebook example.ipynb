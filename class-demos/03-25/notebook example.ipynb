{
 "cells": [
  {
   "cell_type": "markdown",
   "id": "desirable-drunk",
   "metadata": {},
   "source": [
    "# This is a title\n",
    "This is regular text.\n",
    "\n",
    "$$ \\sum \\vec{F} = m \\vec{a} $$ "
   ]
  },
  {
   "cell_type": "code",
   "execution_count": 3,
   "id": "million-photograph",
   "metadata": {},
   "outputs": [],
   "source": [
    "using SymPy"
   ]
  },
  {
   "cell_type": "code",
   "execution_count": 5,
   "id": "streaming-heath",
   "metadata": {},
   "outputs": [
    {
     "data": {
      "text/plain": [
       "(N, θ, m, g, u)"
      ]
     },
     "execution_count": 5,
     "metadata": {},
     "output_type": "execute_result"
    }
   ],
   "source": [
    "@vars N θ m g u"
   ]
  },
  {
   "cell_type": "code",
   "execution_count": 14,
   "id": "still-anthropology",
   "metadata": {},
   "outputs": [
    {
     "data": {
      "text/plain": [
       "(N, theta, m, g, t)"
      ]
     },
     "execution_count": 14,
     "metadata": {},
     "output_type": "execute_result"
    }
   ],
   "source": [
    "N,θ,m,g,t = symbols(\"N, theta, m, g, t\", real=true, positive=true)"
   ]
  },
  {
   "cell_type": "code",
   "execution_count": 15,
   "id": "continuous-flashing",
   "metadata": {},
   "outputs": [
    {
     "data": {
      "text/latex": [
       "$\\begin{equation*}u{\\left(t \\right)}\\end{equation*}$\n"
      ],
      "text/plain": [
       "u(t)"
      ]
     },
     "execution_count": 15,
     "metadata": {},
     "output_type": "execute_result"
    }
   ],
   "source": [
    "u = SymFunction(\"u\")(t)"
   ]
  },
  {
   "cell_type": "code",
   "execution_count": 29,
   "id": "sticky-climate",
   "metadata": {},
   "outputs": [
    {
     "data": {
      "text/latex": [
       "$\\begin{equation*}\\frac{d^{2}}{d t^{2}} u{\\left(t \\right)}\\end{equation*}$\n"
      ],
      "text/plain": [
       "  2      \n",
       " d       \n",
       "---(u(t))\n",
       "  2      \n",
       "dt       "
      ]
     },
     "execution_count": 29,
     "metadata": {},
     "output_type": "execute_result"
    }
   ],
   "source": [
    "a = diff(u,t,t)"
   ]
  },
  {
   "cell_type": "code",
   "execution_count": 32,
   "id": "generic-recorder",
   "metadata": {},
   "outputs": [],
   "source": [
    "ihat = [1,0,0]\n",
    "jhat = [0,1,0];"
   ]
  },
  {
   "cell_type": "code",
   "execution_count": 36,
   "id": "sudden-india",
   "metadata": {},
   "outputs": [
    {
     "data": {
      "text/latex": [
       "$\\left[ \\begin{array}{r}N \\sin{\\left(\\theta \\right)} - m \\cos{\\left(\\theta \\right)} \\frac{d^{2}}{d t^{2}} u{\\left(t \\right)}\\\\N \\cos{\\left(\\theta \\right)} - g m + m \\sin{\\left(\\theta \\right)} \\frac{d^{2}}{d t^{2}} u{\\left(t \\right)}\\\\0\\end{array} \\right]$\n"
      ],
      "text/plain": [
       "3-element Vector{Sym}:\n",
       "       N*sin(theta) - m*cos(theta)*Derivative(u(t), (t, 2))\n",
       " N*cos(theta) - g*m + m*sin(theta)*Derivative(u(t), (t, 2))\n",
       "                                                          0"
      ]
     },
     "execution_count": 36,
     "metadata": {},
     "output_type": "execute_result"
    }
   ],
   "source": [
    "eq = N*(sin(θ)*ihat + cos(θ)*jhat) - m*g*jhat - m*diff(u,t,t)*(cos(θ)*ihat - sin(θ)*jhat)"
   ]
  },
  {
   "cell_type": "code",
   "execution_count": 44,
   "id": "considered-estimate",
   "metadata": {},
   "outputs": [
    {
     "data": {
      "text/plain": [
       "Dict{Any, Any} with 2 entries:\n",
       "  N                        => g*m*cos(theta)/(sin(theta)^2 + cos(theta)^2)\n",
       "  Derivative(u(t), (t, 2)) => g*sin(theta)/(sin(theta)^2 + cos(theta)^2)"
      ]
     },
     "execution_count": 44,
     "metadata": {},
     "output_type": "execute_result"
    }
   ],
   "source": [
    "sol = solve( eq,[diff(u,t,t), N], dict=true )[1] "
   ]
  },
  {
   "cell_type": "code",
   "execution_count": 45,
   "id": "guided-newsletter",
   "metadata": {},
   "outputs": [
    {
     "data": {
      "text/latex": [
       "$\\begin{equation*}\\frac{g m \\cos{\\left(\\theta \\right)}}{\\sin^{2}{\\left(\\theta \\right)} + \\cos^{2}{\\left(\\theta \\right)}}\\end{equation*}$\n"
      ],
      "text/plain": [
       "      g*m*cos(theta)     \n",
       "-------------------------\n",
       "   2             2       \n",
       "sin (theta) + cos (theta)"
      ]
     },
     "execution_count": 45,
     "metadata": {},
     "output_type": "execute_result"
    }
   ],
   "source": [
    "sol[N]"
   ]
  },
  {
   "cell_type": "code",
   "execution_count": 47,
   "id": "continuing-banner",
   "metadata": {},
   "outputs": [
    {
     "data": {
      "text/latex": [
       "$\\begin{equation*}g \\sin{\\left(\\theta \\right)}\\end{equation*}$\n"
      ],
      "text/plain": [
       "g*sin(theta)"
      ]
     },
     "execution_count": 47,
     "metadata": {},
     "output_type": "execute_result"
    }
   ],
   "source": [
    "simplify( sol[diff(u,t,t)] )"
   ]
  },
  {
   "cell_type": "code",
   "execution_count": 51,
   "id": "imported-basket",
   "metadata": {},
   "outputs": [
    {
     "data": {
      "text/latex": [
       "$\\begin{equation*}g \\sin{\\left(\\theta \\right)}\\end{equation*}$\n"
      ],
      "text/plain": [
       "g*sin(theta)"
      ]
     },
     "execution_count": 51,
     "metadata": {},
     "output_type": "execute_result"
    }
   ],
   "source": [
    "sol[diff(u,t,t)] |> simplify"
   ]
  },
  {
   "cell_type": "code",
   "execution_count": null,
   "id": "essential-liquid",
   "metadata": {},
   "outputs": [],
   "source": []
  }
 ],
 "metadata": {
  "kernelspec": {
   "display_name": "Julia 1.6.0",
   "language": "julia",
   "name": "julia-1.6"
  },
  "language_info": {
   "file_extension": ".jl",
   "mimetype": "application/julia",
   "name": "julia",
   "version": "1.6.0"
  }
 },
 "nbformat": 4,
 "nbformat_minor": 5
}
