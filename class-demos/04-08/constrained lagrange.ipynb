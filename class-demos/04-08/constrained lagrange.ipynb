{
 "cells": [
  {
   "cell_type": "markdown",
   "id": "7ab6714d",
   "metadata": {},
   "source": [
    "# Example\n",
    "Constrained Lagrange's Equation for a pendulum"
   ]
  },
  {
   "cell_type": "code",
   "execution_count": 1,
   "id": "00ecfb61",
   "metadata": {},
   "outputs": [],
   "source": [
    "using SymPy"
   ]
  },
  {
   "cell_type": "code",
   "execution_count": 2,
   "id": "da16a2c1",
   "metadata": {},
   "outputs": [
    {
     "data": {
      "text/latex": [
       "$\\begin{equation*}\\lambda{\\left(t \\right)}\\end{equation*}$\n"
      ],
      "text/plain": [
       "lambda(t)"
      ]
     },
     "execution_count": 2,
     "metadata": {},
     "output_type": "execute_result"
    }
   ],
   "source": [
    "m,g, l, t = symbols(\"m,g,l,t\", real=true, positive=true)\n",
    "x = SymFunction(\"x\")(t)\n",
    "y = SymFunction(\"y\")(t)\n",
    "λ = SymFunction(\"lambda\")(t)"
   ]
  },
  {
   "cell_type": "code",
   "execution_count": 3,
   "id": "1937c620",
   "metadata": {},
   "outputs": [
    {
     "data": {
      "text/latex": [
       "$\\left[ \\begin{array}{r}m \\frac{d^{2}}{d t^{2}} x{\\left(t \\right)} + 2 \\lambda{\\left(t \\right)} x{\\left(t \\right)}\\\\g m + m \\frac{d^{2}}{d t^{2}} y{\\left(t \\right)} + 2 \\lambda{\\left(t \\right)} y{\\left(t \\right)}\\\\- l^{2} + x^{2}{\\left(t \\right)} + y^{2}{\\left(t \\right)}\\end{array} \\right]$\n"
      ],
      "text/plain": [
       "3-element Vector{Sym}:\n",
       "       m*Derivative(x(t), (t, 2)) + 2*lambda(t)*x(t)\n",
       " g*m + m*Derivative(y(t), (t, 2)) + 2*lambda(t)*y(t)\n",
       "                              -l^2 + x(t)^2 + y(t)^2"
      ]
     },
     "execution_count": 3,
     "metadata": {},
     "output_type": "execute_result"
    }
   ],
   "source": [
    "eq = [ m*diff(x,t,t) + 2*λ*x, \n",
    "  m*diff(y,t,t) + m*g + 2*λ*y,\n",
    "    -l^2 + x^2 + y^2 ]"
   ]
  },
  {
   "cell_type": "code",
   "execution_count": 4,
   "id": "690f44d2",
   "metadata": {},
   "outputs": [
    {
     "data": {
      "text/plain": [
       "Dict{Any, Any} with 2 entries:\n",
       "  Derivative(x(t), (t, 2)) => -2*lambda(t)*x(t)/m\n",
       "  Derivative(y(t), (t, 2)) => -g - 2*lambda(t)*y(t)/m"
      ]
     },
     "execution_count": 4,
     "metadata": {},
     "output_type": "execute_result"
    }
   ],
   "source": [
    "solve(eq, [diff(x,t,t), diff(y,t,t), λ])"
   ]
  },
  {
   "cell_type": "markdown",
   "id": "5182c313",
   "metadata": {},
   "source": [
    "Note: we can't eliminate $\\lambda$ with this system of equations.  To get around this, we'll differentiate the constraint twice, and then solve."
   ]
  },
  {
   "cell_type": "code",
   "execution_count": 5,
   "id": "58e5dee6",
   "metadata": {},
   "outputs": [
    {
     "data": {
      "text/latex": [
       "$\\left[ \\begin{array}{r}m \\frac{d^{2}}{d t^{2}} x{\\left(t \\right)} + 2 \\lambda{\\left(t \\right)} x{\\left(t \\right)}\\\\g m + m \\frac{d^{2}}{d t^{2}} y{\\left(t \\right)} + 2 \\lambda{\\left(t \\right)} y{\\left(t \\right)}\\\\2 \\left(x{\\left(t \\right)} \\frac{d^{2}}{d t^{2}} x{\\left(t \\right)} + y{\\left(t \\right)} \\frac{d^{2}}{d t^{2}} y{\\left(t \\right)} + \\left(\\frac{d}{d t} x{\\left(t \\right)}\\right)^{2} + \\left(\\frac{d}{d t} y{\\left(t \\right)}\\right)^{2}\\right)\\end{array} \\right]$\n"
      ],
      "text/plain": [
       "3-element Vector{Sym}:\n",
       "                                                                     m*Derivative(x(t), (t, 2)) + 2*lambda(t)*x(t)\n",
       "                                                               g*m + m*Derivative(y(t), (t, 2)) + 2*lambda(t)*y(t)\n",
       " 2*(x(t)*Derivative(x(t), (t, 2)) + y(t)*Derivative(y(t), (t, 2)) + Derivative(x(t), t)^2 + Derivative(y(t), t)^2)"
      ]
     },
     "execution_count": 5,
     "metadata": {},
     "output_type": "execute_result"
    }
   ],
   "source": [
    "eq2 = [ eq[1],eq[2], diff(eq[3],t,t) ]"
   ]
  },
  {
   "cell_type": "code",
   "execution_count": 6,
   "id": "97cf8a3a",
   "metadata": {},
   "outputs": [
    {
     "data": {
      "text/plain": [
       "Dict{Any, Any} with 3 entries:\n",
       "  Derivative(x(t), (t, 2)) => g*x(t)*y(t)/(x(t)^2 + y(t)^2) - x(t)*Derivative(x…\n",
       "  Derivative(y(t), (t, 2)) => -g*x(t)^2/(x(t)^2 + y(t)^2) - y(t)*Derivative(x(t…\n",
       "  lambda(t)                => -g*m*y(t)/(2*x(t)^2 + 2*y(t)^2) + m*Derivative(x(…"
      ]
     },
     "execution_count": 6,
     "metadata": {},
     "output_type": "execute_result"
    }
   ],
   "source": [
    "sol = solve( eq2,[diff(x,t,t), diff(y,t,t), λ])"
   ]
  },
  {
   "cell_type": "code",
   "execution_count": 7,
   "id": "af2848ff",
   "metadata": {},
   "outputs": [
    {
     "data": {
      "text/latex": [
       "$\\begin{equation*}\\frac{\\left(g y{\\left(t \\right)} - \\left(\\frac{d}{d t} x{\\left(t \\right)}\\right)^{2} - \\left(\\frac{d}{d t} y{\\left(t \\right)}\\right)^{2}\\right) x{\\left(t \\right)}}{x^{2}{\\left(t \\right)} + y^{2}{\\left(t \\right)}}\\end{equation*}$\n"
      ],
      "text/plain": [
       "/                   2             2\\     \n",
       "|         /d       \\    /d       \\ |     \n",
       "|g*y(t) - |--(x(t))|  - |--(y(t))| |*x(t)\n",
       "\\         \\dt      /    \\dt      / /     \n",
       "-----------------------------------------\n",
       "               2       2                 \n",
       "              x (t) + y (t)              "
      ]
     },
     "execution_count": 7,
     "metadata": {},
     "output_type": "execute_result"
    }
   ],
   "source": [
    "sol[diff(x,t,t)] |> simplify"
   ]
  },
  {
   "cell_type": "code",
   "execution_count": 8,
   "id": "8dd3c6e4",
   "metadata": {},
   "outputs": [
    {
     "data": {
      "text/latex": [
       "$\\begin{equation*}- \\frac{g x^{2}{\\left(t \\right)} + y{\\left(t \\right)} \\left(\\frac{d}{d t} x{\\left(t \\right)}\\right)^{2} + y{\\left(t \\right)} \\left(\\frac{d}{d t} y{\\left(t \\right)}\\right)^{2}}{x^{2}{\\left(t \\right)} + y^{2}{\\left(t \\right)}}\\end{equation*}$\n"
      ],
      "text/plain": [
       " /                         2                  2\\ \n",
       " |   2           /d       \\         /d       \\ | \n",
       "-|g*x (t) + y(t)*|--(x(t))|  + y(t)*|--(y(t))| | \n",
       " \\               \\dt      /         \\dt      / / \n",
       "-------------------------------------------------\n",
       "                   2       2                     \n",
       "                  x (t) + y (t)                  "
      ]
     },
     "execution_count": 8,
     "metadata": {},
     "output_type": "execute_result"
    }
   ],
   "source": [
    "sol[diff(y,t,t)] |> simplify"
   ]
  },
  {
   "cell_type": "markdown",
   "id": "4d8c1ec7",
   "metadata": {},
   "source": [
    "Exporting these equations, so we can integrate them in matlab:"
   ]
  },
  {
   "cell_type": "code",
   "execution_count": 11,
   "id": "4982e4f7",
   "metadata": {},
   "outputs": [
    {
     "name": "stdout",
     "output_type": "stream",
     "text": [
      "% Not supported in Octave:\n",
      "% Derivative\n",
      "% Derivative\n",
      "% x\n",
      "% y\n",
      "(g.*y(t) - Derivative(x(t), t).^2 - Derivative(y(t), t).^2).*x(t)./(x(t).^2 + y(t).^2)\n"
     ]
    }
   ],
   "source": [
    "sympy.octave_code( sol[diff(x,t,t)] |> simplify ) |> println"
   ]
  },
  {
   "cell_type": "code",
   "execution_count": 12,
   "id": "48a3f6d5",
   "metadata": {},
   "outputs": [
    {
     "name": "stdout",
     "output_type": "stream",
     "text": [
      "% Not supported in Octave:\n",
      "% Derivative\n",
      "% Derivative\n",
      "% x\n",
      "% y\n",
      "-(g.*x(t).^2 + y(t).*Derivative(x(t), t).^2 + y(t).*Derivative(y(t), t).^2)./(x(t).^2 + y(t).^2)\n"
     ]
    }
   ],
   "source": [
    "sympy.octave_code( sol[diff(y,t,t)] |> simplify ) |> println"
   ]
  },
  {
   "cell_type": "code",
   "execution_count": null,
   "id": "459be1ee",
   "metadata": {},
   "outputs": [],
   "source": []
  }
 ],
 "metadata": {
  "kernelspec": {
   "display_name": "Julia 1.6.0",
   "language": "julia",
   "name": "julia-1.6"
  },
  "language_info": {
   "file_extension": ".jl",
   "mimetype": "application/julia",
   "name": "julia",
   "version": "1.6.0"
  }
 },
 "nbformat": 4,
 "nbformat_minor": 5
}
